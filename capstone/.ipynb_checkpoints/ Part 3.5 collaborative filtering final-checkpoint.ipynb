{
 "cells": [
  {
   "cell_type": "markdown",
   "metadata": {
    "id": "LYCLO3DZn_8l"
   },
   "source": [
    "## Collaborative Filtering"
   ]
  },
  {
   "cell_type": "markdown",
   "metadata": {
    "id": "2-A4lcBmoAFw"
   },
   "source": [
    "### User-based collaborative filtering\n",
    "\n",
    "- In this notebook, we will extensively exploring the key algorithms in Sklearn's surprise library and evaluate their performance in predicting the ranked ratings of users based on their game playtime\n",
    "\n",
    "**Disclaimer:** Due to lack of computational resources on the amount of available memory RAM (25GB) in our colab notebook. Please do not run the gridsearch codes unless necessary as it may crash your system. I will only be running them when needed to optimise the best hyperparameters for the respective models"
   ]
  },
  {
   "cell_type": "code",
   "execution_count": null,
   "metadata": {
    "colab": {
     "base_uri": "https://localhost:8080/"
    },
    "executionInfo": {
     "elapsed": 57364,
     "status": "ok",
     "timestamp": 1682487596871,
     "user": {
      "displayName": "Kenneth Lim",
      "userId": "13515568553746894809"
     },
     "user_tz": -480
    },
    "id": "9UUxX_6ivTnt",
    "outputId": "4aa55e61-b1ae-4bd3-a71e-70c67388c513"
   },
   "outputs": [
    {
     "name": "stdout",
     "output_type": "stream",
     "text": [
      "Looking in indexes: https://pypi.org/simple, https://us-python.pkg.dev/colab-wheels/public/simple/\n",
      "Collecting surprise\n",
      "  Downloading surprise-0.1-py2.py3-none-any.whl (1.8 kB)\n",
      "Collecting scikit-surprise\n",
      "  Downloading scikit-surprise-1.1.3.tar.gz (771 kB)\n",
      "\u001b[2K     \u001b[90m━━━━━━━━━━━━━━━━━━━━━━━━━━━━━━━━━━━━━━\u001b[0m \u001b[32m772.0/772.0 kB\u001b[0m \u001b[31m11.9 MB/s\u001b[0m eta \u001b[36m0:00:00\u001b[0m\n",
      "\u001b[?25h  Preparing metadata (setup.py) ... \u001b[?25l\u001b[?25hdone\n",
      "Requirement already satisfied: joblib>=1.0.0 in /usr/local/lib/python3.9/dist-packages (from scikit-surprise->surprise) (1.2.0)\n",
      "Requirement already satisfied: numpy>=1.17.3 in /usr/local/lib/python3.9/dist-packages (from scikit-surprise->surprise) (1.22.4)\n",
      "Requirement already satisfied: scipy>=1.3.2 in /usr/local/lib/python3.9/dist-packages (from scikit-surprise->surprise) (1.10.1)\n",
      "Building wheels for collected packages: scikit-surprise\n",
      "  Building wheel for scikit-surprise (setup.py) ... \u001b[?25l\u001b[?25hdone\n",
      "  Created wheel for scikit-surprise: filename=scikit_surprise-1.1.3-cp39-cp39-linux_x86_64.whl size=3195810 sha256=b6be5f8a643b00cfbbb13c0626af1613ac2e1a43a413bb29b20b55720de9bc61\n",
      "  Stored in directory: /root/.cache/pip/wheels/c6/3a/46/9b17b3512bdf283c6cb84f59929cdd5199d4e754d596d22784\n",
      "Successfully built scikit-surprise\n",
      "Installing collected packages: scikit-surprise, surprise\n",
      "Successfully installed scikit-surprise-1.1.3 surprise-0.1\n"
     ]
    }
   ],
   "source": [
    "pip install surprise"
   ]
  },
  {
   "cell_type": "markdown",
   "metadata": {
    "id": "wPZhqQYQyTqz"
   },
   "source": [
    "## Import Libraries"
   ]
  },
  {
   "cell_type": "code",
   "execution_count": 78,
   "metadata": {
    "executionInfo": {
     "elapsed": 399,
     "status": "ok",
     "timestamp": 1682508268524,
     "user": {
      "displayName": "Kenneth Lim",
      "userId": "13515568553746894809"
     },
     "user_tz": -480
    },
    "id": "bAE0OiHqvTso"
   },
   "outputs": [],
   "source": [
    "import pandas as pd\n",
    "import numpy as np\n",
    "import matplotlib.pyplot as plt\n",
    "import seaborn as sns\n",
    "import plotly.express as px\n",
    "\n",
    "from collections import defaultdict\n",
    "from sklearn.feature_extraction.text import CountVectorizer, TfidfVectorizer\n",
    "from sklearn.metrics import roc_curve, auc\n",
    "from sklearn.manifold import TSNE\n",
    "from surprise import Reader, SVD, Dataset, accuracy, SVDpp, BaselineOnly, NormalPredictor, NMF, SlopeOne, CoClustering\n",
    "from surprise.model_selection import cross_validate, train_test_split, GridSearchCV, KFold\n",
    "from scipy.sparse import csr_matrix\n",
    "from sklearn.metrics.pairwise import pairwise_distances, cosine_distances, cosine_similarity\n",
    "from plotly.offline import plot"
   ]
  },
  {
   "cell_type": "code",
   "execution_count": null,
   "metadata": {
    "id": "HewG7fByoAo1"
   },
   "outputs": [],
   "source": [
    "recco = pd.read_parquet('/content/drive/MyDrive/Steam games dataset/sample_recommendations_FE_filter.pq')"
   ]
  },
  {
   "cell_type": "code",
   "execution_count": null,
   "metadata": {
    "id": "-V3MJHfkVSdU"
   },
   "outputs": [],
   "source": [
    "def sparsity(dataset):\n",
    "\t\treturn round(100*(1 - len(dataset)/(dataset['user_id'].nunique() * dataset['app_id'].nunique())), 2)"
   ]
  },
  {
   "cell_type": "code",
   "execution_count": null,
   "metadata": {
    "colab": {
     "base_uri": "https://localhost:8080/"
    },
    "executionInfo": {
     "elapsed": 15,
     "status": "ok",
     "timestamp": 1682487862892,
     "user": {
      "displayName": "Kenneth Lim",
      "userId": "13515568553746894809"
     },
     "user_tz": -480
    },
    "id": "5uX7ntpuERqf",
    "outputId": "e31c2803-7ab4-45ae-eed2-534b66fc61d2"
   },
   "outputs": [
    {
     "name": "stdout",
     "output_type": "stream",
     "text": [
      "Sparsity:  97.52\n"
     ]
    }
   ],
   "source": [
    "print('Sparsity: ', sparsity(recco))"
   ]
  },
  {
   "cell_type": "code",
   "execution_count": null,
   "metadata": {
    "colab": {
     "base_uri": "https://localhost:8080/"
    },
    "executionInfo": {
     "elapsed": 13,
     "status": "ok",
     "timestamp": 1682351478636,
     "user": {
      "displayName": "Kenneth Lim",
      "userId": "13515568553746894809"
     },
     "user_tz": -480
    },
    "id": "9rd2a196oAq7",
    "outputId": "29a30409-accb-47a4-f656-775c90ec1a0d"
   },
   "outputs": [
    {
     "data": {
      "text/plain": [
       "(app_id              int32\n",
       " user_id             int32\n",
       " helpful             int32\n",
       " funny               int32\n",
       " date               object\n",
       " is_recommended       bool\n",
       " hours             float64\n",
       " review_id           int32\n",
       " products            int32\n",
       " reviews             int32\n",
       " title              object\n",
       " date_release       object\n",
       " win                  bool\n",
       " mac                  bool\n",
       " linux                bool\n",
       " rating             object\n",
       " positive_ratio      int32\n",
       " user_reviews        int32\n",
       " price_final       float64\n",
       " price_original    float64\n",
       " discount          float64\n",
       " steam_deck           bool\n",
       " description        object\n",
       " tags               object\n",
       " rank_ratings      float64\n",
       " dtype: object,\n",
       " (626490, 25))"
      ]
     },
     "execution_count": 3,
     "metadata": {},
     "output_type": "execute_result"
    }
   ],
   "source": [
    "recco.dtypes, recco.shape"
   ]
  },
  {
   "cell_type": "code",
   "execution_count": null,
   "metadata": {
    "id": "5w3jUZJxuoo7"
   },
   "outputs": [],
   "source": [
    "#recco = recco.sort_values(by='title', ascending=True)"
   ]
  },
  {
   "cell_type": "markdown",
   "metadata": {
    "id": "_1xX3XsZO37g"
   },
   "source": [
    "### Model Training: Random Normal Predictor"
   ]
  },
  {
   "cell_type": "code",
   "execution_count": null,
   "metadata": {
    "id": "WENfJN-koAtJ"
   },
   "outputs": [],
   "source": [
    "#default: 0-5 scale on assumed_ratings derived from user playtime vs game median playtime\n",
    "reader = Reader(rating_scale=(1, 5))\n",
    "data = Dataset.load_from_df(recco[['user_id', 'app_id', 'rank_ratings']], reader)"
   ]
  },
  {
   "cell_type": "code",
   "execution_count": null,
   "metadata": {
    "id": "dAcFNAznMjLG"
   },
   "outputs": [],
   "source": [
    "trainset, testset = train_test_split(data, test_size=0.2, random_state=42)"
   ]
  },
  {
   "cell_type": "code",
   "execution_count": 53,
   "metadata": {
    "executionInfo": {
     "elapsed": 5,
     "status": "ok",
     "timestamp": 1682503944972,
     "user": {
      "displayName": "Kenneth Lim",
      "userId": "13515568553746894809"
     },
     "user_tz": -480
    },
    "id": "6A50ftmUMjPa"
   },
   "outputs": [],
   "source": [
    "#NormalPredictor predicts random rating based on distribution\n",
    "original = NormalPredictor()"
   ]
  },
  {
   "cell_type": "code",
   "execution_count": 54,
   "metadata": {
    "colab": {
     "base_uri": "https://localhost:8080/"
    },
    "executionInfo": {
     "elapsed": 1020,
     "status": "ok",
     "timestamp": 1682503948139,
     "user": {
      "displayName": "Kenneth Lim",
      "userId": "13515568553746894809"
     },
     "user_tz": -480
    },
    "id": "1_gFWWOPMjTl",
    "outputId": "a4148786-fcb5-4527-f092-21feca00e545"
   },
   "outputs": [
    {
     "data": {
      "text/plain": [
       "<surprise.prediction_algorithms.random_pred.NormalPredictor at 0x7f4f558a8b80>"
      ]
     },
     "execution_count": 54,
     "metadata": {},
     "output_type": "execute_result"
    }
   ],
   "source": [
    "original.fit(trainset)"
   ]
  },
  {
   "cell_type": "code",
   "execution_count": 55,
   "metadata": {
    "executionInfo": {
     "elapsed": 2008,
     "status": "ok",
     "timestamp": 1682503951481,
     "user": {
      "displayName": "Kenneth Lim",
      "userId": "13515568553746894809"
     },
     "user_tz": -480
    },
    "id": "lhiSPuMmMjYk"
   },
   "outputs": [],
   "source": [
    "base_preds = original.test(testset)"
   ]
  },
  {
   "cell_type": "code",
   "execution_count": 56,
   "metadata": {
    "colab": {
     "base_uri": "https://localhost:8080/"
    },
    "executionInfo": {
     "elapsed": 6,
     "status": "ok",
     "timestamp": 1682503951482,
     "user": {
      "displayName": "Kenneth Lim",
      "userId": "13515568553746894809"
     },
     "user_tz": -480
    },
    "id": "zMbtwG6Q9p7k",
    "outputId": "3ae955d9-3c44-46db-c152-cac4012ee3ab"
   },
   "outputs": [
    {
     "name": "stdout",
     "output_type": "stream",
     "text": [
      "RMSE: 1.4401\n",
      "Default RMSE:  1.44\n"
     ]
    }
   ],
   "source": [
    "print('Default RMSE: ', round(accuracy.rmse(base_preds), 3))"
   ]
  },
  {
   "cell_type": "markdown",
   "metadata": {
    "id": "AX5JVzAjTRJl"
   },
   "source": [
    "## Model Training: Baseline Estimates Algorithm (ALS/SGD)"
   ]
  },
  {
   "cell_type": "code",
   "execution_count": null,
   "metadata": {
    "colab": {
     "base_uri": "https://localhost:8080/"
    },
    "executionInfo": {
     "elapsed": 155013,
     "status": "ok",
     "timestamp": 1682352401129,
     "user": {
      "displayName": "Kenneth Lim",
      "userId": "13515568553746894809"
     },
     "user_tz": -480
    },
    "id": "lMb6_ehjoAvG",
    "outputId": "ea75f12a-079b-4a97-c1c9-ec05f769f870"
   },
   "outputs": [
    {
     "name": "stderr",
     "output_type": "stream",
     "text": [
      "[Parallel(n_jobs=-1)]: Using backend LokyBackend with 4 concurrent workers.\n",
      "[Parallel(n_jobs=-1)]: Done  10 tasks      | elapsed:   13.2s\n",
      "[Parallel(n_jobs=-1)]: Done  64 tasks      | elapsed:  1.1min\n",
      "[Parallel(n_jobs=-1)]: Done 135 out of 135 | elapsed:  2.4min finished\n"
     ]
    }
   ],
   "source": [
    "param_grid = {'bsl_options': {'n_epochs': [5, 10, 20], 'reg_u': [5, 10, 20], 'reg_i': [5, 10, 20]}}\n",
    "gs0_model = GridSearchCV(BaselineOnly, param_grid=param_grid, n_jobs = -1, joblib_verbose=5)\n",
    "gs0_model.fit(data)"
   ]
  },
  {
   "cell_type": "code",
   "execution_count": null,
   "metadata": {
    "colab": {
     "base_uri": "https://localhost:8080/"
    },
    "executionInfo": {
     "elapsed": 29,
     "status": "ok",
     "timestamp": 1682352401129,
     "user": {
      "displayName": "Kenneth Lim",
      "userId": "13515568553746894809"
     },
     "user_tz": -480
    },
    "id": "gEpKZPm3OpyQ",
    "outputId": "fbda0ac2-2767-43cb-e865-d2f5a63a195f"
   },
   "outputs": [
    {
     "name": "stdout",
     "output_type": "stream",
     "text": [
      "{'rmse': 0.9789299262361301, 'mae': 0.7795751743666277}\n",
      "{'rmse': {'bsl_options': {'n_epochs': 20, 'reg_u': 20, 'reg_i': 5}}, 'mae': {'bsl_options': {'n_epochs': 5, 'reg_u': 10, 'reg_i': 5}}}\n"
     ]
    }
   ],
   "source": [
    "#default: 0-5 scale\n",
    "print(gs0_model.best_score)\n",
    "print(gs0_model.best_params)"
   ]
  },
  {
   "cell_type": "code",
   "execution_count": 57,
   "metadata": {
    "executionInfo": {
     "elapsed": 375,
     "status": "ok",
     "timestamp": 1682503990225,
     "user": {
      "displayName": "Kenneth Lim",
      "userId": "13515568553746894809"
     },
     "user_tz": -480
    },
    "id": "kXt96LR-Ng88"
   },
   "outputs": [],
   "source": [
    "#Predicts the baseline estimate\n",
    "original1 = BaselineOnly(bsl_options = {\"method\": \"sgd\", \"n_epochs\": 20, \"reg\": 0.005, \"learning_rate\": 0.005})"
   ]
  },
  {
   "cell_type": "code",
   "execution_count": 58,
   "metadata": {
    "colab": {
     "base_uri": "https://localhost:8080/"
    },
    "executionInfo": {
     "elapsed": 5220,
     "status": "ok",
     "timestamp": 1682503999648,
     "user": {
      "displayName": "Kenneth Lim",
      "userId": "13515568553746894809"
     },
     "user_tz": -480
    },
    "id": "XYYYX5KpNg_c",
    "outputId": "5ca78eec-e508-45c8-e4ce-5f76facc4d42"
   },
   "outputs": [
    {
     "name": "stdout",
     "output_type": "stream",
     "text": [
      "Estimating biases using sgd...\n"
     ]
    },
    {
     "data": {
      "text/plain": [
       "<surprise.prediction_algorithms.baseline_only.BaselineOnly at 0x7f4f558a8820>"
      ]
     },
     "execution_count": 58,
     "metadata": {},
     "output_type": "execute_result"
    }
   ],
   "source": [
    "original1.fit(trainset)"
   ]
  },
  {
   "cell_type": "code",
   "execution_count": 59,
   "metadata": {
    "executionInfo": {
     "elapsed": 1379,
     "status": "ok",
     "timestamp": 1682504002664,
     "user": {
      "displayName": "Kenneth Lim",
      "userId": "13515568553746894809"
     },
     "user_tz": -480
    },
    "id": "UScgsnUEN5fc"
   },
   "outputs": [],
   "source": [
    "base_preds1 = original1.test(testset)"
   ]
  },
  {
   "cell_type": "code",
   "execution_count": 60,
   "metadata": {
    "colab": {
     "base_uri": "https://localhost:8080/"
    },
    "executionInfo": {
     "elapsed": 478,
     "status": "ok",
     "timestamp": 1682504004924,
     "user": {
      "displayName": "Kenneth Lim",
      "userId": "13515568553746894809"
     },
     "user_tz": -480
    },
    "id": "lfnbSBfGN95E",
    "outputId": "f95f124c-f4a4-4c86-cf06-a2b0da4f231f"
   },
   "outputs": [
    {
     "name": "stdout",
     "output_type": "stream",
     "text": [
      "RMSE: 0.9851\n",
      "Baseline(ALS) estimation RMSE:  0.985\n"
     ]
    }
   ],
   "source": [
    "print('Baseline(ALS) estimation RMSE: ', round(accuracy.rmse(base_preds1), 3))"
   ]
  },
  {
   "cell_type": "markdown",
   "metadata": {
    "id": "HlCb1gmnPLr8"
   },
   "source": [
    "## Model Training: Matrix Factorization SVD"
   ]
  },
  {
   "cell_type": "code",
   "execution_count": null,
   "metadata": {
    "colab": {
     "base_uri": "https://localhost:8080/"
    },
    "executionInfo": {
     "elapsed": 921111,
     "status": "ok",
     "timestamp": 1682353522083,
     "user": {
      "displayName": "Kenneth Lim",
      "userId": "13515568553746894809"
     },
     "user_tz": -480
    },
    "id": "HxyQ9bzcQJbe",
    "outputId": "f157d57e-2731-4c1f-8bfe-a652e64d4c67"
   },
   "outputs": [
    {
     "name": "stderr",
     "output_type": "stream",
     "text": [
      "[Parallel(n_jobs=-1)]: Using backend LokyBackend with 4 concurrent workers.\n",
      "[Parallel(n_jobs=-1)]: Done  10 tasks      | elapsed:   16.1s\n",
      "[Parallel(n_jobs=-1)]: Done  64 tasks      | elapsed:  1.5min\n",
      "[Parallel(n_jobs=-1)]: Done 154 tasks      | elapsed:  4.4min\n",
      "[Parallel(n_jobs=-1)]: Done 280 tasks      | elapsed:  9.1min\n",
      "[Parallel(n_jobs=-1)]: Done 405 out of 405 | elapsed: 15.2min finished\n"
     ]
    }
   ],
   "source": [
    "param_grid = {'n_factors':[20, 50, 100],'n_epochs': [5, 10, 30], 'lr_all': [0.0005, 0.001, 0.005],\n",
    "               'reg_all': [0.05, 0.1, 0.5]}\n",
    "gs2_model = GridSearchCV(SVD, param_grid=param_grid, n_jobs = -1, joblib_verbose=5)\n",
    "gs2_model.fit(data)"
   ]
  },
  {
   "cell_type": "code",
   "execution_count": null,
   "metadata": {
    "colab": {
     "base_uri": "https://localhost:8080/"
    },
    "executionInfo": {
     "elapsed": 20,
     "status": "ok",
     "timestamp": 1682353522084,
     "user": {
      "displayName": "Kenneth Lim",
      "userId": "13515568553746894809"
     },
     "user_tz": -480
    },
    "id": "eMQnBheJQJhy",
    "outputId": "9b63e514-16ac-43bd-f449-31d04e93b72e"
   },
   "outputs": [
    {
     "name": "stdout",
     "output_type": "stream",
     "text": [
      "{'rmse': 0.9802131178354003, 'mae': 0.7836242950644264}\n",
      "{'rmse': {'n_factors': 20, 'n_epochs': 10, 'lr_all': 0.005, 'reg_all': 0.05}, 'mae': {'n_factors': 20, 'n_epochs': 10, 'lr_all': 0.005, 'reg_all': 0.05}}\n"
     ]
    }
   ],
   "source": [
    "#normalised 0-5 scale\n",
    "print(gs2_model.best_score)\n",
    "print(gs2_model.best_params)"
   ]
  },
  {
   "cell_type": "code",
   "execution_count": null,
   "metadata": {
    "id": "yEVz4QiEQJm2"
   },
   "outputs": [],
   "source": [
    "norm_model2 = SVD(n_factors=20, n_epochs=10, lr_all=0.005, reg_all=0.05)"
   ]
  },
  {
   "cell_type": "code",
   "execution_count": null,
   "metadata": {
    "colab": {
     "base_uri": "https://localhost:8080/"
    },
    "executionInfo": {
     "elapsed": 2638,
     "status": "ok",
     "timestamp": 1682487975287,
     "user": {
      "displayName": "Kenneth Lim",
      "userId": "13515568553746894809"
     },
     "user_tz": -480
    },
    "id": "sOLfX95hPKlY",
    "outputId": "e9a96793-6f29-4cf0-bb8a-bfafa4cc442d"
   },
   "outputs": [
    {
     "data": {
      "text/plain": [
       "<surprise.prediction_algorithms.matrix_factorization.SVD at 0x7f50408edc70>"
      ]
     },
     "execution_count": 15,
     "metadata": {},
     "output_type": "execute_result"
    }
   ],
   "source": [
    "norm_model2.fit(trainset)"
   ]
  },
  {
   "cell_type": "code",
   "execution_count": null,
   "metadata": {
    "id": "AOFpiShOPKqS"
   },
   "outputs": [],
   "source": [
    "norm_preds2 = norm_model2.test(testset)"
   ]
  },
  {
   "cell_type": "code",
   "execution_count": 61,
   "metadata": {
    "colab": {
     "base_uri": "https://localhost:8080/"
    },
    "executionInfo": {
     "elapsed": 383,
     "status": "ok",
     "timestamp": 1682504086115,
     "user": {
      "displayName": "Kenneth Lim",
      "userId": "13515568553746894809"
     },
     "user_tz": -480
    },
    "id": "DT8Xeazt9-Hd",
    "outputId": "cb0dab3e-25cc-49a7-ad5d-085928bee344"
   },
   "outputs": [
    {
     "name": "stdout",
     "output_type": "stream",
     "text": [
      "RMSE: 0.9839\n",
      "SVD RMSE:  0.984\n"
     ]
    }
   ],
   "source": [
    "print('SVD RMSE: ', round(accuracy.rmse(norm_preds2), 3))"
   ]
  },
  {
   "cell_type": "markdown",
   "metadata": {
    "id": "ck1NLBa6wL73"
   },
   "source": [
    "## Model Training: Matrix Factorization SVD++"
   ]
  },
  {
   "cell_type": "code",
   "execution_count": null,
   "metadata": {
    "colab": {
     "base_uri": "https://localhost:8080/"
    },
    "executionInfo": {
     "elapsed": 6241157,
     "status": "ok",
     "timestamp": 1682405735890,
     "user": {
      "displayName": "Kenneth Lim",
      "userId": "13515568553746894809"
     },
     "user_tz": -480
    },
    "id": "TCzZ6cphXAbm",
    "outputId": "7956a650-8136-4854-aeec-ae1223e60fa5"
   },
   "outputs": [
    {
     "name": "stderr",
     "output_type": "stream",
     "text": [
      "[Parallel(n_jobs=-1)]: Using backend LokyBackend with 4 concurrent workers.\n",
      "[Parallel(n_jobs=-1)]: Done  10 tasks      | elapsed:   50.3s\n",
      "[Parallel(n_jobs=-1)]: Done  64 tasks      | elapsed:  4.9min\n",
      "/usr/local/lib/python3.9/dist-packages/joblib/externals/loky/process_executor.py:700: UserWarning: A worker stopped while some jobs were given to the executor. This can be caused by a too short worker timeout or by a memory leak.\n",
      "  warnings.warn(\n",
      "[Parallel(n_jobs=-1)]: Done 154 tasks      | elapsed: 19.0min\n",
      "[Parallel(n_jobs=-1)]: Done 280 tasks      | elapsed: 49.6min\n",
      "[Parallel(n_jobs=-1)]: Done 405 out of 405 | elapsed: 103.9min finished\n"
     ]
    }
   ],
   "source": [
    "param_grid = {'n_factors':[20, 50, 100],'n_epochs': [5, 10, 30], 'lr_all': [0.0005, 0.001, 0.005],\n",
    "               'reg_all': [0.05, 0.1, 0.5]}\n",
    "gs3_model = GridSearchCV(SVDpp, param_grid=param_grid, n_jobs = -1, joblib_verbose=5)\n",
    "gs3_model.fit(data)"
   ]
  },
  {
   "cell_type": "code",
   "execution_count": null,
   "metadata": {
    "colab": {
     "base_uri": "https://localhost:8080/"
    },
    "executionInfo": {
     "elapsed": 11,
     "status": "ok",
     "timestamp": 1682405795252,
     "user": {
      "displayName": "Kenneth Lim",
      "userId": "13515568553746894809"
     },
     "user_tz": -480
    },
    "id": "lNmLdhbEYI0-",
    "outputId": "3f770d27-227c-4c55-dd39-0d50c3257594"
   },
   "outputs": [
    {
     "name": "stdout",
     "output_type": "stream",
     "text": [
      "{'rmse': 0.9802146188008711, 'mae': 0.7834973018654188}\n",
      "{'rmse': {'n_factors': 20, 'n_epochs': 10, 'lr_all': 0.005, 'reg_all': 0.05}, 'mae': {'n_factors': 20, 'n_epochs': 10, 'lr_all': 0.005, 'reg_all': 0.05}}\n"
     ]
    }
   ],
   "source": [
    "#normalised 0-5 scale\n",
    "print(gs3_model.best_score)\n",
    "print(gs3_model.best_params)"
   ]
  },
  {
   "cell_type": "code",
   "execution_count": 62,
   "metadata": {
    "executionInfo": {
     "elapsed": 409,
     "status": "ok",
     "timestamp": 1682504121399,
     "user": {
      "displayName": "Kenneth Lim",
      "userId": "13515568553746894809"
     },
     "user_tz": -480
    },
    "id": "yM1EsTj7w63C"
   },
   "outputs": [],
   "source": [
    "#NormalPredictor predicts random rating based on distribution\n",
    "norms = SVDpp(n_factors=20, n_epochs=10, lr_all=0.005, reg_all=0.05)"
   ]
  },
  {
   "cell_type": "code",
   "execution_count": 63,
   "metadata": {
    "colab": {
     "base_uri": "https://localhost:8080/"
    },
    "executionInfo": {
     "elapsed": 11205,
     "status": "ok",
     "timestamp": 1682504135739,
     "user": {
      "displayName": "Kenneth Lim",
      "userId": "13515568553746894809"
     },
     "user_tz": -480
    },
    "id": "RiUui3vYw66O",
    "outputId": "e6d8c6f1-1265-426b-e91e-cfddeb4157b0"
   },
   "outputs": [
    {
     "data": {
      "text/plain": [
       "<surprise.prediction_algorithms.matrix_factorization.SVDpp at 0x7f4f558a8eb0>"
      ]
     },
     "execution_count": 63,
     "metadata": {},
     "output_type": "execute_result"
    }
   ],
   "source": [
    "norms.fit(trainset)"
   ]
  },
  {
   "cell_type": "code",
   "execution_count": 64,
   "metadata": {
    "executionInfo": {
     "elapsed": 5373,
     "status": "ok",
     "timestamp": 1682504141107,
     "user": {
      "displayName": "Kenneth Lim",
      "userId": "13515568553746894809"
     },
     "user_tz": -480
    },
    "id": "F7t8W37Tw69D"
   },
   "outputs": [],
   "source": [
    "normie_pred = norms.test(testset)"
   ]
  },
  {
   "cell_type": "code",
   "execution_count": 65,
   "metadata": {
    "colab": {
     "base_uri": "https://localhost:8080/"
    },
    "executionInfo": {
     "elapsed": 386,
     "status": "ok",
     "timestamp": 1682504148203,
     "user": {
      "displayName": "Kenneth Lim",
      "userId": "13515568553746894809"
     },
     "user_tz": -480
    },
    "id": "twEE41gKw6_X",
    "outputId": "e8e571b9-04dc-4ac2-a4b2-558a58bac520"
   },
   "outputs": [
    {
     "name": "stdout",
     "output_type": "stream",
     "text": [
      "RMSE: 0.9810\n",
      "SVD++ RMSE:  0.981\n"
     ]
    }
   ],
   "source": [
    "print('SVD++ RMSE: ', round(accuracy.rmse(normie_pred), 3))"
   ]
  },
  {
   "cell_type": "markdown",
   "metadata": {
    "id": "tGwH4wkiXMtz"
   },
   "source": [
    "## Model Training: SlopeOne"
   ]
  },
  {
   "cell_type": "code",
   "execution_count": 66,
   "metadata": {
    "executionInfo": {
     "elapsed": 310,
     "status": "ok",
     "timestamp": 1682504225131,
     "user": {
      "displayName": "Kenneth Lim",
      "userId": "13515568553746894809"
     },
     "user_tz": -480
    },
    "id": "C-FGp4RPw7Br"
   },
   "outputs": [],
   "source": [
    "#Predicts the baseline estimate\n",
    "based = SlopeOne()"
   ]
  },
  {
   "cell_type": "code",
   "execution_count": 67,
   "metadata": {
    "colab": {
     "base_uri": "https://localhost:8080/"
    },
    "executionInfo": {
     "elapsed": 1061,
     "status": "ok",
     "timestamp": 1682504227039,
     "user": {
      "displayName": "Kenneth Lim",
      "userId": "13515568553746894809"
     },
     "user_tz": -480
    },
    "id": "k_QuH9D0w7EA",
    "outputId": "c2003160-0c80-4cdc-c747-5fb4a701c611"
   },
   "outputs": [
    {
     "data": {
      "text/plain": [
       "<surprise.prediction_algorithms.slope_one.SlopeOne at 0x7f4f672a5d30>"
      ]
     },
     "execution_count": 67,
     "metadata": {},
     "output_type": "execute_result"
    }
   ],
   "source": [
    "based.fit(trainset)"
   ]
  },
  {
   "cell_type": "code",
   "execution_count": 68,
   "metadata": {
    "executionInfo": {
     "elapsed": 3857,
     "status": "ok",
     "timestamp": 1682504231401,
     "user": {
      "displayName": "Kenneth Lim",
      "userId": "13515568553746894809"
     },
     "user_tz": -480
    },
    "id": "Jr2IUMKlw7Ge"
   },
   "outputs": [],
   "source": [
    "based_pred = based.test(testset)"
   ]
  },
  {
   "cell_type": "code",
   "execution_count": 69,
   "metadata": {
    "colab": {
     "base_uri": "https://localhost:8080/"
    },
    "executionInfo": {
     "elapsed": 413,
     "status": "ok",
     "timestamp": 1682504240594,
     "user": {
      "displayName": "Kenneth Lim",
      "userId": "13515568553746894809"
     },
     "user_tz": -480
    },
    "id": "zKVlTEAU-OVA",
    "outputId": "f5fd1308-170e-45ba-91c9-8dab10a3d774"
   },
   "outputs": [
    {
     "name": "stdout",
     "output_type": "stream",
     "text": [
      "RMSE: 1.0077\n",
      "Baseline estimation RMSE:  1.008\n"
     ]
    }
   ],
   "source": [
    "print('Baseline estimation RMSE: ', round(accuracy.rmse(based_pred), 3))"
   ]
  },
  {
   "cell_type": "markdown",
   "metadata": {
    "id": "TAR4MTpDYYpS"
   },
   "source": [
    "## Model Training: Co-clustering"
   ]
  },
  {
   "cell_type": "code",
   "execution_count": null,
   "metadata": {
    "colab": {
     "base_uri": "https://localhost:8080/"
    },
    "executionInfo": {
     "elapsed": 1654843,
     "status": "ok",
     "timestamp": 1682383123360,
     "user": {
      "displayName": "Kenneth Lim",
      "userId": "13515568553746894809"
     },
     "user_tz": -480
    },
    "id": "hCP5RcaTYeV2",
    "outputId": "6b5ec150-37df-4090-b38d-d44a9dd60982"
   },
   "outputs": [
    {
     "name": "stderr",
     "output_type": "stream",
     "text": [
      "[Parallel(n_jobs=-1)]: Using backend LokyBackend with 4 concurrent workers.\n",
      "[Parallel(n_jobs=-1)]: Done  10 tasks      | elapsed:   52.3s\n",
      "[Parallel(n_jobs=-1)]: Done  64 tasks      | elapsed:  6.6min\n",
      "[Parallel(n_jobs=-1)]: Done 154 tasks      | elapsed: 16.3min\n",
      "[Parallel(n_jobs=-1)]: Done 240 out of 240 | elapsed: 27.4min finished\n"
     ]
    }
   ],
   "source": [
    "param_grid = {'n_cltr_u':[3, 5, 7, 9],'n_epochs': [20, 30, 40], 'n_cltr_i': [3, 5, 7, 9]}\n",
    "gs5_model = GridSearchCV(CoClustering, param_grid=param_grid, n_jobs = -1, joblib_verbose=5)\n",
    "gs5_model.fit(data)"
   ]
  },
  {
   "cell_type": "code",
   "execution_count": null,
   "metadata": {
    "colab": {
     "base_uri": "https://localhost:8080/"
    },
    "executionInfo": {
     "elapsed": 624,
     "status": "ok",
     "timestamp": 1682383493275,
     "user": {
      "displayName": "Kenneth Lim",
      "userId": "13515568553746894809"
     },
     "user_tz": -480
    },
    "id": "Yk6VBtQtY95N",
    "outputId": "255aad39-ca65-4dc1-d9b7-9bea69ad8355"
   },
   "outputs": [
    {
     "name": "stdout",
     "output_type": "stream",
     "text": [
      "{'rmse': 1.1149254779137068, 'mae': 0.836091325161944}\n",
      "{'rmse': {'n_cltr_u': 3, 'n_epochs': 40, 'n_cltr_i': 3}, 'mae': {'n_cltr_u': 3, 'n_epochs': 40, 'n_cltr_i': 3}}\n"
     ]
    }
   ],
   "source": [
    "#normalised 0-5 scale\n",
    "print(gs5_model.best_score)\n",
    "print(gs5_model.best_params)"
   ]
  },
  {
   "cell_type": "code",
   "execution_count": 70,
   "metadata": {
    "executionInfo": {
     "elapsed": 748,
     "status": "ok",
     "timestamp": 1682504255367,
     "user": {
      "displayName": "Kenneth Lim",
      "userId": "13515568553746894809"
     },
     "user_tz": -480
    },
    "id": "Fdg3mfJgZBIF"
   },
   "outputs": [],
   "source": [
    "mean_model = CoClustering(n_cltr_u=3, n_epochs=40, n_cltr_i=3)"
   ]
  },
  {
   "cell_type": "code",
   "execution_count": 71,
   "metadata": {
    "colab": {
     "base_uri": "https://localhost:8080/"
    },
    "executionInfo": {
     "elapsed": 40972,
     "status": "ok",
     "timestamp": 1682504296645,
     "user": {
      "displayName": "Kenneth Lim",
      "userId": "13515568553746894809"
     },
     "user_tz": -480
    },
    "id": "B2Iio6kQZGyM",
    "outputId": "1c1f9bca-e709-4466-dd88-6d5a0c915e59"
   },
   "outputs": [
    {
     "data": {
      "text/plain": [
       "<surprise.prediction_algorithms.co_clustering.CoClustering at 0x7f4f558a8280>"
      ]
     },
     "execution_count": 71,
     "metadata": {},
     "output_type": "execute_result"
    }
   ],
   "source": [
    "mean_model.fit(trainset)"
   ]
  },
  {
   "cell_type": "code",
   "execution_count": 72,
   "metadata": {
    "executionInfo": {
     "elapsed": 1102,
     "status": "ok",
     "timestamp": 1682504297739,
     "user": {
      "displayName": "Kenneth Lim",
      "userId": "13515568553746894809"
     },
     "user_tz": -480
    },
    "id": "UMoL3wL0ZIjh"
   },
   "outputs": [],
   "source": [
    "mean_preds = mean_model.test(testset)"
   ]
  },
  {
   "cell_type": "code",
   "execution_count": 73,
   "metadata": {
    "colab": {
     "base_uri": "https://localhost:8080/"
    },
    "executionInfo": {
     "elapsed": 336,
     "status": "ok",
     "timestamp": 1682504316081,
     "user": {
      "displayName": "Kenneth Lim",
      "userId": "13515568553746894809"
     },
     "user_tz": -480
    },
    "id": "0gGOvquAZJ-m",
    "outputId": "da48b4da-65d7-44a4-8c4e-efb0745024de"
   },
   "outputs": [
    {
     "name": "stdout",
     "output_type": "stream",
     "text": [
      "RMSE: 1.1194\n",
      "Co-Clustering RMSE:  1.119\n"
     ]
    }
   ],
   "source": [
    "print('Co-Clustering RMSE: ', round(accuracy.rmse(mean_preds), 3))"
   ]
  },
  {
   "cell_type": "code",
   "execution_count": null,
   "metadata": {
    "colab": {
     "base_uri": "https://localhost:8080/"
    },
    "executionInfo": {
     "elapsed": 9,
     "status": "ok",
     "timestamp": 1682383556638,
     "user": {
      "displayName": "Kenneth Lim",
      "userId": "13515568553746894809"
     },
     "user_tz": -480
    },
    "id": "JnYeSRzuxiYB",
    "outputId": "33df4d55-b7dd-4b68-d888-700c89a4e766"
   },
   "outputs": [
    {
     "name": "stdout",
     "output_type": "stream",
     "text": [
      "RMSE: 1.1206\n",
      "Co-Clustering RMSE:  1.12064297613755\n"
     ]
    }
   ],
   "source": [
    "print('Co-Clustering RMSE: ', accuracy.rmse(mean_preds))"
   ]
  },
  {
   "cell_type": "markdown",
   "metadata": {
    "id": "C1Dy0urupfqt"
   },
   "source": [
    "### Precision@k, Recall@k for selected models\n",
    "\n",
    "We will be computing the precision@k and recall@k for our models. Precision@k simply refers to the proportion of relevant game titles among the top k game recommendations, while recall@k refers to the proportion of relevant game titles among the top k recommendations out of all the relevant games\n",
    "\n",
    "As mentioned in part 2 of the notebook, the median value of ratings will be set as the threshold for the computation"
   ]
  },
  {
   "cell_type": "code",
   "execution_count": 77,
   "metadata": {
    "colab": {
     "base_uri": "https://localhost:8080/"
    },
    "executionInfo": {
     "elapsed": 529,
     "status": "ok",
     "timestamp": 1682506105143,
     "user": {
      "displayName": "Kenneth Lim",
      "userId": "13515568553746894809"
     },
     "user_tz": -480
    },
    "id": "_tiWL9MHLC2s",
    "outputId": "b4cce9e9-bbc2-4828-a571-722912e35d68"
   },
   "outputs": [
    {
     "name": "stdout",
     "output_type": "stream",
     "text": [
      "Median of ranked ratings: 1.94\n"
     ]
    }
   ],
   "source": [
    "print(f\"Median of ranked ratings: {recco['rank_ratings'].median().round(2)}\")"
   ]
  },
  {
   "cell_type": "code",
   "execution_count": null,
   "metadata": {
    "id": "Q2ElrTL8oA1f"
   },
   "outputs": [],
   "source": [
    "def precision_recall_at_k(predictions, k=10):\n",
    "    \"\"\"Return precision and recall at k metrics for each user\"\"\"\n",
    "\n",
    "    # First map the predictions to each user.\n",
    "    user_est_true = defaultdict(list)\n",
    "    for uid, _, true_r, est, _ in predictions:\n",
    "        user_est_true[uid].append((est, true_r))\n",
    "\n",
    "    precisions = dict()\n",
    "    recalls = dict()\n",
    "    for uid, user_ratings in user_est_true.items():\n",
    "\n",
    "        # Sort user ratings by estimated value\n",
    "        user_ratings.sort(key=lambda x: x[0], reverse=True)\n",
    "\n",
    "        # Number of relevant items\n",
    "        n_rel = sum((true_r >= 1.94) for (_, true_r) in user_ratings)\n",
    "\n",
    "        # Number of recommended items in top k\n",
    "        n_rec_k = sum((est >= 1.94) for (est, _) in user_ratings[:k])\n",
    "\n",
    "        # Number of relevant and recommended items in top k\n",
    "        n_rel_and_rec_k = sum(((true_r >= 1.94) and (est >= 1.94)) for (est, true_r) in user_ratings[:k])\n",
    "\n",
    "        # Precision@K: Proportion of recommended items that are relevant\n",
    "        # When n_rec_k is 0, Precision is undefined. We here set it to 0.\n",
    "        precisions[uid] = n_rel_and_rec_k / n_rec_k if n_rec_k != 0 else 0\n",
    "\n",
    "        # Recall@K: Proportion of relevant items that are recommended\n",
    "        # When n_rel is 0, Recall is undefined. We here set it to 0.\n",
    "        recalls[uid] = n_rel_and_rec_k / n_rel if n_rel != 0 else 0\n",
    "\n",
    "    return precisions, recalls"
   ]
  },
  {
   "cell_type": "markdown",
   "metadata": {
    "id": "FHMmdlxgZh8v"
   },
   "source": [
    "**Precison@k, Recall@k for Random predictor**"
   ]
  },
  {
   "cell_type": "code",
   "execution_count": null,
   "metadata": {
    "id": "VdQzaRlVao2E"
   },
   "outputs": [],
   "source": [
    "kf = KFold(n_splits=5)\n",
    "algo0 = NormalPredictor()"
   ]
  },
  {
   "cell_type": "code",
   "execution_count": null,
   "metadata": {
    "id": "wl16qkfNaBn2"
   },
   "outputs": [],
   "source": [
    "precision_list0 = []\n",
    "recall_list0 = []\n",
    "k_list0 = [k for k in range(1, 21)]  # Precision and recall for top k = 1 to 10\n",
    "for k in k_list0:\n",
    "    precision_sum0 = 0\n",
    "    recall_sum0 = 0\n",
    "    for trainset, testset in kf.split(data):\n",
    "        algo0.fit(trainset)\n",
    "        predictions = algo0.test(testset)\n",
    "        precisions, recalls = precision_recall_at_k(predictions, k=k)\n",
    "\n",
    "        # Precision and recall can then be averaged over all users\n",
    "        precision_sum0 += sum(prec for prec in precisions.values()) / len(precisions)\n",
    "        recall_sum0 += sum(rec for rec in recalls.values()) / len(recalls)\n",
    "    # Average over all folds\n",
    "    precision_list0.append(precision_sum0 / kf.n_splits)\n",
    "    recall_list0.append(recall_sum0 / kf.n_splits)\n",
    "    "
   ]
  },
  {
   "cell_type": "code",
   "execution_count": null,
   "metadata": {
    "colab": {
     "base_uri": "https://localhost:8080/",
     "height": 472
    },
    "executionInfo": {
     "elapsed": 21,
     "status": "ok",
     "timestamp": 1682489181406,
     "user": {
      "displayName": "Kenneth Lim",
      "userId": "13515568553746894809"
     },
     "user_tz": -480
    },
    "id": "QyiMZ1fgJMYC",
    "outputId": "f07f7c9b-026c-49a0-c4ba-b623ceeaa390"
   },
   "outputs": [
    {
     "data": {
      "image/png": "[encoded data removed]",
      "text/plain": [
       "<Figure size 640x480 with 1 Axes>"
      ]
     },
     "metadata": {},
     "output_type": "display_data"
    }
   ],
   "source": [
    "# Plot precision and recall vs k\n",
    "plt.plot(k_list0, precision_list0, label='Precision')\n",
    "plt.plot(k_list0, recall_list0, label='Recall')\n",
    "plt.legend()\n",
    "plt.xlabel('k')\n",
    "plt.ylabel('Metric')\n",
    "plt.title('Precision and Recall vs k (Random Predictor)')\n",
    "plt.show()"
   ]
  },
  {
   "cell_type": "code",
   "execution_count": 48,
   "metadata": {
    "colab": {
     "base_uri": "https://localhost:8080/"
    },
    "executionInfo": {
     "elapsed": 24885,
     "status": "ok",
     "timestamp": 1682502581892,
     "user": {
      "displayName": "Kenneth Lim",
      "userId": "13515568553746894809"
     },
     "user_tz": -480
    },
    "id": "8vTiMjK59ng3",
    "outputId": "a661de9f-b2cb-42aa-c6a1-cd8974f8b4c6"
   },
   "outputs": [
    {
     "name": "stdout",
     "output_type": "stream",
     "text": [
      "Average precision@k: 0.454\n",
      "Average recall@k: 0.505\n"
     ]
    }
   ],
   "source": [
    "precision_list0 = []\n",
    "recall_list0 = []\n",
    "\n",
    "#normalised with mean centering: scale set to 0 to 5 based on new distribution\n",
    "for trainset, testset in kf.split(data):\n",
    "    algo0.fit(trainset)\n",
    "    predictions = algo0.test(testset)\n",
    "    precisions, recalls = precision_recall_at_k(predictions, k=10)\n",
    "\n",
    "    # Precision and recall can then be averaged over all users\n",
    "    precision = sum(prec for prec in precisions.values()) / len(precisions)\n",
    "    recall = sum(rec for rec in recalls.values()) / len(recalls)\n",
    "    precision_list0.append(precision)\n",
    "    recall_list0.append(recall)\n",
    "\n",
    "print(f\"Average precision@k: {round(np.mean(precision_list0), 3)}\")\n",
    "print(f\"Average recall@k: {round(np.mean(recall_list0), 3)}\")\n"
   ]
  },
  {
   "cell_type": "markdown",
   "metadata": {
    "id": "Qyu9K5CSgsNT"
   },
   "source": [
    "**Precison@k, Recall@k for Baseline(ALS/SGD) predictor**"
   ]
  },
  {
   "cell_type": "code",
   "execution_count": null,
   "metadata": {
    "id": "_YMBWpTugyVH"
   },
   "outputs": [],
   "source": [
    "kf = KFold(n_splits=5)\n",
    "bsl_options = {'method': 'als', 'n_epochs': 20, 'reg_u': 20, 'reg_i': 5}\n",
    "algo1 = BaselineOnly(bsl_options=bsl_options)"
   ]
  },
  {
   "cell_type": "code",
   "execution_count": null,
   "metadata": {
    "colab": {
     "base_uri": "https://localhost:8080/"
    },
    "executionInfo": {
     "elapsed": 1052072,
     "status": "ok",
     "timestamp": 1682492766699,
     "user": {
      "displayName": "Kenneth Lim",
      "userId": "13515568553746894809"
     },
     "user_tz": -480
    },
    "id": "cv4cMYUEg7SE",
    "outputId": "4b28af18-0be2-4a0e-b228-68e449720b1d"
   },
   "outputs": [
    {
     "name": "stdout",
     "output_type": "stream",
     "text": [
      "Estimating biases using als...\n",
      "Estimating biases using als...\n",
      "Estimating biases using als...\n",
      "Estimating biases using als...\n",
      "Estimating biases using als...\n",
      "Estimating biases using als...\n",
      "Estimating biases using als...\n",
      "Estimating biases using als...\n",
      "Estimating biases using als...\n",
      "Estimating biases using als...\n",
      "Estimating biases using als...\n",
      "Estimating biases using als...\n",
      "Estimating biases using als...\n",
      "Estimating biases using als...\n",
      "Estimating biases using als...\n",
      "Estimating biases using als...\n",
      "Estimating biases using als...\n",
      "Estimating biases using als...\n",
      "Estimating biases using als...\n",
      "Estimating biases using als...\n",
      "Estimating biases using als...\n",
      "Estimating biases using als...\n",
      "Estimating biases using als...\n",
      "Estimating biases using als...\n",
      "Estimating biases using als...\n",
      "Estimating biases using als...\n",
      "Estimating biases using als...\n",
      "Estimating biases using als...\n",
      "Estimating biases using als...\n",
      "Estimating biases using als...\n",
      "Estimating biases using als...\n",
      "Estimating biases using als...\n",
      "Estimating biases using als...\n",
      "Estimating biases using als...\n",
      "Estimating biases using als...\n",
      "Estimating biases using als...\n",
      "Estimating biases using als...\n",
      "Estimating biases using als...\n",
      "Estimating biases using als...\n",
      "Estimating biases using als...\n",
      "Estimating biases using als...\n",
      "Estimating biases using als...\n",
      "Estimating biases using als...\n",
      "Estimating biases using als...\n",
      "Estimating biases using als...\n",
      "Estimating biases using als...\n",
      "Estimating biases using als...\n",
      "Estimating biases using als...\n",
      "Estimating biases using als...\n",
      "Estimating biases using als...\n",
      "Estimating biases using als...\n",
      "Estimating biases using als...\n",
      "Estimating biases using als...\n",
      "Estimating biases using als...\n",
      "Estimating biases using als...\n",
      "Estimating biases using als...\n",
      "Estimating biases using als...\n",
      "Estimating biases using als...\n",
      "Estimating biases using als...\n",
      "Estimating biases using als...\n",
      "Estimating biases using als...\n",
      "Estimating biases using als...\n",
      "Estimating biases using als...\n",
      "Estimating biases using als...\n",
      "Estimating biases using als...\n",
      "Estimating biases using als...\n",
      "Estimating biases using als...\n",
      "Estimating biases using als...\n",
      "Estimating biases using als...\n",
      "Estimating biases using als...\n",
      "Estimating biases using als...\n",
      "Estimating biases using als...\n",
      "Estimating biases using als...\n",
      "Estimating biases using als...\n",
      "Estimating biases using als...\n",
      "Estimating biases using als...\n",
      "Estimating biases using als...\n",
      "Estimating biases using als...\n",
      "Estimating biases using als...\n",
      "Estimating biases using als...\n",
      "Estimating biases using als...\n",
      "Estimating biases using als...\n",
      "Estimating biases using als...\n",
      "Estimating biases using als...\n",
      "Estimating biases using als...\n",
      "Estimating biases using als...\n",
      "Estimating biases using als...\n",
      "Estimating biases using als...\n",
      "Estimating biases using als...\n",
      "Estimating biases using als...\n",
      "Estimating biases using als...\n",
      "Estimating biases using als...\n",
      "Estimating biases using als...\n",
      "Estimating biases using als...\n",
      "Estimating biases using als...\n",
      "Estimating biases using als...\n",
      "Estimating biases using als...\n",
      "Estimating biases using als...\n",
      "Estimating biases using als...\n",
      "Estimating biases using als...\n"
     ]
    }
   ],
   "source": [
    "precision_list1 = []\n",
    "recall_list1 = []\n",
    "k_list1 = [k for k in range(1, 21)]  # Precision and recall for top k = 1 to 10\n",
    "for k in k_list1:\n",
    "    precision_sum1 = 0\n",
    "    recall_sum1 = 0\n",
    "    for trainset, testset in kf.split(data):\n",
    "        algo1.fit(trainset)\n",
    "        predictions = algo1.test(testset)\n",
    "        precisions, recalls = precision_recall_at_k(predictions, k=k)\n",
    "\n",
    "        # Precision and recall can then be averaged over all users\n",
    "        precision_sum1 += sum(prec for prec in precisions.values()) / len(precisions)\n",
    "        recall_sum1 += sum(rec for rec in recalls.values()) / len(recalls)\n",
    "    # Average over all folds\n",
    "    precision_list1.append(precision_sum1 / kf.n_splits)\n",
    "    recall_list1.append(recall_sum1 / kf.n_splits)"
   ]
  },
  {
   "cell_type": "code",
   "execution_count": null,
   "metadata": {
    "colab": {
     "base_uri": "https://localhost:8080/",
     "height": 472
    },
    "executionInfo": {
     "elapsed": 26,
     "status": "ok",
     "timestamp": 1682492766702,
     "user": {
      "displayName": "Kenneth Lim",
      "userId": "13515568553746894809"
     },
     "user_tz": -480
    },
    "id": "eVEZMNPlUnrg",
    "outputId": "ace06ea9-615a-4c3f-a8fd-3081030932f2"
   },
   "outputs": [
    {
     "data": {
      "image/png": "[encoded data removed]",
      "text/plain": [
       "<Figure size 640x480 with 1 Axes>"
      ]
     },
     "metadata": {},
     "output_type": "display_data"
    }
   ],
   "source": [
    "# Plot precision and recall vs k\n",
    "plt.plot(k_list1, precision_list1, label='Precision')\n",
    "plt.plot(k_list1, recall_list1, label='Recall')\n",
    "plt.legend()\n",
    "plt.xlabel('k')\n",
    "plt.ylabel('Metric')\n",
    "plt.title('Precision and Recall vs k (Baseline: ALS/SGD)')\n",
    "plt.show()"
   ]
  },
  {
   "cell_type": "code",
   "execution_count": null,
   "metadata": {
    "colab": {
     "base_uri": "https://localhost:8080/"
    },
    "executionInfo": {
     "elapsed": 53932,
     "status": "ok",
     "timestamp": 1682493411774,
     "user": {
      "displayName": "Kenneth Lim",
      "userId": "13515568553746894809"
     },
     "user_tz": -480
    },
    "id": "4kgmEzzfazO5",
    "outputId": "77955988-5ae1-4d0a-bb3d-d0b58a1a28d0"
   },
   "outputs": [
    {
     "name": "stdout",
     "output_type": "stream",
     "text": [
      "Estimating biases using als...\n",
      "Estimating biases using als...\n",
      "Estimating biases using als...\n",
      "Estimating biases using als...\n",
      "Estimating biases using als...\n",
      "Average precision@k: 0.559483195609334\n",
      "Average recall@k: 0.7302302730721605\n"
     ]
    }
   ],
   "source": [
    "precision_list1 = []\n",
    "recall_list1 = []\n",
    "\n",
    "#normalised with mean centering: scale set to 0 to 5 based on new distribution\n",
    "for trainset, testset in kf.split(data):\n",
    "    algo1.fit(trainset)\n",
    "    predictions = algo1.test(testset)\n",
    "    precisions, recalls = precision_recall_at_k(predictions, k=10)\n",
    "\n",
    "    # Precision and recall can then be averaged over all users\n",
    "    precision = sum(prec for prec in precisions.values()) / len(precisions)\n",
    "    recall = sum(rec for rec in recalls.values()) / len(recalls)\n",
    "    precision_list1.append(precision)\n",
    "    recall_list1.append(recall)\n",
    "\n",
    "print(f\"Average precision@k: {np.mean(precision_list1)}\")\n",
    "print(f\"Average recall@k: {np.mean(recall_list1)}\")"
   ]
  },
  {
   "cell_type": "markdown",
   "metadata": {
    "id": "_vY5Qlyphnd_"
   },
   "source": [
    "**Precison@k, Recall@k for SVD predictor**"
   ]
  },
  {
   "cell_type": "code",
   "execution_count": null,
   "metadata": {
    "id": "k7FbJpnWhs3l"
   },
   "outputs": [],
   "source": [
    "kf = KFold(n_splits=5)\n",
    "algo2 = SVD(n_factors=20, n_epochs=10, lr_all=0.005, reg_all=0.05)"
   ]
  },
  {
   "cell_type": "code",
   "execution_count": null,
   "metadata": {
    "id": "r8ULeBp0hvmZ"
   },
   "outputs": [],
   "source": [
    "precision_list2 = []\n",
    "recall_list2 = []\n",
    "k_list2 = [k for k in range(1, 21)]  # Precision and recall for top k = 1 to 20\n",
    "for k in k_list2:\n",
    "    precision_sum2 = 0\n",
    "    recall_sum2 = 0\n",
    "    for trainset, testset in kf.split(data):\n",
    "        algo2.fit(trainset)\n",
    "        predictions = algo2.test(testset)\n",
    "        precisions, recalls = precision_recall_at_k(predictions, k=k)\n",
    "\n",
    "        # Precision and recall can then be averaged over all users\n",
    "        precision_sum2 += sum(prec for prec in precisions.values()) / len(precisions)\n",
    "        recall_sum2 += sum(rec for rec in recalls.values()) / len(recalls)\n",
    "    # Average over all folds\n",
    "    precision_list2.append(precision_sum2 / kf.n_splits)\n",
    "    recall_list2.append(recall_sum2 / kf.n_splits)"
   ]
  },
  {
   "cell_type": "code",
   "execution_count": null,
   "metadata": {
    "colab": {
     "base_uri": "https://localhost:8080/",
     "height": 472
    },
    "executionInfo": {
     "elapsed": 24,
     "status": "ok",
     "timestamp": 1682490021548,
     "user": {
      "displayName": "Kenneth Lim",
      "userId": "13515568553746894809"
     },
     "user_tz": -480
    },
    "id": "j36_0jxQLJO-",
    "outputId": "8f50c05c-4648-412c-e7d8-2966642a1191"
   },
   "outputs": [
    {
     "data": {
      "image/png": "[encoded data removed]",
      "text/plain": [
       "<Figure size 640x480 with 1 Axes>"
      ]
     },
     "metadata": {},
     "output_type": "display_data"
    }
   ],
   "source": [
    "# Plot precision and recall vs k\n",
    "plt.plot(k_list2, precision_list2, label='Precision')\n",
    "plt.plot(k_list2, recall_list2, label='Recall')\n",
    "plt.legend()\n",
    "plt.xlabel('k')\n",
    "plt.ylabel('Metric')\n",
    "plt.title('Precision and Recall vs k (SVD)')\n",
    "plt.show()"
   ]
  },
  {
   "cell_type": "code",
   "execution_count": 49,
   "metadata": {
    "colab": {
     "base_uri": "https://localhost:8080/"
    },
    "executionInfo": {
     "elapsed": 40078,
     "status": "ok",
     "timestamp": 1682502707133,
     "user": {
      "displayName": "Kenneth Lim",
      "userId": "13515568553746894809"
     },
     "user_tz": -480
    },
    "id": "Gfqp9LVAO0hI",
    "outputId": "9ff96f6b-843b-4fb1-ce60-ceb4dca38979"
   },
   "outputs": [
    {
     "name": "stdout",
     "output_type": "stream",
     "text": [
      "Average precision@k: 0.557\n",
      "Average recall@k: 0.734\n"
     ]
    }
   ],
   "source": [
    "precision_list2 = []\n",
    "recall_list2 = []\n",
    "\n",
    "#normalised with mean centering: scale set to 0 to 5 based on new distribution\n",
    "for trainset, testset in kf.split(data):\n",
    "    algo2.fit(trainset)\n",
    "    predictions = algo2.test(testset)\n",
    "    precisions, recalls = precision_recall_at_k(predictions, k=10)\n",
    "\n",
    "    # Precision and recall can then be averaged over all users\n",
    "    precision = sum(prec for prec in precisions.values()) / len(precisions)\n",
    "    recall = sum(rec for rec in recalls.values()) / len(recalls)\n",
    "    precision_list2.append(precision)\n",
    "    recall_list2.append(recall)\n",
    "\n",
    "print(f\"Average precision@k: {round(np.mean(precision_list2), 3)}\")\n",
    "print(f\"Average recall@k: {round(np.mean(recall_list2), 3)}\")"
   ]
  },
  {
   "cell_type": "markdown",
   "metadata": {
    "id": "fxQYlqeEiqWl"
   },
   "source": [
    "**Precison@k, Recall@k for SVD++ predictor**"
   ]
  },
  {
   "cell_type": "code",
   "execution_count": null,
   "metadata": {
    "id": "rhHUeLbWitOe"
   },
   "outputs": [],
   "source": [
    "kf = KFold(n_splits=5)\n",
    "algo3 = SVDpp(n_factors=20, n_epochs=10, lr_all=0.005, reg_all=0.05)"
   ]
  },
  {
   "cell_type": "code",
   "execution_count": null,
   "metadata": {
    "id": "bJQ6Zz05itUR"
   },
   "outputs": [],
   "source": [
    "precision_list3= []\n",
    "recall_list3 = []\n",
    "k_list3 = [k for k in range(1, 21)]  # Precision and recall for top k = 1 to 20\n",
    "for k in k_list3:\n",
    "    precision_sum3 = 0\n",
    "    recall_sum3 = 0\n",
    "    for trainset, testset in kf.split(data):\n",
    "        algo3.fit(trainset)\n",
    "        predictions = algo3.test(testset)\n",
    "        precisions, recalls = precision_recall_at_k(predictions, k=k)\n",
    "\n",
    "        # Precision and recall can then be averaged over all users\n",
    "        precision_sum3 += sum(prec for prec in precisions.values()) / len(precisions)\n",
    "        recall_sum3 += sum(rec for rec in recalls.values()) / len(recalls)\n",
    "    # Average over all folds\n",
    "    precision_list3.append(precision_sum3 / kf.n_splits)\n",
    "    recall_list3.append(recall_sum3 / kf.n_splits)"
   ]
  },
  {
   "cell_type": "code",
   "execution_count": null,
   "metadata": {
    "colab": {
     "base_uri": "https://localhost:8080/",
     "height": 472
    },
    "executionInfo": {
     "elapsed": 30,
     "status": "ok",
     "timestamp": 1682495570000,
     "user": {
      "displayName": "Kenneth Lim",
      "userId": "13515568553746894809"
     },
     "user_tz": -480
    },
    "id": "Y_zfl33acXNU",
    "outputId": "a1b4c0e6-e97a-46d1-f608-2759c549eb47"
   },
   "outputs": [
    {
     "data": {
      "image/png": "[encoded data removed]",
      "text/plain": [
       "<Figure size 640x480 with 1 Axes>"
      ]
     },
     "metadata": {},
     "output_type": "display_data"
    }
   ],
   "source": [
    "# Plot precision and recall vs k\n",
    "plt.plot(k_list3, precision_list3, label='Precision')\n",
    "plt.plot(k_list3, recall_list3, label='Recall')\n",
    "plt.legend()\n",
    "plt.xlabel('k')\n",
    "plt.ylabel('Metric')\n",
    "plt.title('Precision and Recall vs k (SVD++)')\n",
    "plt.show()"
   ]
  },
  {
   "cell_type": "code",
   "execution_count": 50,
   "metadata": {
    "colab": {
     "base_uri": "https://localhost:8080/"
    },
    "executionInfo": {
     "elapsed": 96872,
     "status": "ok",
     "timestamp": 1682502897384,
     "user": {
      "displayName": "Kenneth Lim",
      "userId": "13515568553746894809"
     },
     "user_tz": -480
    },
    "id": "PDUWY8VEkMQ4",
    "outputId": "5799516a-c955-42bf-af2a-27254ec35e83"
   },
   "outputs": [
    {
     "name": "stdout",
     "output_type": "stream",
     "text": [
      "Average precision@k: 0.558\n",
      "Average recall@k: 0.735\n"
     ]
    }
   ],
   "source": [
    "precision_list3 = []\n",
    "recall_list3 = []\n",
    "\n",
    "#normalised with mean centering: scale set to 0 to 5 based on new distribution\n",
    "for trainset, testset in kf.split(data):\n",
    "    algo3.fit(trainset)\n",
    "    predictions = algo3.test(testset)\n",
    "    precisions, recalls = precision_recall_at_k(predictions, k=10)\n",
    "\n",
    "    # Precision and recall can then be averaged over all users\n",
    "    precision = sum(prec for prec in precisions.values()) / len(precisions)\n",
    "    recall = sum(rec for rec in recalls.values()) / len(recalls)\n",
    "    precision_list3.append(precision)\n",
    "    recall_list3.append(recall)\n",
    "\n",
    "print(f\"Average precision@k: {round(np.mean(precision_list3), 3)}\")\n",
    "print(f\"Average recall@k: {round(np.mean(recall_list3), 3)}\")"
   ]
  },
  {
   "cell_type": "markdown",
   "metadata": {
    "id": "X6--aVBIiyrQ"
   },
   "source": [
    "**Precison@k, Recall@k for SlopeOne predictor**"
   ]
  },
  {
   "cell_type": "code",
   "execution_count": null,
   "metadata": {
    "id": "DTtz0kZ_i5tS"
   },
   "outputs": [],
   "source": [
    "kf = KFold(n_splits=5)\n",
    "algo5 = SlopeOne()"
   ]
  },
  {
   "cell_type": "code",
   "execution_count": null,
   "metadata": {
    "id": "4-OieG5Si5yT"
   },
   "outputs": [],
   "source": [
    "precision_list5= []\n",
    "recall_list5 = []\n",
    "k_list5 = [k for k in range(1, 21)]  # Precision and recall for top k = 1 to 10\n",
    "for k in k_list5:\n",
    "    precision_sum5 = 0\n",
    "    recall_sum5 = 0\n",
    "    for trainset, testset in kf.split(data):\n",
    "        algo5.fit(trainset)\n",
    "        predictions = algo5.test(testset)\n",
    "        precisions, recalls = precision_recall_at_k(predictions, k=k)\n",
    "\n",
    "        # Precision and recall can then be averaged over all users\n",
    "        precision_sum5 += sum(prec for prec in precisions.values()) / len(precisions)\n",
    "        recall_sum5 += sum(rec for rec in recalls.values()) / len(recalls)\n",
    "    # Average over all folds\n",
    "    precision_list5.append(precision_sum5 / kf.n_splits)\n",
    "    recall_list5.append(recall_sum5 / kf.n_splits)"
   ]
  },
  {
   "cell_type": "code",
   "execution_count": null,
   "metadata": {
    "colab": {
     "base_uri": "https://localhost:8080/",
     "height": 472
    },
    "executionInfo": {
     "elapsed": 1454,
     "status": "ok",
     "timestamp": 1682497016011,
     "user": {
      "displayName": "Kenneth Lim",
      "userId": "13515568553746894809"
     },
     "user_tz": -480
    },
    "id": "3UH6aFDRkQQj",
    "outputId": "5d2f8da1-6615-42fd-fc99-48ff4c3899d2"
   },
   "outputs": [
    {
     "data": {
      "image/png": "[encoded data removed]",
      "text/plain": [
       "<Figure size 640x480 with 1 Axes>"
      ]
     },
     "metadata": {},
     "output_type": "display_data"
    }
   ],
   "source": [
    "# Plot precision and recall vs k\n",
    "plt.plot(k_list5, precision_list5, label='Precision')\n",
    "plt.plot(k_list5, recall_list5, label='Recall')\n",
    "plt.legend()\n",
    "plt.xlabel('k')\n",
    "plt.ylabel('Metric')\n",
    "plt.title('Precision and Recall vs k (SlopeOne)')\n",
    "plt.show()"
   ]
  },
  {
   "cell_type": "code",
   "execution_count": 51,
   "metadata": {
    "colab": {
     "base_uri": "https://localhost:8080/"
    },
    "executionInfo": {
     "elapsed": 39328,
     "status": "ok",
     "timestamp": 1682503054774,
     "user": {
      "displayName": "Kenneth Lim",
      "userId": "13515568553746894809"
     },
     "user_tz": -480
    },
    "id": "QlJOUfBEplW2",
    "outputId": "039c673a-4be2-4ee0-84c6-8b5ac44eef4b"
   },
   "outputs": [
    {
     "name": "stdout",
     "output_type": "stream",
     "text": [
      "Average precision@k: 0.537\n",
      "Average recall@k: 0.691\n"
     ]
    }
   ],
   "source": [
    "precision_list5 = []\n",
    "recall_list5 = []\n",
    "\n",
    "#normalised with mean centering: scale set to 0 to 5 based on new distribution\n",
    "for trainset, testset in kf.split(data):\n",
    "    algo5.fit(trainset)\n",
    "    predictions = algo5.test(testset)\n",
    "    precisions, recalls = precision_recall_at_k(predictions, k=15)\n",
    "\n",
    "    # Precision and recall can then be averaged over all users\n",
    "    precision = sum(prec for prec in precisions.values()) / len(precisions)\n",
    "    recall = sum(rec for rec in recalls.values()) / len(recalls)\n",
    "    precision_list5.append(precision)\n",
    "    recall_list5.append(recall)\n",
    "\n",
    "print(f\"Average precision@k: {round(np.mean(precision_list5), 3)}\")\n",
    "print(f\"Average recall@k: {round(np.mean(recall_list5), 3)}\")"
   ]
  },
  {
   "cell_type": "markdown",
   "metadata": {
    "id": "MipAayhFi6af"
   },
   "source": [
    "**Precison@k, Recall@k for CoClustering predictor**"
   ]
  },
  {
   "cell_type": "code",
   "execution_count": 44,
   "metadata": {
    "executionInfo": {
     "elapsed": 9,
     "status": "ok",
     "timestamp": 1682497614278,
     "user": {
      "displayName": "Kenneth Lim",
      "userId": "13515568553746894809"
     },
     "user_tz": -480
    },
    "id": "u9KIuG9Wi-vK"
   },
   "outputs": [],
   "source": [
    "kf = KFold(n_splits=5)\n",
    "algo6 = CoClustering(n_cltr_u=3, n_epochs=40, n_cltr_i=3)"
   ]
  },
  {
   "cell_type": "code",
   "execution_count": 45,
   "metadata": {
    "executionInfo": {
     "elapsed": 4072075,
     "status": "ok",
     "timestamp": 1682501690199,
     "user": {
      "displayName": "Kenneth Lim",
      "userId": "13515568553746894809"
     },
     "user_tz": -480
    },
    "id": "SNxQfGNZi-0r"
   },
   "outputs": [],
   "source": [
    "precision_list6= []\n",
    "recall_list6 = []\n",
    "k_list6 = [k for k in range(1, 21)]  # Precision and recall for top k = 1 to 10\n",
    "for k in k_list6:\n",
    "    precision_sum6 = 0\n",
    "    recall_sum6 = 0\n",
    "    for trainset, testset in kf.split(data):\n",
    "        algo6.fit(trainset)\n",
    "        predictions = algo6.test(testset)\n",
    "        precisions, recalls = precision_recall_at_k(predictions, k=k)\n",
    "\n",
    "        # Precision and recall can then be averaged over all users\n",
    "        precision_sum6 += sum(prec for prec in precisions.values()) / len(precisions)\n",
    "        recall_sum6 += sum(rec for rec in recalls.values()) / len(recalls)\n",
    "    # Average over all folds\n",
    "    precision_list6.append(precision_sum6 / kf.n_splits)\n",
    "    recall_list6.append(recall_sum6 / kf.n_splits)"
   ]
  },
  {
   "cell_type": "code",
   "execution_count": 46,
   "metadata": {
    "colab": {
     "base_uri": "https://localhost:8080/",
     "height": 472
    },
    "executionInfo": {
     "elapsed": 13,
     "status": "ok",
     "timestamp": 1682501692148,
     "user": {
      "displayName": "Kenneth Lim",
      "userId": "13515568553746894809"
     },
     "user_tz": -480
    },
    "id": "ESd7SxlarISF",
    "outputId": "db5b2daf-5ec4-4cfd-c9c1-7d84522dc0d6"
   },
   "outputs": [
    {
     "data": {
      "image/png": "[encoded data removed]",
      "text/plain": [
       "<Figure size 640x480 with 1 Axes>"
      ]
     },
     "metadata": {},
     "output_type": "display_data"
    }
   ],
   "source": [
    "# Plot precision and recall vs k\n",
    "plt.plot(k_list6, precision_list6, label='Precision')\n",
    "plt.plot(k_list6, recall_list6, label='Recall')\n",
    "plt.legend()\n",
    "plt.xlabel('k')\n",
    "plt.ylabel('Metric')\n",
    "plt.title('Precision and Recall vs k (Co-Clustering)')\n",
    "plt.show()"
   ]
  },
  {
   "cell_type": "code",
   "execution_count": 52,
   "metadata": {
    "colab": {
     "base_uri": "https://localhost:8080/"
    },
    "executionInfo": {
     "elapsed": 227562,
     "status": "ok",
     "timestamp": 1682503465887,
     "user": {
      "displayName": "Kenneth Lim",
      "userId": "13515568553746894809"
     },
     "user_tz": -480
    },
    "id": "FyJg3gJXrTG9",
    "outputId": "ba8854d2-8b0e-4961-fb09-60b0e5084c3b"
   },
   "outputs": [
    {
     "name": "stdout",
     "output_type": "stream",
     "text": [
      "Average precision@k: 0.435\n",
      "Average recall@k: 0.443\n"
     ]
    }
   ],
   "source": [
    "precision_list6 = []\n",
    "recall_list6 = []\n",
    "\n",
    "#normalised with mean centering: scale set to 0 to 5 based on new distribution\n",
    "for trainset, testset in kf.split(data):\n",
    "    algo6.fit(trainset)\n",
    "    predictions = algo6.test(testset)\n",
    "    precisions, recalls = precision_recall_at_k(predictions, k=10)\n",
    "\n",
    "    # Precision and recall can then be averaged over all users\n",
    "    precision = sum(prec for prec in precisions.values()) / len(precisions)\n",
    "    recall = sum(rec for rec in recalls.values()) / len(recalls)\n",
    "    precision_list6.append(precision)\n",
    "    recall_list6.append(recall)\n",
    "\n",
    "print(f\"Average precision@k: {round(np.mean(precision_list6), 3)}\")\n",
    "print(f\"Average recall@k: {round(np.mean(recall_list6), 3)}\")"
   ]
  },
  {
   "cell_type": "markdown",
   "metadata": {
    "id": "tlmJYNFAmqp9"
   },
   "source": [
    "## Model Evaluation"
   ]
  },
  {
   "cell_type": "markdown",
   "metadata": {
    "id": "fSn2C8brmq2B"
   },
   "source": [
    "| **Model No.**| **Model** | **RMSE** |\n",
    "| --- | --- | ---|\n",
    "| 1 | Random Predictor (Baseline) | 1.444 |\n",
    "| 2 | Baseline Estimate | 0.985 |\n",
    "| 3 | **SVD (Matrix Factorization)** | **0.984** |\n",
    "| 4 | SVD++ (Matrix Factorization) | 0.981 |\n",
    "| 5 | SlopeOne | 1.009 |\n",
    "| 6 | Co-Clustering | 1.119 |"
   ]
  },
  {
   "cell_type": "markdown",
   "metadata": {
    "id": "ZUaXjemamrBf"
   },
   "source": [
    "| **Model No.**| **Model** | **Precision@10** | **Recall@10** |\n",
    "| --- | --- | ---| ---|\n",
    "| 1 | Random Predictor (Baseline) | 0.454 | 0.505 |\n",
    "| 2 | Baseline Estimate | 0.559 | 0.730 |\n",
    "| 3 | **SVD (Matrix Factorization)** | **0.557** | **0.734** |\n",
    "| 4 | SVD++ (Matrix Factorization) | 0.558 | 0.735 |\n",
    "| 5 | SlopeOne | 0.537 | 0.691 |\n",
    "| 6 | Co-Clustering | 0.435 | 0.443 |"
   ]
  },
  {
   "cell_type": "markdown",
   "metadata": {
    "id": "5nBJCS09pB4I"
   },
   "source": [
    "From our table of results shown above, it can be intepreted that Baseline Estimate, SVD and SVD++ have the best RMSE, precision@10 and recall@10 scores. The recall@10 scores are significantly higher than precision@10, as this aligns well with the goal of our initial objective which is to provide a comprehensive list of recommended game titles among the wide diversity of game titles to users. Hence, we will be prioritising this metric to be used for evaluating our selected model.\n",
    "\n",
    "Considering the scope of our project and these scores, our final selected model will be the SVD algorithm due its simpler interpretability, as well as requiring less computational power and being able to identify possible hidden latent features that can affect the playtime derived ratings while compared to the baseline estimate model. Hence, we will be using this model to perform our final ratings prediction and game titles recommendations."
   ]
  },
  {
   "cell_type": "markdown",
   "metadata": {
    "id": "racCA204ZS5z"
   },
   "source": [
    "### Collaborative Filtering Recommendations (Selected Model)"
   ]
  },
  {
   "cell_type": "code",
   "execution_count": null,
   "metadata": {
    "id": "ndQOTf6zoq3b"
   },
   "outputs": [],
   "source": [
    "def recommend_games(userid):\n",
    "    # Get a list of all the games the game has not rated\n",
    "    all_games = recco['app_id'].unique()\n",
    "    user_games = recco[recco['user_id'] == userid]['app_id'].unique()\n",
    "    new_games = list(set(all_games) - set(user_games))\n",
    "    \n",
    "    # Predict the ratings for the new games\n",
    "    predictions = [norm_model2.predict(userid, app_id) for app_id in new_games]\n",
    "    \n",
    "    # Sort the predictions by estimated rating\n",
    "    predictions.sort(key=lambda x: x.est, reverse=True)\n",
    "    \n",
    "    # Get the top 10 recommendations\n",
    "    top_recommendations = [prediction.iid for prediction in predictions[:10]]\n",
    "\n",
    "    #recommended_game_id = recco[recco['app_id'].isin(top_recommendations)]['app_id'].unique()\n",
    "    recommended_titles = recco[recco['app_id'].isin(top_recommendations)]['title'].unique()\n",
    "    df = pd.DataFrame({'title': recommended_titles})\n",
    "    \n",
    "    return df"
   ]
  },
  {
   "cell_type": "code",
   "execution_count": null,
   "metadata": {
    "colab": {
     "base_uri": "https://localhost:8080/",
     "height": 359
    },
    "executionInfo": {
     "elapsed": 6,
     "status": "ok",
     "timestamp": 1682415998942,
     "user": {
      "displayName": "Kenneth Lim",
      "userId": "13515568553746894809"
     },
     "user_tz": -480
    },
    "id": "9WM4AgdGoq6j",
    "outputId": "11e54fb1-874a-4a59-fdd6-d01aeaee2485"
   },
   "outputs": [
    {
     "data": {
      "text/html": [
       "\n",
       "  <div id=\"df-15c4efd5-a06f-4efc-921e-93be00db5c9c\">\n",
       "    <div class=\"colab-df-container\">\n",
       "      <div>\n",
       "<style scoped>\n",
       "    .dataframe tbody tr th:only-of-type {\n",
       "        vertical-align: middle;\n",
       "    }\n",
       "\n",
       "    .dataframe tbody tr th {\n",
       "        vertical-align: top;\n",
       "    }\n",
       "\n",
       "    .dataframe thead th {\n",
       "        text-align: right;\n",
       "    }\n",
       "</style>\n",
       "<table border=\"1\" class=\"dataframe\">\n",
       "  <thead>\n",
       "    <tr style=\"text-align: right;\">\n",
       "      <th></th>\n",
       "      <th>title</th>\n",
       "    </tr>\n",
       "  </thead>\n",
       "  <tbody>\n",
       "    <tr>\n",
       "      <th>0</th>\n",
       "      <td>Zero Escape: The Nonary Games</td>\n",
       "    </tr>\n",
       "    <tr>\n",
       "      <th>1</th>\n",
       "      <td>Danganronpa V3: Killing Harmony</td>\n",
       "    </tr>\n",
       "    <tr>\n",
       "      <th>2</th>\n",
       "      <td>Sid Meier's Civilization® V</td>\n",
       "    </tr>\n",
       "    <tr>\n",
       "      <th>3</th>\n",
       "      <td>Terraria</td>\n",
       "    </tr>\n",
       "    <tr>\n",
       "      <th>4</th>\n",
       "      <td>Total War: WARHAMMER</td>\n",
       "    </tr>\n",
       "    <tr>\n",
       "      <th>5</th>\n",
       "      <td>Crusader Kings III</td>\n",
       "    </tr>\n",
       "    <tr>\n",
       "      <th>6</th>\n",
       "      <td>Kingdom Come: Deliverance</td>\n",
       "    </tr>\n",
       "    <tr>\n",
       "      <th>7</th>\n",
       "      <td>Monster Hunter: World</td>\n",
       "    </tr>\n",
       "    <tr>\n",
       "      <th>8</th>\n",
       "      <td>MONSTER HUNTER RISE</td>\n",
       "    </tr>\n",
       "    <tr>\n",
       "      <th>9</th>\n",
       "      <td>Pathfinder: Wrath of the Righteous - Enhanced ...</td>\n",
       "    </tr>\n",
       "  </tbody>\n",
       "</table>\n",
       "</div>\n",
       "      <button class=\"colab-df-convert\" onclick=\"convertToInteractive('df-15c4efd5-a06f-4efc-921e-93be00db5c9c')\"\n",
       "              title=\"Convert this dataframe to an interactive table.\"\n",
       "              style=\"display:none;\">\n",
       "        \n",
       "  <svg xmlns=\"http://www.w3.org/2000/svg\" height=\"24px\"viewBox=\"0 0 24 24\"\n",
       "       width=\"24px\">\n",
       "    <path d=\"M0 0h24v24H0V0z\" fill=\"none\"/>\n",
       "    <path d=\"M18.56 5.44l.94 2.06.94-2.06 2.06-.94-2.06-.94-.94-2.06-.94 2.06-2.06.94zm-11 1L8.5 8.5l.94-2.06 2.06-.94-2.06-.94L8.5 2.5l-.94 2.06-2.06.94zm10 10l.94 2.06.94-2.06 2.06-.94-2.06-.94-.94-2.06-.94 2.06-2.06.94z\"/><path d=\"M17.41 7.96l-1.37-1.37c-.4-.4-.92-.59-1.43-.59-.52 0-1.04.2-1.43.59L10.3 9.45l-7.72 7.72c-.78.78-.78 2.05 0 2.83L4 21.41c.39.39.9.59 1.41.59.51 0 1.02-.2 1.41-.59l7.78-7.78 2.81-2.81c.8-.78.8-2.07 0-2.86zM5.41 20L4 18.59l7.72-7.72 1.47 1.35L5.41 20z\"/>\n",
       "  </svg>\n",
       "      </button>\n",
       "      \n",
       "  <style>\n",
       "    .colab-df-container {\n",
       "      display:flex;\n",
       "      flex-wrap:wrap;\n",
       "      gap: 12px;\n",
       "    }\n",
       "\n",
       "    .colab-df-convert {\n",
       "      background-color: #E8F0FE;\n",
       "      border: none;\n",
       "      border-radius: 50%;\n",
       "      cursor: pointer;\n",
       "      display: none;\n",
       "      fill: #1967D2;\n",
       "      height: 32px;\n",
       "      padding: 0 0 0 0;\n",
       "      width: 32px;\n",
       "    }\n",
       "\n",
       "    .colab-df-convert:hover {\n",
       "      background-color: #E2EBFA;\n",
       "      box-shadow: 0px 1px 2px rgba(60, 64, 67, 0.3), 0px 1px 3px 1px rgba(60, 64, 67, 0.15);\n",
       "      fill: #174EA6;\n",
       "    }\n",
       "\n",
       "    [theme=dark] .colab-df-convert {\n",
       "      background-color: #3B4455;\n",
       "      fill: #D2E3FC;\n",
       "    }\n",
       "\n",
       "    [theme=dark] .colab-df-convert:hover {\n",
       "      background-color: #434B5C;\n",
       "      box-shadow: 0px 1px 3px 1px rgba(0, 0, 0, 0.15);\n",
       "      filter: drop-shadow(0px 1px 2px rgba(0, 0, 0, 0.3));\n",
       "      fill: #FFFFFF;\n",
       "    }\n",
       "  </style>\n",
       "\n",
       "      <script>\n",
       "        const buttonEl =\n",
       "          document.querySelector('#df-15c4efd5-a06f-4efc-921e-93be00db5c9c button.colab-df-convert');\n",
       "        buttonEl.style.display =\n",
       "          google.colab.kernel.accessAllowed ? 'block' : 'none';\n",
       "\n",
       "        async function convertToInteractive(key) {\n",
       "          const element = document.querySelector('#df-15c4efd5-a06f-4efc-921e-93be00db5c9c');\n",
       "          const dataTable =\n",
       "            await google.colab.kernel.invokeFunction('convertToInteractive',\n",
       "                                                     [key], {});\n",
       "          if (!dataTable) return;\n",
       "\n",
       "          const docLinkHtml = 'Like what you see? Visit the ' +\n",
       "            '<a target=\"_blank\" href=https://colab.research.google.com/notebooks/data_table.ipynb>data table notebook</a>'\n",
       "            + ' to learn more about interactive tables.';\n",
       "          element.innerHTML = '';\n",
       "          dataTable['output_type'] = 'display_data';\n",
       "          await google.colab.output.renderOutput(dataTable, element);\n",
       "          const docLink = document.createElement('div');\n",
       "          docLink.innerHTML = docLinkHtml;\n",
       "          element.appendChild(docLink);\n",
       "        }\n",
       "      </script>\n",
       "    </div>\n",
       "  </div>\n",
       "  "
      ],
      "text/plain": [
       "                                               title\n",
       "0                      Zero Escape: The Nonary Games\n",
       "1                    Danganronpa V3: Killing Harmony\n",
       "2                        Sid Meier's Civilization® V\n",
       "3                                           Terraria\n",
       "4                               Total War: WARHAMMER\n",
       "5                                 Crusader Kings III\n",
       "6                          Kingdom Come: Deliverance\n",
       "7                              Monster Hunter: World\n",
       "8                                MONSTER HUNTER RISE\n",
       "9  Pathfinder: Wrath of the Righteous - Enhanced ..."
      ]
     },
     "execution_count": 101,
     "metadata": {},
     "output_type": "execute_result"
    }
   ],
   "source": [
    "#Binning transformation to [1,5] scale\n",
    "recommend_games(4924848)"
   ]
  },
  {
   "cell_type": "code",
   "execution_count": null,
   "metadata": {
    "colab": {
     "base_uri": "https://localhost:8080/",
     "height": 359
    },
    "executionInfo": {
     "elapsed": 9,
     "status": "ok",
     "timestamp": 1682415994135,
     "user": {
      "displayName": "Kenneth Lim",
      "userId": "13515568553746894809"
     },
     "user_tz": -480
    },
    "id": "DhFPRewsPgxz",
    "outputId": "f45ad4f9-06e3-4543-dcd8-c62204cac8f3"
   },
   "outputs": [
    {
     "data": {
      "text/html": [
       "\n",
       "  <div id=\"df-d0808058-1fab-4c51-9ec4-9739c74611fa\">\n",
       "    <div class=\"colab-df-container\">\n",
       "      <div>\n",
       "<style scoped>\n",
       "    .dataframe tbody tr th:only-of-type {\n",
       "        vertical-align: middle;\n",
       "    }\n",
       "\n",
       "    .dataframe tbody tr th {\n",
       "        vertical-align: top;\n",
       "    }\n",
       "\n",
       "    .dataframe thead th {\n",
       "        text-align: right;\n",
       "    }\n",
       "</style>\n",
       "<table border=\"1\" class=\"dataframe\">\n",
       "  <thead>\n",
       "    <tr style=\"text-align: right;\">\n",
       "      <th></th>\n",
       "      <th>title</th>\n",
       "    </tr>\n",
       "  </thead>\n",
       "  <tbody>\n",
       "    <tr>\n",
       "      <th>0</th>\n",
       "      <td>Panzer Corps 2</td>\n",
       "    </tr>\n",
       "    <tr>\n",
       "      <th>1</th>\n",
       "      <td>Total War: WARHAMMER</td>\n",
       "    </tr>\n",
       "    <tr>\n",
       "      <th>2</th>\n",
       "      <td>Total War: WARHAMMER III</td>\n",
       "    </tr>\n",
       "    <tr>\n",
       "      <th>3</th>\n",
       "      <td>FINAL FANTASY XIV Online</td>\n",
       "    </tr>\n",
       "    <tr>\n",
       "      <th>4</th>\n",
       "      <td>Monster Hunter: World</td>\n",
       "    </tr>\n",
       "    <tr>\n",
       "      <th>5</th>\n",
       "      <td>Deep Rock Galactic</td>\n",
       "    </tr>\n",
       "    <tr>\n",
       "      <th>6</th>\n",
       "      <td>Yakuza: Like a Dragon</td>\n",
       "    </tr>\n",
       "    <tr>\n",
       "      <th>7</th>\n",
       "      <td>Cyberpunk 2077</td>\n",
       "    </tr>\n",
       "    <tr>\n",
       "      <th>8</th>\n",
       "      <td>MONSTER HUNTER RISE</td>\n",
       "    </tr>\n",
       "    <tr>\n",
       "      <th>9</th>\n",
       "      <td>Pathfinder: Wrath of the Righteous - Enhanced ...</td>\n",
       "    </tr>\n",
       "  </tbody>\n",
       "</table>\n",
       "</div>\n",
       "      <button class=\"colab-df-convert\" onclick=\"convertToInteractive('df-d0808058-1fab-4c51-9ec4-9739c74611fa')\"\n",
       "              title=\"Convert this dataframe to an interactive table.\"\n",
       "              style=\"display:none;\">\n",
       "        \n",
       "  <svg xmlns=\"http://www.w3.org/2000/svg\" height=\"24px\"viewBox=\"0 0 24 24\"\n",
       "       width=\"24px\">\n",
       "    <path d=\"M0 0h24v24H0V0z\" fill=\"none\"/>\n",
       "    <path d=\"M18.56 5.44l.94 2.06.94-2.06 2.06-.94-2.06-.94-.94-2.06-.94 2.06-2.06.94zm-11 1L8.5 8.5l.94-2.06 2.06-.94-2.06-.94L8.5 2.5l-.94 2.06-2.06.94zm10 10l.94 2.06.94-2.06 2.06-.94-2.06-.94-.94-2.06-.94 2.06-2.06.94z\"/><path d=\"M17.41 7.96l-1.37-1.37c-.4-.4-.92-.59-1.43-.59-.52 0-1.04.2-1.43.59L10.3 9.45l-7.72 7.72c-.78.78-.78 2.05 0 2.83L4 21.41c.39.39.9.59 1.41.59.51 0 1.02-.2 1.41-.59l7.78-7.78 2.81-2.81c.8-.78.8-2.07 0-2.86zM5.41 20L4 18.59l7.72-7.72 1.47 1.35L5.41 20z\"/>\n",
       "  </svg>\n",
       "      </button>\n",
       "      \n",
       "  <style>\n",
       "    .colab-df-container {\n",
       "      display:flex;\n",
       "      flex-wrap:wrap;\n",
       "      gap: 12px;\n",
       "    }\n",
       "\n",
       "    .colab-df-convert {\n",
       "      background-color: #E8F0FE;\n",
       "      border: none;\n",
       "      border-radius: 50%;\n",
       "      cursor: pointer;\n",
       "      display: none;\n",
       "      fill: #1967D2;\n",
       "      height: 32px;\n",
       "      padding: 0 0 0 0;\n",
       "      width: 32px;\n",
       "    }\n",
       "\n",
       "    .colab-df-convert:hover {\n",
       "      background-color: #E2EBFA;\n",
       "      box-shadow: 0px 1px 2px rgba(60, 64, 67, 0.3), 0px 1px 3px 1px rgba(60, 64, 67, 0.15);\n",
       "      fill: #174EA6;\n",
       "    }\n",
       "\n",
       "    [theme=dark] .colab-df-convert {\n",
       "      background-color: #3B4455;\n",
       "      fill: #D2E3FC;\n",
       "    }\n",
       "\n",
       "    [theme=dark] .colab-df-convert:hover {\n",
       "      background-color: #434B5C;\n",
       "      box-shadow: 0px 1px 3px 1px rgba(0, 0, 0, 0.15);\n",
       "      filter: drop-shadow(0px 1px 2px rgba(0, 0, 0, 0.3));\n",
       "      fill: #FFFFFF;\n",
       "    }\n",
       "  </style>\n",
       "\n",
       "      <script>\n",
       "        const buttonEl =\n",
       "          document.querySelector('#df-d0808058-1fab-4c51-9ec4-9739c74611fa button.colab-df-convert');\n",
       "        buttonEl.style.display =\n",
       "          google.colab.kernel.accessAllowed ? 'block' : 'none';\n",
       "\n",
       "        async function convertToInteractive(key) {\n",
       "          const element = document.querySelector('#df-d0808058-1fab-4c51-9ec4-9739c74611fa');\n",
       "          const dataTable =\n",
       "            await google.colab.kernel.invokeFunction('convertToInteractive',\n",
       "                                                     [key], {});\n",
       "          if (!dataTable) return;\n",
       "\n",
       "          const docLinkHtml = 'Like what you see? Visit the ' +\n",
       "            '<a target=\"_blank\" href=https://colab.research.google.com/notebooks/data_table.ipynb>data table notebook</a>'\n",
       "            + ' to learn more about interactive tables.';\n",
       "          element.innerHTML = '';\n",
       "          dataTable['output_type'] = 'display_data';\n",
       "          await google.colab.output.renderOutput(dataTable, element);\n",
       "          const docLink = document.createElement('div');\n",
       "          docLink.innerHTML = docLinkHtml;\n",
       "          element.appendChild(docLink);\n",
       "        }\n",
       "      </script>\n",
       "    </div>\n",
       "  </div>\n",
       "  "
      ],
      "text/plain": [
       "                                               title\n",
       "0                                     Panzer Corps 2\n",
       "1                               Total War: WARHAMMER\n",
       "2                           Total War: WARHAMMER III\n",
       "3                           FINAL FANTASY XIV Online\n",
       "4                              Monster Hunter: World\n",
       "5                                 Deep Rock Galactic\n",
       "6                              Yakuza: Like a Dragon\n",
       "7                                     Cyberpunk 2077\n",
       "8                                MONSTER HUNTER RISE\n",
       "9  Pathfinder: Wrath of the Righteous - Enhanced ..."
      ]
     },
     "execution_count": 100,
     "metadata": {},
     "output_type": "execute_result"
    }
   ],
   "source": [
    "#Binning transformation to [1,5] scale\n",
    "recommend_games(3869605)"
   ]
  },
  {
   "cell_type": "markdown",
   "metadata": {
    "id": "kx9pDE5apFj1"
   },
   "source": [
    "## Similarity Visualisation Between Game titles"
   ]
  },
  {
   "cell_type": "code",
   "execution_count": null,
   "metadata": {
    "id": "_j3d0UTK-R9v"
   },
   "outputs": [],
   "source": [
    "tsne = TSNE(n_components=2, n_iter=500, verbose=3, random_state=42, perplexity=50)"
   ]
  },
  {
   "cell_type": "code",
   "execution_count": null,
   "metadata": {
    "colab": {
     "base_uri": "https://localhost:8080/"
    },
    "executionInfo": {
     "elapsed": 302,
     "status": "ok",
     "timestamp": 1682488024662,
     "user": {
      "displayName": "Kenneth Lim",
      "userId": "13515568553746894809"
     },
     "user_tz": -480
    },
    "id": "WoD_eU_s_R1v",
    "outputId": "4d8f890b-68c9-4494-a3e5-8e51be1161d1"
   },
   "outputs": [
    {
     "data": {
      "text/plain": [
       "array([[ 0.01596978, -0.04951485,  0.05749949, ...,  0.0087359 ,\n",
       "        -0.17764171, -0.04325347],\n",
       "       [ 0.00469299, -0.12189248, -0.04118887, ...,  0.0466364 ,\n",
       "        -0.01782558,  0.05977293],\n",
       "       [-0.09709908, -0.0158635 ,  0.0648885 , ..., -0.02678221,\n",
       "         0.00747243,  0.04596902],\n",
       "       ...,\n",
       "       [ 0.12174923,  0.05190658, -0.04519965, ..., -0.14992963,\n",
       "         0.02970848, -0.2457876 ],\n",
       "       [ 0.02816448,  0.09411387, -0.05882151, ...,  0.00246216,\n",
       "        -0.05939949,  0.02838576],\n",
       "       [ 0.05843076, -0.17318932, -0.0394768 , ...,  0.0445432 ,\n",
       "         0.07627339,  0.13539187]])"
      ]
     },
     "execution_count": 19,
     "metadata": {},
     "output_type": "execute_result"
    }
   ],
   "source": [
    "norm_model2.qi"
   ]
  },
  {
   "cell_type": "code",
   "execution_count": null,
   "metadata": {
    "colab": {
     "base_uri": "https://localhost:8080/"
    },
    "executionInfo": {
     "elapsed": 2856,
     "status": "ok",
     "timestamp": 1682488037067,
     "user": {
      "displayName": "Kenneth Lim",
      "userId": "13515568553746894809"
     },
     "user_tz": -480
    },
    "id": "dNwAqbdP-vBs",
    "outputId": "09dddf41-bc44-40f3-f51f-1ebb71a6898b"
   },
   "outputs": [
    {
     "name": "stdout",
     "output_type": "stream",
     "text": [
      "[t-SNE] Computing 151 nearest neighbors...\n",
      "[t-SNE] Indexed 623 samples in 0.001s...\n",
      "[t-SNE] Computed neighbors for 623 samples in 0.403s...\n",
      "[t-SNE] Computed conditional probabilities for sample 623 / 623\n",
      "[t-SNE] Mean sigma: 0.116113\n",
      "[t-SNE] Computed conditional probabilities in 0.065s\n",
      "[t-SNE] Iteration 50: error = 55.2614594, gradient norm = 0.1903261 (50 iterations in 0.507s)\n",
      "[t-SNE] Iteration 100: error = 55.8195953, gradient norm = 0.1614803 (50 iterations in 0.240s)\n",
      "[t-SNE] Iteration 150: error = 56.4698944, gradient norm = 0.1277554 (50 iterations in 0.205s)\n",
      "[t-SNE] Iteration 200: error = 56.7795486, gradient norm = 0.1298512 (50 iterations in 0.221s)\n",
      "[t-SNE] Iteration 250: error = 56.7923584, gradient norm = 0.2595247 (50 iterations in 0.200s)\n",
      "[t-SNE] KL divergence after 250 iterations with early exaggeration: 56.792358\n",
      "[t-SNE] Iteration 300: error = 1.5954480, gradient norm = 0.0049298 (50 iterations in 0.165s)\n",
      "[t-SNE] Iteration 350: error = 1.5742311, gradient norm = 0.0032995 (50 iterations in 0.162s)\n",
      "[t-SNE] Iteration 400: error = 1.5633659, gradient norm = 0.0012276 (50 iterations in 0.152s)\n",
      "[t-SNE] Iteration 450: error = 1.5603626, gradient norm = 0.0015002 (50 iterations in 0.150s)\n",
      "[t-SNE] Iteration 500: error = 1.5565295, gradient norm = 0.0023552 (50 iterations in 0.177s)\n",
      "[t-SNE] KL divergence after 500 iterations: 1.556530\n"
     ]
    }
   ],
   "source": [
    "game_embedding = tsne.fit_transform(norm_model2.qi)"
   ]
  },
  {
   "cell_type": "code",
   "execution_count": null,
   "metadata": {
    "colab": {
     "base_uri": "https://localhost:8080/",
     "height": 359
    },
    "executionInfo": {
     "elapsed": 798,
     "status": "ok",
     "timestamp": 1682488093932,
     "user": {
      "displayName": "Kenneth Lim",
      "userId": "13515568553746894809"
     },
     "user_tz": -480
    },
    "id": "PH-tyRRiApvK",
    "outputId": "ade49e6b-85a5-4885-ca70-f0b790d70660"
   },
   "outputs": [
    {
     "data": {
      "text/html": [
       "\n",
       "  <div id=\"df-bb810f3b-027d-436c-a8a0-2d51289840c6\">\n",
       "    <div class=\"colab-df-container\">\n",
       "      <div>\n",
       "<style scoped>\n",
       "    .dataframe tbody tr th:only-of-type {\n",
       "        vertical-align: middle;\n",
       "    }\n",
       "\n",
       "    .dataframe tbody tr th {\n",
       "        vertical-align: top;\n",
       "    }\n",
       "\n",
       "    .dataframe thead th {\n",
       "        text-align: right;\n",
       "    }\n",
       "</style>\n",
       "<table border=\"1\" class=\"dataframe\">\n",
       "  <thead>\n",
       "    <tr style=\"text-align: right;\">\n",
       "      <th></th>\n",
       "      <th>title</th>\n",
       "      <th>user_id</th>\n",
       "    </tr>\n",
       "  </thead>\n",
       "  <tbody>\n",
       "    <tr>\n",
       "      <th>0</th>\n",
       "      <td>5D Chess With Multiverse Time Travel</td>\n",
       "      <td>375</td>\n",
       "    </tr>\n",
       "    <tr>\n",
       "      <th>1</th>\n",
       "      <td>7 Days to Die</td>\n",
       "      <td>882</td>\n",
       "    </tr>\n",
       "    <tr>\n",
       "      <th>2</th>\n",
       "      <td>A Little to the Left</td>\n",
       "      <td>22</td>\n",
       "    </tr>\n",
       "    <tr>\n",
       "      <th>3</th>\n",
       "      <td>A Plague Tale: Requiem</td>\n",
       "      <td>319</td>\n",
       "    </tr>\n",
       "    <tr>\n",
       "      <th>4</th>\n",
       "      <td>A Total War Saga: TROY</td>\n",
       "      <td>150</td>\n",
       "    </tr>\n",
       "    <tr>\n",
       "      <th>5</th>\n",
       "      <td>A Way Out</td>\n",
       "      <td>1207</td>\n",
       "    </tr>\n",
       "    <tr>\n",
       "      <th>6</th>\n",
       "      <td>ACE COMBAT™ 7: SKIES UNKNOWN</td>\n",
       "      <td>1405</td>\n",
       "    </tr>\n",
       "    <tr>\n",
       "      <th>7</th>\n",
       "      <td>AI: The Somnium Files</td>\n",
       "      <td>304</td>\n",
       "    </tr>\n",
       "    <tr>\n",
       "      <th>8</th>\n",
       "      <td>ARK: Survival Evolved</td>\n",
       "      <td>1778</td>\n",
       "    </tr>\n",
       "    <tr>\n",
       "      <th>9</th>\n",
       "      <td>ASTLIBRA Revision</td>\n",
       "      <td>42</td>\n",
       "    </tr>\n",
       "  </tbody>\n",
       "</table>\n",
       "</div>\n",
       "      <button class=\"colab-df-convert\" onclick=\"convertToInteractive('df-bb810f3b-027d-436c-a8a0-2d51289840c6')\"\n",
       "              title=\"Convert this dataframe to an interactive table.\"\n",
       "              style=\"display:none;\">\n",
       "        \n",
       "  <svg xmlns=\"http://www.w3.org/2000/svg\" height=\"24px\"viewBox=\"0 0 24 24\"\n",
       "       width=\"24px\">\n",
       "    <path d=\"M0 0h24v24H0V0z\" fill=\"none\"/>\n",
       "    <path d=\"M18.56 5.44l.94 2.06.94-2.06 2.06-.94-2.06-.94-.94-2.06-.94 2.06-2.06.94zm-11 1L8.5 8.5l.94-2.06 2.06-.94-2.06-.94L8.5 2.5l-.94 2.06-2.06.94zm10 10l.94 2.06.94-2.06 2.06-.94-2.06-.94-.94-2.06-.94 2.06-2.06.94z\"/><path d=\"M17.41 7.96l-1.37-1.37c-.4-.4-.92-.59-1.43-.59-.52 0-1.04.2-1.43.59L10.3 9.45l-7.72 7.72c-.78.78-.78 2.05 0 2.83L4 21.41c.39.39.9.59 1.41.59.51 0 1.02-.2 1.41-.59l7.78-7.78 2.81-2.81c.8-.78.8-2.07 0-2.86zM5.41 20L4 18.59l7.72-7.72 1.47 1.35L5.41 20z\"/>\n",
       "  </svg>\n",
       "      </button>\n",
       "      \n",
       "  <style>\n",
       "    .colab-df-container {\n",
       "      display:flex;\n",
       "      flex-wrap:wrap;\n",
       "      gap: 12px;\n",
       "    }\n",
       "\n",
       "    .colab-df-convert {\n",
       "      background-color: #E8F0FE;\n",
       "      border: none;\n",
       "      border-radius: 50%;\n",
       "      cursor: pointer;\n",
       "      display: none;\n",
       "      fill: #1967D2;\n",
       "      height: 32px;\n",
       "      padding: 0 0 0 0;\n",
       "      width: 32px;\n",
       "    }\n",
       "\n",
       "    .colab-df-convert:hover {\n",
       "      background-color: #E2EBFA;\n",
       "      box-shadow: 0px 1px 2px rgba(60, 64, 67, 0.3), 0px 1px 3px 1px rgba(60, 64, 67, 0.15);\n",
       "      fill: #174EA6;\n",
       "    }\n",
       "\n",
       "    [theme=dark] .colab-df-convert {\n",
       "      background-color: #3B4455;\n",
       "      fill: #D2E3FC;\n",
       "    }\n",
       "\n",
       "    [theme=dark] .colab-df-convert:hover {\n",
       "      background-color: #434B5C;\n",
       "      box-shadow: 0px 1px 3px 1px rgba(0, 0, 0, 0.15);\n",
       "      filter: drop-shadow(0px 1px 2px rgba(0, 0, 0, 0.3));\n",
       "      fill: #FFFFFF;\n",
       "    }\n",
       "  </style>\n",
       "\n",
       "      <script>\n",
       "        const buttonEl =\n",
       "          document.querySelector('#df-bb810f3b-027d-436c-a8a0-2d51289840c6 button.colab-df-convert');\n",
       "        buttonEl.style.display =\n",
       "          google.colab.kernel.accessAllowed ? 'block' : 'none';\n",
       "\n",
       "        async function convertToInteractive(key) {\n",
       "          const element = document.querySelector('#df-bb810f3b-027d-436c-a8a0-2d51289840c6');\n",
       "          const dataTable =\n",
       "            await google.colab.kernel.invokeFunction('convertToInteractive',\n",
       "                                                     [key], {});\n",
       "          if (!dataTable) return;\n",
       "\n",
       "          const docLinkHtml = 'Like what you see? Visit the ' +\n",
       "            '<a target=\"_blank\" href=https://colab.research.google.com/notebooks/data_table.ipynb>data table notebook</a>'\n",
       "            + ' to learn more about interactive tables.';\n",
       "          element.innerHTML = '';\n",
       "          dataTable['output_type'] = 'display_data';\n",
       "          await google.colab.output.renderOutput(dataTable, element);\n",
       "          const docLink = document.createElement('div');\n",
       "          docLink.innerHTML = docLinkHtml;\n",
       "          element.appendChild(docLink);\n",
       "        }\n",
       "      </script>\n",
       "    </div>\n",
       "  </div>\n",
       "  "
      ],
      "text/plain": [
       "                                  title  user_id\n",
       "0  5D Chess With Multiverse Time Travel      375\n",
       "1                         7 Days to Die      882\n",
       "2                  A Little to the Left       22\n",
       "3                A Plague Tale: Requiem      319\n",
       "4                A Total War Saga: TROY      150\n",
       "5                             A Way Out     1207\n",
       "6          ACE COMBAT™ 7: SKIES UNKNOWN     1405\n",
       "7                 AI: The Somnium Files      304\n",
       "8                 ARK: Survival Evolved     1778\n",
       "9                     ASTLIBRA Revision       42"
      ]
     },
     "execution_count": 21,
     "metadata": {},
     "output_type": "execute_result"
    }
   ],
   "source": [
    "game_list = recco.groupby(['title'])[['user_id']].count()\n",
    "game_list.reset_index(inplace=True)\n",
    "game_list.head(10)"
   ]
  },
  {
   "cell_type": "code",
   "execution_count": null,
   "metadata": {
    "id": "5rVLrulI-plK"
   },
   "outputs": [],
   "source": [
    "tsne_df = pd.DataFrame(columns=['x', 'y'], data=game_embedding)\n",
    "tsne_df['title'] = game_list['title']"
   ]
  },
  {
   "cell_type": "markdown",
   "metadata": {
    "id": "IBtgVqxVG5oy"
   },
   "source": [
    "The t-SNE visual groups similar game titles together with respect to users' preferences and their ranked ratings by extracting the various game embeddings. A close promximity between game titles indicates that these games have similar ratings between users. We can observe this using the interactive plotly chart to look into what kind of games users will enjoy with respect to one another."
   ]
  },
  {
   "cell_type": "code",
   "execution_count": null,
   "metadata": {
    "colab": {
     "base_uri": "https://localhost:8080/",
     "height": 542
    },
    "executionInfo": {
     "elapsed": 1442,
     "status": "ok",
     "timestamp": 1682488109176,
     "user": {
      "displayName": "Kenneth Lim",
      "userId": "13515568553746894809"
     },
     "user_tz": -480
    },
    "id": "2QV-EHXrQLgq",
    "outputId": "2eff848e-a1fb-4f7f-d7d9-1b0a146d73ef"
   },
   "outputs": [
    {
     "data": {
      "text/html": [
       "<html>\n",
       "<head><meta charset=\"utf-8\" /></head>\n",
       "<body>\n",
       "    <div>            <script src=\"https://cdnjs.cloudflare.com/ajax/libs/mathjax/2.7.5/MathJax.js?config=TeX-AMS-MML_SVG\"></script><script type=\"text/javascript\">if (window.MathJax && window.MathJax.Hub && window.MathJax.Hub.Config) {window.MathJax.Hub.Config({SVG: {font: \"STIX-Web\"}});}</script>                <script type=\"text/javascript\">window.PlotlyConfig = {MathJaxConfig: 'local'};</script>\n",
       "        <script src=\"https://cdn.plot.ly/plotly-2.18.2.min.js\"></script>                <div id=\"685cf692-ca20-4507-a118-2c7d335d0567\" class=\"plotly-graph-div\" style=\"height:525px; width:100%;\"></div>            <script type=\"text/javascript\">                                    window.PLOTLYENV=window.PLOTLYENV || {};                                    if (document.getElementById(\"685cf692-ca20-4507-a118-2c7d335d0567\")) {                    Plotly.newPlot(                        \"685cf692-ca20-4507-a118-2c7d335d0567\",                        [{\"hovertemplate\":\"x=%{x}<br>y=%{y}<br>title=%{text}<extra></extra>\",\"legendgroup\":\"\",\"marker\":{\"color\":\"#636efa\",\"symbol\":\"circle\"},\"mode\":\"markers+text\",\"name\":\"\",\"orientation\":\"v\",\"showlegend\":false,\"text\":[\"5D Chess With Multiverse Time Travel\",\"7 Days to Die\",\"A Little to the Left\",\"A Plague Tale: Requiem\",\"A Total War Saga: TROY\",\"A Way Out\",\"ACE COMBAT\\u2122 7: SKIES UNKNOWN\",\"AI: The Somnium Files\",\"ARK: Survival Evolved\",\"ASTLIBRA Revision\",\"Across the Obelisk\",\"Against the Storm\",\"Age of Empires II: Definitive Edition\",\"Age of Empires III: Definitive Edition\",\"Age of Empires IV: Anniversary Edition\",\"Age of Mythology: Extended Edition\",\"Alien: Isolation\",\"Aliens: Fireteam Elite\",\"American Truck Simulator\",\"Ancestors: The Humankind Odyssey\",\"Ancient Dungeon\",\"Animal Shelter\",\"Anno 1800\",\"Arcade Paradise\",\"Arma 3\",\"Arma Reforger\",\"Assassin's Creed Valhalla\",\"Assassin's Creed\\u00ae Odyssey\",\"Assassin's Creed\\u00ae Unity\",\"Assetto Corsa\",\"Atelier Firis: The Alchemist and the Mysterious Journey DX\",\"Atelier Lydie & Suelle: The Alchemists and the Mysterious Paintings DX\",\"Atelier Meruru ~The Apprentice of Arland~ DX\",\"Atelier Totori ~The Adventurer of Arland~ DX\",\"Atrio: The Dark Wild\",\"Attack on Titan 2 - A.O.T.2\",\"Automation - The Car Company Tycoon Game\",\"Automobilista 2\",\"BIGFOOT\",\"BIOMUTANT\",\"BONELAB\",\"BONEWORKS\",\"Baldur's Gate 3\",\"Baldur's Gate: Enhanced Edition\",\"Barony\",\"Barotrauma\",\"Batman\\u2122: Arkham Origins\",\"Battle Brothers\",\"Battlefield 4\\u2122\",\"Battlefield\\u2122 2042\",\"Battlefield\\u2122 V\",\"BeamNG.drive\",\"Bear and Breakfast\",\"Beat Saber\",\"Bendy and the Dark Revival\",\"Black Desert\",\"Black Mesa\",\"Blade and Sorcery\",\"Blasphemous\",\"Blood Trail\",\"Blood West\",\"Bloons TD 6\",\"Borderlands 2\",\"Borderlands 3\",\"Borderlands Game of the Year\",\"Borderlands: The Pre-Sequel\",\"Brotato\",\"Bully: Scholarship Edition\",\"CODE VEIN\",\"COMPOUND\",\"Call of Duty: World at War\",\"Call of Duty\\u00ae: Black Ops\",\"Call of Duty\\u00ae: Black Ops II\",\"Call of Duty\\u00ae: Black Ops III\",\"Call of Duty\\u00ae: Infinite Warfare\",\"Call of Duty\\u00ae: Modern Warfare\\u00ae 3\",\"Call of Duty\\u00ae: Modern Warfare\\u00ae II\",\"Call of the Wild: The Angler\\u2122\",\"Call to Arms\",\"Car Mechanic Simulator 2021\",\"CarX Drift Racing Online\",\"Cardfight!! Vanguard Dear Days\",\"Castle Crashers\\u00ae\",\"Celeste\",\"Chained Echoes\",\"Chivalry 2\",\"Choo-Choo Charles\",\"Chronicon\",\"Cities: Skylines\",\"Citizen Sleeper\",\"Clone Drone in the Danger Zone\",\"Clue/Cluedo: The Classic Mystery Game\",\"Colony Survival\",\"Command & Conquer\\u2122 Remastered Collection\",\"Company of Heroes\",\"Company of Heroes 2\",\"Conan Exiles\",\"Contractors\",\"Cooking Simulator\",\"Coral Island\",\"Coromon\",\"Cosmoteer: Starship Architect & Commander\",\"Counter-Strike: Global Offensive\",\"Craftopia\",\"Crash Bandicoot\\u2122 4: It\\u2019s About Time\",\"Crash Bandicoot\\u2122 N. Sane Trilogy\",\"Crosshair X\",\"Crusader Kings III\",\"Crysis 3 Remastered\",\"Cult of the Lamb\",\"Cuphead\",\"Curse of the Dead Gods\",\"Cyberpunk 2077\",\"DARK SOULS\\u2122 II: Scholar of the First Sin\",\"DARK SOULS\\u2122 III\",\"DARK SOULS\\u2122: REMASTERED\",\"DAVE THE DIVER\",\"DEATH STRANDING DIRECTOR'S CUT\",\"DEVOUR\",\"DJMAX RESPECT V\",\"DOOM\",\"DOOM Eternal\",\"DRAGON BALL FighterZ\",\"DRAGON BALL Z: KAKAROT\",\"DRAGON BALL: THE BREAKERS\",\"DYNASTY WARRIORS 8: Xtreme Legends Complete Edition\",\"Danganronpa 2: Goodbye Despair\",\"Danganronpa Another Episode: Ultra Despair Girls\",\"Danganronpa V3: Killing Harmony\",\"Danganronpa: Trigger Happy Havoc\",\"Darkest Dungeon\\u00ae\",\"Day of Dragons\",\"DayZ\",\"Days Gone\",\"Dead Island Definitive Edition\",\"Dead Space (2008)\",\"Dead Space\\u2122 3\",\"Dead by Daylight\",\"DeadPoly\",\"Deadside\",\"Deep Rock Galactic\",\"Demeo: PC Edition\",\"Demon Slayer -Kimetsu no Yaiba- The Hinokami Chronicles\",\"Detroit: Become Human\",\"Devil May Cry HD Collection\",\"DiRT Rally 2.0\",\"Diplomacy is Not an Option\",\"Dishonored 2\",\"Disney Dreamlight Valley\",\"Divinity: Original Sin 2 - Definitive Edition\",\"Dome Keeper\",\"Don't Starve\",\"Don't Starve Together\",\"Dragon Age II: Ultimate Edition\",\"Dragon Age: Origins - Ultimate Edition\",\"Dragon Age\\u2122 Inquisition\",\"Dune: Spice Wars\",\"Dungeon Alchemist\",\"Dwarf Fortress\",\"Dying Light 2 Stay Human\",\"Dyson Sphere Program\",\"EA SPORTS\\u2122 FIFA 23\",\"EARTH DEFENSE FORCE 4.1 The Shadow of New Despair\",\"EARTH DEFENSE FORCE 5\",\"ELDEN RING\",\"ENDER LILIES: Quietus of the Knights\",\"ENDLESS\\u2122 Space 2\",\"Eco\",\"Elite Dangerous\",\"Empyrion - Galactic Survival\",\"Enter the Gungeon\",\"Escape Simulator\",\"Escape the Backrooms\",\"Euro Truck Simulator 2\",\"Europa Universalis IV\",\"Evil West\",\"F.E.A.R. 2: Project Origin\",\"F1\\u00ae Manager 2022\",\"FAITH: The Unholy Trinity\",\"FINAL FANTASY V\",\"FINAL FANTASY VI\",\"FINAL FANTASY VII REMAKE INTERGRADE\",\"FINAL FANTASY XII THE ZODIAC AGE\",\"FINAL FANTASY XIV Online\",\"FINAL FANTASY XV WINDOWS EDITION\",\"FIVE NIGHTS AT FREDDY'S: HELP WANTED\",\"FOR HONOR\\u2122\",\"FOREWARNED\",\"Fable Anniversary\",\"Factorio\",\"Fallout 3: Game of the Year Edition\",\"Fallout 4\",\"Fallout 76\",\"Fallout: New Vegas\",\"Far Cry\\u00ae 5\",\"Farming Simulator 19\",\"Farming Simulator 22\",\"Farthest Frontier\",\"Fire Pro Wrestling World\",\"First Class Trouble\",\"Five Nights at Freddy's: Security Breach\",\"Football Manager 2023\",\"For The King\",\"Forts\",\"Forza Horizon 4\",\"Forza Horizon 5\",\"Foundation\",\"Friday the 13th: The Game\",\"Frostpunk\",\"Frozen Flame\",\"GTFO\",\"GUILTY GEAR -STRIVE-\",\"Garry's Mod\",\"Gas Station Simulator\",\"Generation Zero\\u00ae\",\"Getting Over It with Bennett Foddy\",\"Ghost Exorcism INC.\",\"Ghostwire: Tokyo\",\"Going Medieval\",\"Golf With Your Friends\",\"Gotham Knights\",\"Granblue Fantasy: Versus\",\"Grand Theft Auto IV: The Complete Edition\",\"Graveyard Keeper\",\"Green Hell\",\"Grim Dawn\",\"Grounded\",\"Gunfire Reborn\",\"Gunfire Reborn - Visitors of Spirit Realm\",\"Gunner HEAT PC!\",\"HARD BULLET\",\"HELLDIVERS\\u2122 Dive Harder Edition\",\"HITMAN 3\",\"HUMANKIND\\u2122\",\"HYPERCHARGE: Unboxed\",\"Hades\",\"Half-Life\",\"Half-Life 2\",\"Half-Life: Alyx\",\"Halo Wars: Definitive Edition\",\"Halo: The Master Chief Collection\",\"Hard West 2\",\"Hatsune Miku: Project DIVA Mega Mix+\",\"Have a Nice Death\",\"Haven\",\"Hearts of Iron IV\",\"Heavenly Bodies\",\"Hell Let Loose\",\"Hellish Quart\",\"Hellsplit: Arena\",\"Hero Siege\",\"High On Life\",\"Holdfast: Nations At War\",\"Hollow Knight\",\"Horizon Zero Dawn\\u2122 Complete Edition\",\"Hot Dogs Horseshoes & Hand Grenades\",\"Hotline Miami 2: Wrong Number\",\"House Flipper\",\"House Party\",\"Human: Fall Flat\",\"Hunt: Showdown\",\"Hydroneer\",\"I Was a Teenage Exocolonist\",\"ICARUS\",\"IMMORTALITY\",\"IXION\",\"In Silence\",\"Injustice\\u2122 2\",\"Inscryption\",\"Inside the Backrooms\",\"Insurgency: Sandstorm\",\"Isonzo\",\"It Takes Two\",\"JoJo's Bizarre Adventure: All-Star Battle R\",\"Journey\",\"Judgment\",\"Jump King\",\"Jupiter Hell\",\"Jurassic World Evolution 2\",\"Just Cause\\u2122 3\",\"Keep Talking and Nobody Explodes\",\"Kena: Bridge of Spirits\",\"Kenshi\",\"Kerbal Space Program\",\"Killing Floor 2\",\"Kingdom Come: Deliverance\",\"Kingdom Two Crowns\",\"Kingdoms Reborn\",\"Knights of Honor II: Sovereign\",\"KovaaK's\",\"Kynseed\",\"LEGO\\u00ae Star Wars\\u2122: The Skywalker Saga\",\"Labyrinthine\",\"Land of the Vikings\",\"Last Epoch\",\"Later Alligator\",\"Left 4 Dead\",\"Left 4 Dead 2\",\"Legendary Tales\",\"Legion TD 2 - Multiplayer Tower Defense\",\"Liftoff\\u00ae: FPV Drone Racing\",\"Lil Gator Game\",\"Little Misfortune\",\"Little Nightmares\",\"Little Nightmares II\",\"MELTY BLOOD: TYPE LUMINA\",\"METAL GEAR RISING: REVENGEANCE\",\"METAL GEAR SOLID V: THE PHANTOM PAIN\",\"MONOPOLY\\u00ae PLUS\",\"MONSTER HUNTER RISE\",\"MORDHAU\",\"MX Bikes\",\"Madden NFL 23\",\"Made in Abyss: Binary Star Falling into Darkness\",\"Marauders\",\"Marvel's Midnight Suns\",\"Marvel\\u2019s Spider-Man Remastered\",\"Marvel\\u2019s Spider-Man: Miles Morales\",\"Mass Effect\\u2122: Andromeda Deluxe Edition\",\"Master of Magic\",\"Max Payne 3\",\"MechWarrior 5: Mercenaries\",\"Melatonin\",\"Men of War: Assault Squad 2\",\"Metal: Hellsinger\",\"Metro Exodus\",\"Microsoft Flight Simulator 40th Anniversary Edition\",\"Microsoft Flight Simulator X: Steam Edition\",\"Middle-earth\\u2122: Shadow of War\\u2122\",\"Milk outside a bag of milk outside a bag of milk\",\"Mindustry\",\"Minecraft Dungeons\",\"Mon Bazou\",\"Monster Hunter: World\",\"Monster Prom\",\"Monster Prom 2: Monster Camp\",\"Monster Sanctuary\",\"Mortal Kombat X\",\"Mortal Online 2\",\"Mount & Blade II: Bannerlord\",\"Muse Dash\",\"My Time at Sandrock\",\"NARAKA: BLADEPOINT\",\"NARUTO SHIPPUDEN: Ultimate Ninja STORM 4\",\"NBA 2K23\",\"NEEDY STREAMER OVERLOAD\",\"Necesse\",\"Need for Speed\\u2122 Heat\",\"Need for Speed\\u2122 Unbound\",\"Nelke & the Legendary Alchemists ~Ateliers of the New World~\",\"Neon White\",\"Neverwinter Nights: Enhanced Edition\",\"New World\",\"NieR Replicant\\u2122 ver.1.22474487139...\",\"NieR:Automata\\u2122\",\"Nioh 2 \\u2013 The Complete Edition\",\"Nioh: Complete Edition\",\"No Man's Sky\",\"Nobody Saves the World\",\"Noita\",\"Northgard\",\"OMORI\",\"ONE PIECE World Seeker\",\"OUTRIDERS\",\"OVR Toolkit\",\"Old World\",\"Orcs Must Die! 3\",\"Ori and the Will of the Wisps\",\"Outlast\",\"Outward Definitive Edition\",\"Overcooked! 2\",\"Oxygen Not Included\",\"PAYDAY 2\",\"PICO PARK\",\"PULSAR: Lost Colony\",\"Paint the Town Red\",\"Panzer Corps 2\",\"Papers Please\",\"Parkitect\",\"Pathfinder: Wrath of the Righteous - Enhanced Edition\",\"Peglin\",\"Pentiment\",\"Persona 4 Golden\",\"Persona 5 Royal\",\"Persona\\u00ae 5 Strikers\",\"Phasmophobia\",\"Pillars of Eternity\",\"Pillars of Eternity II: Deadfire\",\"Plague Inc: Evolved\",\"Planet Coaster\",\"Planet Zoo\",\"Plants vs. Zombies\\u2122 Garden Warfare 2: Deluxe Edition\",\"Police Simulator: Patrol Officers\",\"Portal\",\"Portal 2\",\"Potion Craft: Alchemist Simulator\",\"Potion Permit\",\"Potionomics\",\"PowerWash Simulator\",\"Prey\",\"Prison Architect\",\"Project Hospital\",\"Project Zomboid\",\"Psychonauts 2\",\"RIDE 4\",\"ROUNDS\",\"RPG Maker MV\",\"RUMBLE\",\"Raft\",\"Rain World\",\"Ranch Simulator - Build Farm Hunt\",\"Ready or Not\",\"Red Dead Online\",\"Red Dead Redemption 2\",\"Regiments\",\"Remnant: From the Ashes\",\"Resident Evil 2\",\"Resident Evil 3\",\"Resident Evil 5\",\"Resident Evil 6\",\"Resident Evil 7 Biohazard\",\"Resident Evil Village\",\"Return to Monkey Island\",\"RimWorld\",\"Rising Storm 2: Vietnam\",\"Risk of Rain 2\",\"Rival Stars Horse Racing: Desktop Edition\",\"Rivals of Aether\",\"River City Girls 2\",\"Road 96 \\ud83d\\udee3\\ufe0f\",\"Rocksmith\\u00ae 2014 Edition - Remastered\",\"Rogue Legacy 2\",\"RollerCoaster Tycoon\\u00ae 3: Complete Edition\",\"Root\",\"Ruined King: A League of Legends Story\\u2122\",\"Rune Factory 5\",\"Rust\",\"S.T.A.L.K.E.R.: Shadow of Chernobyl\",\"SCP: 5K\",\"SCUM\",\"SIGNALIS\",\"SOULCALIBUR VI\",\"SPORE\\u2122\",\"STAR WARS Jedi: Fallen Order Deluxe Edition\",\"STAR WARS\\u2122 Battlefront\\u2122 II\",\"STAR WARS\\u2122 Empire at War - Gold Pack\",\"STAR WARS\\u2122: Squadrons\",\"STEINS;GATE\",\"STEINS;GATE 0\",\"SUCCUBUS\",\"SUPERHOT VR\",\"SYNTHETIK 2\",\"SYNTHETIK: Legion Rising\",\"Sackboy\\u2122: A Big Adventure\",\"Sands of Salzaar\",\"Satisfactory\",\"Scrap Mechanic\",\"Sea of Thieves\",\"Sekiro\\u2122: Shadows Die Twice - GOTY Edition\",\"Session: Skate Sim\",\"Settlement Survival\",\"Shadow Warrior 3: Definitive Edition\",\"Shadows Over Loathing\",\"ShellShock Live\",\"Ship of Fools\",\"Shredders\",\"Sid Meier's Civilization\\u00ae V\",\"Sid Meier\\u2019s Civilization\\u00ae VI\",\"Slay the Spire\",\"Slime Rancher\",\"Slime Rancher 2\",\"Sniper Elite 5\",\"Sniper Ghost Warrior Contracts 2\",\"SnowRunner\",\"Solar Ash\",\"Solasta: Crown of the Magister\",\"Songs of Conquest\",\"Sonic Adventure 2\",\"Sonic Frontiers\",\"Soulstone Survivors\",\"Source of Madness\",\"South Park\\u2122: The Fractured But Whole\\u2122\",\"Space Engineers\",\"Spelunky 2\",\"Spiritfarer\\u00ae: Farewell Edition\",\"Spyro\\u2122 Reignited Trilogy\",\"Stacklands\",\"Star Wars: Battlefront 2 (Classic 2005)\",\"Stardeus\",\"Stardew Valley\",\"Starship Troopers: Terran Command\",\"State of Decay 2: Juggernaut Edition\",\"Steel Division 2\",\"Steep\\u2122\",\"Stellaris\",\"Stick Fight: The Game\",\"Stormworks: Build and Rescue\",\"Stranded Deep\",\"Stranded: Alien Dawn\",\"Strange Horticulture\",\"Stray\",\"Subnautica\",\"Subnautica: Below Zero\",\"Sun Haven\",\"Super Robot Wars 30\",\"Superliminal\",\"Surviving Mars\",\"Surviving the Aftermath\",\"Symphony of War: The Nephilim Saga\",\"TEKKEN 7\",\"THE KING OF FIGHTERS XV\",\"TRIANGLE STRATEGY\",\"Tabletop Simulator\",\"Tactics Ogre: Reborn\",\"TaleSpire\",\"Tales of Arise\",\"Terra Invicta\",\"TerraTech\",\"Terraria\",\"The Ascent\",\"The Binding of Isaac: Rebirth\",\"The Callisto Protocol\\u2122\",\"The Dark Pictures Anthology: The Devil in Me\",\"The Elder Scrolls III: Morrowind\\u00ae Game of the Year Edition\",\"The Elder Scrolls IV: Oblivion\\u00ae Game of the Year Edition\",\"The Elder Scrolls V: Skyrim Special Edition\",\"The Elder Scrolls\\u00ae Online\",\"The Escapists 2\",\"The Forest\",\"The Greatest Penguin Heist of All Time\",\"The Isle\",\"The Jackbox Party Pack 2\",\"The Jackbox Party Pack 5\",\"The Jackbox Party Pack 6\",\"The Jackbox Party Pack 7\",\"The Jackbox Party Pack 8\",\"The Long Dark\",\"The Long Drive\",\"The Mortuary Assistant\",\"The Oregon Trail\",\"The Outer Worlds\",\"The Riftbreaker\",\"The Sims\\u2122 3\",\"The Stanley Parable\",\"The Universim\",\"The Walking Dead: Saints & Sinners\",\"The Wandering Village\",\"The Witcher\\u00ae 3: Wild Hunt\",\"Them's Fightin' Herds\",\"They Are Billions\",\"Thief Simulator\",\"Thymesia\",\"Timberborn\",\"Tiny Tina's Wonderlands\",\"Titanfall\\u00ae 2\",\"Tom Clancy's Rainbow Six\\u00ae Siege\",\"Tom Clancy\\u2019s The Division\\u2122\",\"Total War: ATTILA\",\"Total War: MEDIEVAL II \\u2013 Definitive Edition\",\"Total War: THREE KINGDOMS\",\"Total War: WARHAMMER\",\"Total War: WARHAMMER III\",\"Total War\\u2122: ROME II - Emperor Edition\",\"Tower Tactics: Liberation\",\"Town of Salem\",\"Trailmakers\",\"Train Sim World\\u00ae 3\",\"Transport Fever 2\",\"Travellers Rest\",\"Tribes of Midgard\",\"Trombone Champ\",\"Tropico 6\",\"Two Point Campus\",\"ULTIMATE MARVEL VS. CAPCOM 3\",\"ULTRAKILL\",\"UNCHARTED\\u2122: Legacy of Thieves Collection\",\"Ultimate Admiral: Dreadnoughts\",\"Ultimate Epic Battle Simulator 2\",\"Undertale\",\"Universe Sandbox\",\"Untitled Goose Game\",\"Valheim\",\"Vampire Survivors\",\"Victoria 3\",\"Viscera Cleanup Detail\",\"Walkabout Mini Golf VR\",\"Wallpaper Engine\",\"War of Rights\",\"Warhammer 40000: Chaos Gate - Daemonhunters\",\"Warhammer 40000: Darktide\",\"Warhammer 40000: Dawn of War II: Retribution\",\"Warhammer 40000: Gladius - Relics of War\",\"Warhammer 40000: Space Marine - Anniversary Edition\",\"Warhammer: Vermintide 2\",\"Warhammer\\u00ae 40000: Dawn of War\\u00ae - Game of the Year Edition\",\"Wartales\",\"Wasteland 3\",\"We Were Here Forever\",\"We Were Here Together\",\"We Who Are About To Die\",\"Weed Shop 3\",\"What Remains of Edith Finch\",\"Who's Your Daddy?!\",\"Wizard of Legend\",\"Wobbledogs\",\"Wobbly Life\",\"WolfQuest: Anniversary Edition\",\"World War Z: Aftermath\",\"WorldBox - God Simulator\",\"Wrestling Empire\",\"Wylde Flowers\",\"X-Plane 12\",\"X4: Foundations\",\"XCOM: Enemy Unknown\",\"Yakuza Kiwami\",\"Yakuza Kiwami 2\",\"Yakuza: Like a Dragon\",\"ZERO Sievert\",\"Zenith: The Last City\",\"Zero Escape: The Nonary Games\",\"iRacing\",\"resident evil 4 (2005)\",\"theHunter: Call of the Wild\\u2122\"],\"x\":[3.9891891479492188,2.480013132095337,-0.7987610697746277,1.358373999595642,0.7028100490570068,2.658189296722412,0.7438251972198486,0.2955913543701172,1.443081259727478,3.071125030517578,3.591547966003418,0.18478399515151978,0.6199276447296143,0.7737923860549927,0.5318434238433838,1.4713538885116577,-0.330289363861084,2.2606687545776367,0.01999993436038494,-3.606147050857544,-4.947267055511475,-1.196239948272705,1.8989229202270508,-0.8514685034751892,-0.5036225914955139,-0.30278339982032776,-2.2542672157287598,-1.8083590269088745,-1.0689605474472046,0.48206254839897156,-0.2156892567873001,-0.8258898258209229,1.1484050750732422,-0.5705475807189941,-0.43814125657081604,0.48746028542518616,0.575659990310669,0.16377131640911102,-2.191309928894043,-2.358036756515503,-1.5656883716583252,0.10950511693954468,-0.286060094833374,-3.7764992713928223,-2.18861985206604,0.17024065554141998,0.5714094042778015,-2.193105697631836,-0.32193320989608765,-0.4965375065803528,-0.8905144333839417,-1.8616913557052612,-2.5904462337493896,-0.19869399070739746,0.48366543650627136,-1.0234578847885132,2.039461135864258,-3.209306478500366,2.248950481414795,-0.830685555934906,-3.6328611373901367,1.5531294345855713,-0.4605240821838379,0.22767071425914764,-3.2703492641448975,-2.1521799564361572,-0.5192579627037048,-2.051467180252075,-1.3943352699279785,-2.151732921600342,1.1653625965118408,0.08490610867738724,-2.985781669616699,-2.7117645740509033,-0.4346490502357483,-0.14608125388622284,0.9377429485321045,4.378589153289795,0.8636388182640076,0.6955404281616211,1.603737235069275,-0.9800488948822021,-0.2860173285007477,-0.18464142084121704,0.5542179942131042,-0.5465148091316223,0.02130505070090294,2.8285160064697266,2.19931960105896,-0.16026988625526428,-1.0675692558288574,-2.74471378326416,0.37055879831314087,1.355584740638733,-0.24045781791210175,2.0568912029266357,-4.339118480682373,-0.18974928557872772,2.588513135910034,1.0321526527404785,2.510075330734253,-2.119358777999878,-2.3143179416656494,1.1178641319274902,2.0187134742736816,-5.50508975982666,-0.38543885946273804,0.37082964181900024,0.13748154044151306,-0.9576849937438965,0.34986498951911926,0.1393873542547226,3.3788228034973145,-0.2033759355545044,0.8263464570045471,-2.278120756149292,2.463137626647949,0.2243899255990982,5.266875267028809,1.1190147399902344,1.4795455932617188,0.2346535474061966,1.9661539793014526,-0.9309859275817871,0.5414628982543945,-2.487978219985962,-2.492266893386841,-0.0040703038685023785,-2.226475954055786,0.632053554058075,-4.093269348144531,2.69277024269104,-0.05570150539278984,0.6826878190040588,0.8046926856040955,-0.8567538857460022,-0.7018737196922302,2.434974193572998,2.648979663848877,4.386038780212402,1.046079158782959,2.5512495040893555,2.9401063919067383,1.0216304063796997,3.8912758827209473,-2.5750269889831543,-1.8962992429733276,-1.4345452785491943,2.4937963485717773,0.17597031593322754,0.12161429226398468,-0.6911166906356812,-1.3156341314315796,-2.7302963733673096,-2.3536131381988525,3.68318510055542,2.6657869815826416,-2.967942476272583,0.20862913131713867,3.0830864906311035,0.5765766501426697,-0.9653548002243042,0.2329472154378891,-3.5642499923706055,1.8960814476013184,-3.369309902191162,-0.9318670630455017,-1.8863919973373413,3.1439104080200195,-2.9295270442962646,-1.7819344997406006,-2.29256272315979,-2.1720080375671387,3.3898415565490723,-0.017366912215948105,0.6098952889442444,3.5197525024414062,-4.7902655601501465,-0.40683817863464355,0.22716167569160461,0.018337050452828407,0.5172392725944519,3.6428167819976807,-4.901371002197266,0.615539014339447,-2.278296947479248,-0.3830983638763428,-1.2835994958877563,-0.5713264346122742,-2.5248360633850098,-3.8015494346618652,1.7283591032028198,1.1294695138931274,-1.8208719491958618,2.1538169384002686,0.18001581728458405,-2.1555445194244385,-2.4055721759796143,-0.11589935421943665,-0.5156271457672119,3.3245604038238525,-0.10301999747753143,-5.420349597930908,-0.5268537998199463,4.799535751342773,0.5370599627494812,1.5906577110290527,-1.4749457836151123,1.584149956703186,-3.27368426322937,4.384811878204346,3.9101459980010986,4.073477268218994,-2.7606546878814697,-3.473471164703369,0.0286786537617445,-2.9122605323791504,-0.6807090640068054,1.70681631565094,0.41093918681144714,-0.7362083792686462,2.129270553588867,1.0601024627685547,2.6631417274475098,-4.71690559387207,0.6744303107261658,-3.504852771759033,1.007956624031067,-2.417130708694458,0.21480503678321838,-1.9872705936431885,-0.532121479511261,-4.2166361808776855,-1.6927051544189453,-1.1729605197906494,1.5698422193527222,0.45856794714927673,4.046788215637207,0.5130454301834106,2.6342933177948,-1.8047230243682861,-1.0641120672225952,0.2708796262741089,-1.9802557229995728,-1.4566715955734253,-0.8678932189941406,1.1508256196975708,3.1316661834716797,5.280117034912109,0.16489142179489136,3.3424129486083984,0.5968052744865417,-1.068872094154358,-1.2242016792297363,-0.6755816340446472,-4.482054710388184,1.0974254608154297,1.6773951053619385,3.623544692993164,-0.2265177071094513,-4.065673351287842,-3.9036619663238525,-0.832394003868103,-0.5144391655921936,1.1600414514541626,-0.8293721079826355,2.1006741523742676,0.7417134642601013,0.3390030562877655,3.7560982704162598,-1.7678630352020264,4.9735541343688965,0.20742884278297424,4.624973297119141,-2.5919952392578125,-0.17770786583423615,-4.750732421875,2.351712226867676,4.117781162261963,3.3651132583618164,-0.7766674160957336,1.6455222368240356,0.8918249011039734,1.1457360982894897,0.7109110951423645,-1.2655106782913208,0.004855318460613489,4.993163585662842,3.9450507164001465,4.549502849578857,2.1312711238861084,2.9837117195129395,-0.23424817621707916,1.539868950843811,1.3796143531799316,-0.9422889351844788,1.3660029172897339,-1.1709949970245361,0.6078909635543823,1.3272937536239624,-3.8666584491729736,3.8192660808563232,5.149896144866943,-0.09789536148309708,-3.669322967529297,-1.0675569772720337,-1.8666021823883057,-5.024776935577393,2.5253021717071533,-0.11947230249643326,-2.664555072784424,-0.08424336463212967,2.5762510299682617,0.5812296867370605,1.243510127067566,-1.2361130714416504,0.6938692331314087,0.5310652256011963,0.7717753648757935,-0.06707245111465454,3.4769601821899414,-2.2570176124572754,-1.039684772491455,-4.702863693237305,0.6039330959320068,1.9745759963989258,0.9856747388839722,1.745436668395996,0.14341381192207336,-0.15283529460430145,-0.04961107298731804,-2.355701208114624,2.6793084144592285,0.03306300938129425,-0.4831996560096741,-1.1162965297698975,-3.325326919555664,-1.945569396018982,-1.71237051486969,1.53340744972229,-0.04127833992242813,0.1332932710647583,1.3784310817718506,2.849229335784912,-2.05694842338562,2.511235237121582,2.0084123611450195,-1.2446476221084595,-2.237977981567383,-0.10617496073246002,-0.1283898800611496,0.3241751790046692,1.7478995323181152,0.4059607684612274,-0.4275282025337219,0.45859965682029724,2.3219847679138184,-3.150172710418701,0.7497125267982483,1.1184896230697632,2.561805486679077,-3.007204055786133,-0.5174210071563721,2.4769155979156494,-3.32600998878479,0.21486270427703857,-1.1144261360168457,0.2539222240447998,3.2300899028778076,1.8343533277511597,2.4210140705108643,0.07772955298423767,0.869722306728363,1.6392391920089722,-1.2576236724853516,-0.14305411279201508,-1.5387178659439087,-0.8142794966697693,0.7234479188919067,3.1541106700897217,-0.47747424244880676,2.8992881774902344,-0.659423828125,0.8282374739646912,2.9385428428649902,3.0600268840789795,1.9560883045196533,-3.37503981590271,-5.128675937652588,-3.007735013961792,0.009856587275862694,1.921228289604187,-1.2150146961212158,0.6417826414108276,-2.729480504989624,-1.3344701528549194,-0.27512842416763306,-0.026343218982219696,-3.9203929901123047,-3.843646287918091,0.9447553157806396,0.33672696352005005,-2.04634952545166,4.11298131942749,-1.1942135095596313,2.3214597702026367,-1.0137733221054077,-1.5207849740982056,-3.589339256286621,-0.990367591381073,1.3357653617858887,-3.6547441482543945,-1.3316172361373901,1.8906971216201782,3.508279323577881,-0.15242822468280792,-1.2463918924331665,-0.32632601261138916,-0.3222942650318146,-1.1416174173355103,-0.19771431386470795,-2.4835317134857178,0.815483570098877,-3.7512378692626953,4.4203033447265625,-1.9118597507476807,-1.754172921180725,-0.7432678937911987,3.2264935970306396,2.4020893573760986,1.4258768558502197,1.8894269466400146,-0.7660524249076843,2.0891621112823486,1.7602934837341309,-1.635575294494629,-2.0399303436279297,2.8695790767669678,1.223769187927246,1.7509770393371582,3.5009877681732178,4.74662446975708,-2.356032133102417,-1.3632452487945557,1.6628812551498413,-3.0229125022888184,-1.3193556070327759,0.7488621473312378,1.9662585258483887,-2.367480754852295,-2.830846071243286,1.8935006856918335,-0.058455754071474075,-4.528924942016602,-4.421313285827637,-5.09092378616333,-2.2231667041778564,0.7041392922401428,3.644643545150757,-2.2130377292633057,-1.7850909233093262,3.7971386909484863,-3.1904711723327637,-0.9361797571182251,0.45581525564193726,-1.2438582181930542,2.3620047569274902,3.8807811737060547,1.2294427156448364,-0.9487074017524719,-1.3739817142486572,4.588846206665039,-2.560326099395752,1.4553438425064087,0.42029184103012085,2.506608486175537,3.5329058170318604,-3.155045509338379,-1.0761972665786743,-0.19763872027397156,2.2065274715423584,2.365729331970215,-0.14287421107292175,1.8524171113967896,-0.49672573804855347,-3.2997357845306396,0.1534435749053955,0.34530550241470337,-3.9498138427734375,0.42719802260398865,0.2378184199333191,0.7533734440803528,1.2359960079193115,3.849608898162842,1.947212815284729,1.3284772634506226,-0.4158327281475067,0.1754598617553711,-4.113412380218506,-1.7386317253112793,-1.5329864025115967,2.5969440937042236,2.3368678092956543,-1.29377019405365,-2.1711010932922363,4.3031816482543945,-3.0939745903015137,-1.98027765750885,2.8227405548095703,1.1836700439453125,2.0458948612213135,2.0908021926879883,-1.1715087890625,3.3210723400115967,-0.20474807918071747,-0.34816762804985046,4.532122611999512,-0.6097128391265869,1.0202234983444214,0.8350621461868286,-1.4483156204223633,-3.3473289012908936,1.071089506149292,1.5446308851242065,-4.227081775665283,1.4348849058151245,-0.9219053983688354,-1.3843973875045776,-2.6950197219848633,-4.357305526733398,-0.1220678761601448,-0.030956216156482697,-1.5420863628387451,2.4141576290130615,0.6772916316986084,1.438542127609253,-2.1166043281555176,-1.7498643398284912,1.320336103439331,-0.5469452142715454,-1.739156723022461,-2.165144920349121,1.3615056276321411,3.9020869731903076,4.714865684509277,-2.5465238094329834,-2.6610617637634277,3.3100099563598633,3.551929235458374,-1.1020549535751343,3.015418767929077,1.6679574251174927,4.799677848815918,3.167228937149048,-4.700135707855225,2.8930835723876953,1.3590539693832397,-0.8776440024375916,3.428142547607422,-0.9571987986564636,-5.448939800262451,-0.20212268829345703,1.5434945821762085,-2.5289440155029297,-2.264842987060547,-0.8669413924217224,0.7719268798828125,-3.178328275680542,1.2182546854019165,4.35133171081543,0.702395498752594,-0.601385235786438,0.6799346804618835,0.2987130284309387,1.268269658088684,3.4497151374816895,-1.5352531671524048,3.481029987335205,0.6251728534698486,-5.371343612670898,-3.954103708267212,-3.077139139175415,-3.5632946491241455,4.370060443878174,0.2895994782447815,-5.191399097442627,-0.49575066566467285,-0.5023784041404724,2.3189592361450195,4.144906997680664,1.3595750331878662,-4.147938251495361,2.952075719833374,4.158506393432617,2.982673406600952,-0.703822672367096,-2.527761936187744,-3.647050380706787,1.516311526298523,-1.700743317604065,3.4674079418182373,-1.327120304107666,-3.7996387481689453,-2.9207794666290283,4.254486560821533,-3.6958272457122803,-2.374936819076538,-0.933401346206665,-2.7882513999938965,2.7092275619506836,2.3685243129730225,-3.924527645111084,-3.765223503112793,0.7326846122741699,-0.5837622284889221,2.164504051208496,3.1705355644226074,1.7607733011245728,2.138023853302002,-3.35943341255188,-1.3624911308288574,1.9252474308013916,3.779069423675537],\"xaxis\":\"x\",\"y\":[-2.3380589485168457,0.2988904118537903,-0.0630437359213829,-1.8875316381454468,-0.2915041446685791,-1.3619139194488525,-1.6171540021896362,0.037611283361911774,-5.416478633880615,-0.8257237672805786,1.7841707468032837,-1.4032576084136963,1.4826427698135376,-3.509382724761963,2.4766111373901367,-1.95283842086792,-0.11694695800542831,2.7159528732299805,-1.9061260223388672,1.5220873355865479,0.004382384940981865,-2.5334908962249756,1.6122560501098633,0.13165338337421417,1.4725005626678467,-0.9929713606834412,-0.09739190340042114,-1.1746729612350464,-1.238613486289978,1.5239101648330688,-2.7309889793395996,-2.179309606552124,0.4786381423473358,1.1055272817611694,-3.430434465408325,-0.6537814140319824,1.5343533754348755,-0.19535864889621735,2.769144058227539,1.9831067323684692,3.170315742492676,-1.3895272016525269,0.13770319521427155,-3.0057966709136963,1.5812350511550903,-0.34885406494140625,-2.016288995742798,-3.070517063140869,1.8360531330108643,0.23453892767429352,-1.9793431758880615,1.1696913242340088,2.165508270263672,0.10710763186216354,0.7239536643028259,-0.21538296341896057,2.8214447498321533,0.46691495180130005,2.5514373779296875,3.1974315643310547,-3.7316524982452393,2.2682952880859375,-0.7401848435401917,-0.10133304446935654,-1.717193841934204,-2.1764962673187256,-2.8775131702423096,-4.029143333435059,0.07065626233816147,2.129624605178833,-0.6113784909248352,-0.06675178557634354,1.3280351161956787,3.014594078063965,0.4671051800251007,-0.14190413057804108,0.22497229278087616,-0.5617353916168213,1.0370889902114868,-2.731220245361328,0.9323582053184509,-4.697261810302734,2.1876659393310547,-2.1387977600097656,0.47162580490112305,-3.196739435195923,-0.11934507638216019,-1.778240442276001,2.0802268981933594,-4.27819299697876,1.5143946409225464,2.106576442718506,-2.451369285583496,-0.37858253717422485,2.2821106910705566,-0.741996705532074,-1.2262643575668335,-1.2523548603057861,-2.146944761276245,-0.5521042943000793,-2.3287248611450195,0.292577862739563,-4.9056549072265625,0.1319206953048706,1.0250167846679688,0.17661656439304352,-1.4315109252929688,0.6154118180274963,-0.08412819355726242,-3.150137186050415,1.7647738456726074,0.40178126096725464,-2.536203384399414,-0.3166445791721344,-0.7098015546798706,1.1409306526184082,-0.7213695049285889,-3.274736166000366,0.9420734643936157,0.9816820025444031,0.3470165729522705,-0.04228605329990387,-1.3488112688064575,0.7950971722602844,0.23114626109600067,-4.627124786376953,-3.2316980361938477,-0.15079647302627563,-2.052513837814331,0.44704189896583557,-1.0600574016571045,2.1679255962371826,-1.0778396129608154,1.8462069034576416,0.2219451516866684,1.615039587020874,0.3208436071872711,-2.027243137359619,0.6564163565635681,2.8930113315582275,-0.7352676391601562,-2.4316678047180176,2.506998300552368,2.070441961288452,-1.0898815393447876,1.0413522720336914,0.31636181473731995,-0.3423420786857605,-1.7460845708847046,-0.22658662497997284,-2.7105789184570312,-0.2926732301712036,1.5326361656188965,0.3094884753227234,-0.16545994579792023,2.0134105682373047,-2.9467926025390625,0.6520229578018188,0.5893847346305847,1.3931407928466797,-1.7194024324417114,1.10019052028656,-1.2436004877090454,-0.6926016807556152,2.968458652496338,2.3181426525115967,4.319915771484375,-3.145843982696533,2.347975969314575,-0.28022921085357666,-0.11246862262487411,-0.8356614708900452,-0.2518131136894226,-0.10465837270021439,-5.0267181396484375,-0.4831697344779968,-3.933415651321411,1.3381469249725342,-0.41538766026496887,-1.781224012374878,-0.4635123014450073,-2.863820791244507,1.1693952083587646,-1.036806344985962,-0.48387786746025085,-0.7687970399856567,-1.755892038345337,0.4304039478302002,0.349029541015625,-1.254162073135376,-3.025455951690674,-1.2224576473236084,1.346915602684021,-0.5068299770355225,1.3638070821762085,0.31912413239479065,-1.3348960876464844,0.7550531625747681,-0.27624520659446716,-3.323986053466797,1.5071362257003784,-0.10717856884002686,0.17700351774692535,1.33726966381073,-1.3142863512039185,2.570154905319214,0.18021082878112793,-0.12864020466804504,-0.3936108350753784,-0.5145055651664734,-1.4418302774429321,-3.3330307006835938,1.4332557916641235,-2.5469865798950195,-2.8733553886413574,-1.251489281654358,-1.3681749105453491,-0.41202351450920105,-0.9235798120498657,-0.14998282492160797,-0.9124295115470886,-1.0568939447402954,-0.8244979977607727,-3.3894903659820557,0.5288206338882446,0.8596184849739075,0.4625898599624634,-1.378076195716858,-1.2500158548355103,1.3306368589401245,0.29020580649375916,-1.7957582473754883,1.1533061265945435,-0.6619217991828918,-2.50750470161438,-0.36609166860580444,-0.14961959421634674,3.1640725135803223,-1.735809564590454,0.8851020932197571,0.8332197070121765,-0.4984780251979828,0.7967272400856018,4.366159915924072,-2.1318304538726807,0.5612108707427979,-1.9536737203598022,0.805908739566803,-1.2235151529312134,-0.1340215504169464,-0.2432376593351364,0.21533885598182678,-0.24867625534534454,1.2763214111328125,-0.5404092073440552,1.266456961631775,3.308577537536621,4.750210285186768,2.890909194946289,-0.1343528926372528,-2.2578506469726562,2.648829936981201,-0.1888081580400467,2.353954553604126,3.127650022506714,-0.32702964544296265,-3.4138879776000977,-2.983905076980591,1.0951306819915771,3.0573437213897705,2.2230045795440674,2.1276862621307373,1.1284148693084717,-2.0925521850585938,1.2890186309814453,-1.2942827939987183,1.4350258111953735,3.9541172981262207,0.978735089302063,-2.301504611968994,0.31106284260749817,0.9822656512260437,-1.2668519020080566,1.455111026763916,-0.8829011917114258,-1.1564524173736572,-1.09409761428833,0.8308226466178894,3.0304501056671143,-2.204023599624634,-0.31759923696517944,-1.0930509567260742,1.824026107788086,-0.9544816613197327,-5.448731422424316,-4.821646690368652,-2.571018695831299,-3.908323287963867,0.2305370569229126,-2.2162673473358154,3.4515621662139893,-1.2771801948547363,0.9353190064430237,-0.08376308530569077,1.2728725671768188,4.2076735496521,-1.0771751403808594,-0.21869009733200073,-0.06625480204820633,1.0757243633270264,2.9561026096343994,-1.0923227071762085,3.6240391731262207,-1.540225863456726,-3.7864067554473877,0.7619797587394714,0.9560701251029968,-2.024974822998047,5.172965049743652,-0.7501534223556519,-4.381414890289307,3.0834546089172363,-1.6438618898391724,-2.5916194915771484,0.6104568839073181,-0.3059834837913513,-2.652787208557129,2.45914626121521,-0.6519713401794434,2.367654323577881,3.1798665523529053,-1.6677547693252563,2.0531952381134033,-0.249919131398201,-3.830054759979248,3.594719886779785,-1.6431983709335327,2.686551570892334,5.094154357910156,-3.429527759552002,-0.4186508059501648,-5.337406635284424,-4.26545524597168,-3.312000036239624,-0.32632583379745483,-3.5416934490203857,0.6004555821418762,2.4546377658843994,1.609209418296814,1.12308669090271,-0.5188368558883667,4.972578048706055,1.3919881582260132,1.838970422744751,0.7706637978553772,-1.3954557180404663,-3.3353636264801025,3.700582504272461,-3.843454360961914,-0.7360809445381165,-3.008209705352783,4.56616735458374,-3.0737762451171875,-0.7796289324760437,-0.9175217151641846,-0.492754727602005,-4.244462013244629,-0.08512923121452332,2.723825454711914,-2.6421728134155273,-2.7168004512786865,-2.6766107082366943,-2.3036932945251465,0.2640468180179596,2.6861722469329834,2.758535623550415,-0.6745861172676086,-2.3996548652648926,2.792266845703125,-0.6999868154525757,0.22802546620368958,0.9519431591033936,1.9538359642028809,-3.0899720191955566,3.1786253452301025,-1.6756409406661987,3.7978262901306152,-1.576399564743042,1.2191493511199951,-2.411855697631836,3.0715126991271973,4.8819756507873535,-0.9826045036315918,-0.4587245285511017,-3.740185022354126,-3.185851812362671,0.0710429698228836,0.13408935070037842,3.364928960800171,-0.8397494554519653,1.8032903671264648,-3.013500928878784,4.417303085327148,-0.3327266573905945,-1.8158621788024902,3.624342918395996,-2.38301420211792,0.19748452305793762,1.640307903289795,-4.962627410888672,-0.029601888731122017,1.230921983718872,2.4206998348236084,-2.7546188831329346,-3.6829893589019775,-1.1903743743896484,-1.0671091079711914,-0.2136150747537613,0.8307598829269409,0.48720061779022217,1.1274162530899048,-1.427096962928772,1.0730434656143188,-0.6740122437477112,0.06389528512954712,-1.6965994834899902,-0.5953997373580933,-3.33794903755188,-4.700608253479004,-0.18707303702831268,-2.6589853763580322,2.0684778690338135,-2.177978992462158,-3.9735395908355713,-1.7144317626953125,-0.04874802380800247,1.6380364894866943,0.9988833665847778,1.9732435941696167,0.8601260781288147,0.06580691784620285,2.8391363620758057,-0.13811826705932617,0.9073312282562256,-0.9077346920967102,2.0825512409210205,0.6741605997085571,2.3272111415863037,4.76247501373291,-5.029500484466553,0.6297747492790222,0.40394774079322815,3.177201271057129,1.2467230558395386,0.5392692685127258,0.054842643439769745,-1.6577543020248413,-1.9462831020355225,2.3567516803741455,-1.3101286888122559,2.5148873329162598,3.298736333847046,1.5140838623046875,1.841640591621399,-4.002920150756836,1.7360941171646118,1.3851652145385742,-2.185030460357666,3.052966594696045,-2.815101146697998,-1.1079201698303223,-0.5212156176567078,-1.1957290172576904,-1.9753060340881348,-2.1108362674713135,0.06560900062322617,-3.569589614868164,-0.17914141714572906,-0.3709948658943176,4.424685478210449,0.9833770394325256,-2.196729898452759,4.43398380279541,0.3496387302875519,-0.9168403744697571,-2.694535970687866,0.6533560752868652,3.3143129348754883,3.5364632606506348,-4.382465839385986,2.1042287349700928,-4.0216264724731445,-1.0558662414550781,3.1063060760498047,2.898286819458008,-0.7480930089950562,-0.9460898041725159,-5.34429407119751,2.849642038345337,1.2028632164001465,1.5309038162231445,-1.7117711305618286,-1.6417046785354614,-2.2442102432250977,-0.28437989950180054,-0.4184682369232178,-0.8349126577377319,4.339834213256836,0.8649171590805054,4.017389297485352,-4.0214738845825195,-0.7375755906105042,2.4099032878875732,0.8270303606987,3.425107955932617,1.8506793975830078,-2.2020015716552734,-1.371539831161499,1.445529818534851,4.957727432250977,-1.0253180265426636,0.031238563358783722,-0.40186595916748047,-1.5227878093719482,-2.1985464096069336,0.5535001754760742,-1.9272552728652954,0.2624393403530121,1.326556921005249,1.8130927085876465,0.5017523169517517,3.1542656421661377,-3.474576711654663,-0.06986214965581894,-3.348085880279541,-4.082449913024902,-2.6603920459747314,-1.9829344749450684,0.3773227632045746,0.5733288526535034,1.6503709554672241,-2.967968463897705,-1.1776468753814697,-3.425206422805786,2.8425395488739014,3.141623020172119,-3.9046926498413086,-1.8287287950515747,0.2850423753261566,-4.207175254821777,2.4197421073913574,4.714376926422119,-0.41946837306022644,-4.7090582847595215,1.5148261785507202,2.6653621196746826,2.368227005004883,0.517776370048523,-0.8359405994415283,-1.018164038658142,-0.8544928431510925,2.177081823348999,1.2440682649612427,2.294954299926758,1.2941843271255493,4.645667552947998,2.9461612701416016,0.4900284707546234,4.187392234802246,-0.09060658514499664,3.7727291584014893,-3.229504108428955,-1.3931570053100586,2.0877909660339355,1.2480045557022095,-0.9024707078933716,-1.767380714416504,-4.330047607421875,3.89965558052063,-0.82301926612854,0.1875304877758026,2.9527270793914795,0.11988550424575806,-2.487334728240967,-3.6626484394073486,-0.12260966747999191,3.3229265213012695,3.760413646697998,-1.1197702884674072,-0.3586215376853943,-1.3789308071136475,-1.3812700510025024,-2.080665111541748,1.6829993724822998,3.564725160598755,3.1888396739959717,-2.8081023693084717,-3.8169796466827393,-3.171973705291748,3.1079463958740234,-0.3066244125366211,3.6895220279693604,1.593878149986267,4.188510894775391,1.0561413764953613,0.2426869422197342,-4.813748359680176,1.7052996158599854,0.429067462682724,3.7360358238220215,1.9872277975082397,-1.6797871589660645,1.9635109901428223,2.6355974674224854,4.111810684204102,-3.3178625106811523,-0.6718642115592957,0.012450037524104118,3.180729866027832,-2.669936418533325,2.5406367778778076,-1.854723334312439,0.8703330755233765],\"yaxis\":\"y\",\"type\":\"scatter\"}],                        {\"template\":{\"data\":{\"histogram2dcontour\":[{\"type\":\"histogram2dcontour\",\"colorbar\":{\"outlinewidth\":0,\"ticks\":\"\"},\"colorscale\":[[0.0,\"#0d0887\"],[0.1111111111111111,\"#46039f\"],[0.2222222222222222,\"#7201a8\"],[0.3333333333333333,\"#9c179e\"],[0.4444444444444444,\"#bd3786\"],[0.5555555555555556,\"#d8576b\"],[0.6666666666666666,\"#ed7953\"],[0.7777777777777778,\"#fb9f3a\"],[0.8888888888888888,\"#fdca26\"],[1.0,\"#f0f921\"]]}],\"choropleth\":[{\"type\":\"choropleth\",\"colorbar\":{\"outlinewidth\":0,\"ticks\":\"\"}}],\"histogram2d\":[{\"type\":\"histogram2d\",\"colorbar\":{\"outlinewidth\":0,\"ticks\":\"\"},\"colorscale\":[[0.0,\"#0d0887\"],[0.1111111111111111,\"#46039f\"],[0.2222222222222222,\"#7201a8\"],[0.3333333333333333,\"#9c179e\"],[0.4444444444444444,\"#bd3786\"],[0.5555555555555556,\"#d8576b\"],[0.6666666666666666,\"#ed7953\"],[0.7777777777777778,\"#fb9f3a\"],[0.8888888888888888,\"#fdca26\"],[1.0,\"#f0f921\"]]}],\"heatmap\":[{\"type\":\"heatmap\",\"colorbar\":{\"outlinewidth\":0,\"ticks\":\"\"},\"colorscale\":[[0.0,\"#0d0887\"],[0.1111111111111111,\"#46039f\"],[0.2222222222222222,\"#7201a8\"],[0.3333333333333333,\"#9c179e\"],[0.4444444444444444,\"#bd3786\"],[0.5555555555555556,\"#d8576b\"],[0.6666666666666666,\"#ed7953\"],[0.7777777777777778,\"#fb9f3a\"],[0.8888888888888888,\"#fdca26\"],[1.0,\"#f0f921\"]]}],\"heatmapgl\":[{\"type\":\"heatmapgl\",\"colorbar\":{\"outlinewidth\":0,\"ticks\":\"\"},\"colorscale\":[[0.0,\"#0d0887\"],[0.1111111111111111,\"#46039f\"],[0.2222222222222222,\"#7201a8\"],[0.3333333333333333,\"#9c179e\"],[0.4444444444444444,\"#bd3786\"],[0.5555555555555556,\"#d8576b\"],[0.6666666666666666,\"#ed7953\"],[0.7777777777777778,\"#fb9f3a\"],[0.8888888888888888,\"#fdca26\"],[1.0,\"#f0f921\"]]}],\"contourcarpet\":[{\"type\":\"contourcarpet\",\"colorbar\":{\"outlinewidth\":0,\"ticks\":\"\"}}],\"contour\":[{\"type\":\"contour\",\"colorbar\":{\"outlinewidth\":0,\"ticks\":\"\"},\"colorscale\":[[0.0,\"#0d0887\"],[0.1111111111111111,\"#46039f\"],[0.2222222222222222,\"#7201a8\"],[0.3333333333333333,\"#9c179e\"],[0.4444444444444444,\"#bd3786\"],[0.5555555555555556,\"#d8576b\"],[0.6666666666666666,\"#ed7953\"],[0.7777777777777778,\"#fb9f3a\"],[0.8888888888888888,\"#fdca26\"],[1.0,\"#f0f921\"]]}],\"surface\":[{\"type\":\"surface\",\"colorbar\":{\"outlinewidth\":0,\"ticks\":\"\"},\"colorscale\":[[0.0,\"#0d0887\"],[0.1111111111111111,\"#46039f\"],[0.2222222222222222,\"#7201a8\"],[0.3333333333333333,\"#9c179e\"],[0.4444444444444444,\"#bd3786\"],[0.5555555555555556,\"#d8576b\"],[0.6666666666666666,\"#ed7953\"],[0.7777777777777778,\"#fb9f3a\"],[0.8888888888888888,\"#fdca26\"],[1.0,\"#f0f921\"]]}],\"mesh3d\":[{\"type\":\"mesh3d\",\"colorbar\":{\"outlinewidth\":0,\"ticks\":\"\"}}],\"scatter\":[{\"fillpattern\":{\"fillmode\":\"overlay\",\"size\":10,\"solidity\":0.2},\"type\":\"scatter\"}],\"parcoords\":[{\"type\":\"parcoords\",\"line\":{\"colorbar\":{\"outlinewidth\":0,\"ticks\":\"\"}}}],\"scatterpolargl\":[{\"type\":\"scatterpolargl\",\"marker\":{\"colorbar\":{\"outlinewidth\":0,\"ticks\":\"\"}}}],\"bar\":[{\"error_x\":{\"color\":\"#2a3f5f\"},\"error_y\":{\"color\":\"#2a3f5f\"},\"marker\":{\"line\":{\"color\":\"#E5ECF6\",\"width\":0.5},\"pattern\":{\"fillmode\":\"overlay\",\"size\":10,\"solidity\":0.2}},\"type\":\"bar\"}],\"scattergeo\":[{\"type\":\"scattergeo\",\"marker\":{\"colorbar\":{\"outlinewidth\":0,\"ticks\":\"\"}}}],\"scatterpolar\":[{\"type\":\"scatterpolar\",\"marker\":{\"colorbar\":{\"outlinewidth\":0,\"ticks\":\"\"}}}],\"histogram\":[{\"marker\":{\"pattern\":{\"fillmode\":\"overlay\",\"size\":10,\"solidity\":0.2}},\"type\":\"histogram\"}],\"scattergl\":[{\"type\":\"scattergl\",\"marker\":{\"colorbar\":{\"outlinewidth\":0,\"ticks\":\"\"}}}],\"scatter3d\":[{\"type\":\"scatter3d\",\"line\":{\"colorbar\":{\"outlinewidth\":0,\"ticks\":\"\"}},\"marker\":{\"colorbar\":{\"outlinewidth\":0,\"ticks\":\"\"}}}],\"scattermapbox\":[{\"type\":\"scattermapbox\",\"marker\":{\"colorbar\":{\"outlinewidth\":0,\"ticks\":\"\"}}}],\"scatterternary\":[{\"type\":\"scatterternary\",\"marker\":{\"colorbar\":{\"outlinewidth\":0,\"ticks\":\"\"}}}],\"scattercarpet\":[{\"type\":\"scattercarpet\",\"marker\":{\"colorbar\":{\"outlinewidth\":0,\"ticks\":\"\"}}}],\"carpet\":[{\"aaxis\":{\"endlinecolor\":\"#2a3f5f\",\"gridcolor\":\"white\",\"linecolor\":\"white\",\"minorgridcolor\":\"white\",\"startlinecolor\":\"#2a3f5f\"},\"baxis\":{\"endlinecolor\":\"#2a3f5f\",\"gridcolor\":\"white\",\"linecolor\":\"white\",\"minorgridcolor\":\"white\",\"startlinecolor\":\"#2a3f5f\"},\"type\":\"carpet\"}],\"table\":[{\"cells\":{\"fill\":{\"color\":\"#EBF0F8\"},\"line\":{\"color\":\"white\"}},\"header\":{\"fill\":{\"color\":\"#C8D4E3\"},\"line\":{\"color\":\"white\"}},\"type\":\"table\"}],\"barpolar\":[{\"marker\":{\"line\":{\"color\":\"#E5ECF6\",\"width\":0.5},\"pattern\":{\"fillmode\":\"overlay\",\"size\":10,\"solidity\":0.2}},\"type\":\"barpolar\"}],\"pie\":[{\"automargin\":true,\"type\":\"pie\"}]},\"layout\":{\"autotypenumbers\":\"strict\",\"colorway\":[\"#636efa\",\"#EF553B\",\"#00cc96\",\"#ab63fa\",\"#FFA15A\",\"#19d3f3\",\"#FF6692\",\"#B6E880\",\"#FF97FF\",\"#FECB52\"],\"font\":{\"color\":\"#2a3f5f\"},\"hovermode\":\"closest\",\"hoverlabel\":{\"align\":\"left\"},\"paper_bgcolor\":\"white\",\"plot_bgcolor\":\"#E5ECF6\",\"polar\":{\"bgcolor\":\"#E5ECF6\",\"angularaxis\":{\"gridcolor\":\"white\",\"linecolor\":\"white\",\"ticks\":\"\"},\"radialaxis\":{\"gridcolor\":\"white\",\"linecolor\":\"white\",\"ticks\":\"\"}},\"ternary\":{\"bgcolor\":\"#E5ECF6\",\"aaxis\":{\"gridcolor\":\"white\",\"linecolor\":\"white\",\"ticks\":\"\"},\"baxis\":{\"gridcolor\":\"white\",\"linecolor\":\"white\",\"ticks\":\"\"},\"caxis\":{\"gridcolor\":\"white\",\"linecolor\":\"white\",\"ticks\":\"\"}},\"coloraxis\":{\"colorbar\":{\"outlinewidth\":0,\"ticks\":\"\"}},\"colorscale\":{\"sequential\":[[0.0,\"#0d0887\"],[0.1111111111111111,\"#46039f\"],[0.2222222222222222,\"#7201a8\"],[0.3333333333333333,\"#9c179e\"],[0.4444444444444444,\"#bd3786\"],[0.5555555555555556,\"#d8576b\"],[0.6666666666666666,\"#ed7953\"],[0.7777777777777778,\"#fb9f3a\"],[0.8888888888888888,\"#fdca26\"],[1.0,\"#f0f921\"]],\"sequentialminus\":[[0.0,\"#0d0887\"],[0.1111111111111111,\"#46039f\"],[0.2222222222222222,\"#7201a8\"],[0.3333333333333333,\"#9c179e\"],[0.4444444444444444,\"#bd3786\"],[0.5555555555555556,\"#d8576b\"],[0.6666666666666666,\"#ed7953\"],[0.7777777777777778,\"#fb9f3a\"],[0.8888888888888888,\"#fdca26\"],[1.0,\"#f0f921\"]],\"diverging\":[[0,\"#8e0152\"],[0.1,\"#c51b7d\"],[0.2,\"#de77ae\"],[0.3,\"#f1b6da\"],[0.4,\"#fde0ef\"],[0.5,\"#f7f7f7\"],[0.6,\"#e6f5d0\"],[0.7,\"#b8e186\"],[0.8,\"#7fbc41\"],[0.9,\"#4d9221\"],[1,\"#276419\"]]},\"xaxis\":{\"gridcolor\":\"white\",\"linecolor\":\"white\",\"ticks\":\"\",\"title\":{\"standoff\":15},\"zerolinecolor\":\"white\",\"automargin\":true,\"zerolinewidth\":2},\"yaxis\":{\"gridcolor\":\"white\",\"linecolor\":\"white\",\"ticks\":\"\",\"title\":{\"standoff\":15},\"zerolinecolor\":\"white\",\"automargin\":true,\"zerolinewidth\":2},\"scene\":{\"xaxis\":{\"backgroundcolor\":\"#E5ECF6\",\"gridcolor\":\"white\",\"linecolor\":\"white\",\"showbackground\":true,\"ticks\":\"\",\"zerolinecolor\":\"white\",\"gridwidth\":2},\"yaxis\":{\"backgroundcolor\":\"#E5ECF6\",\"gridcolor\":\"white\",\"linecolor\":\"white\",\"showbackground\":true,\"ticks\":\"\",\"zerolinecolor\":\"white\",\"gridwidth\":2},\"zaxis\":{\"backgroundcolor\":\"#E5ECF6\",\"gridcolor\":\"white\",\"linecolor\":\"white\",\"showbackground\":true,\"ticks\":\"\",\"zerolinecolor\":\"white\",\"gridwidth\":2}},\"shapedefaults\":{\"line\":{\"color\":\"#2a3f5f\"}},\"annotationdefaults\":{\"arrowcolor\":\"#2a3f5f\",\"arrowhead\":0,\"arrowwidth\":1},\"geo\":{\"bgcolor\":\"white\",\"landcolor\":\"#E5ECF6\",\"subunitcolor\":\"white\",\"showland\":true,\"showlakes\":true,\"lakecolor\":\"white\"},\"title\":{\"x\":0.05},\"mapbox\":{\"style\":\"light\"}}},\"xaxis\":{\"anchor\":\"y\",\"domain\":[0.0,1.0],\"title\":{\"text\":\"x\"}},\"yaxis\":{\"anchor\":\"x\",\"domain\":[0.0,1.0],\"title\":{\"text\":\"y\"}},\"legend\":{\"tracegroupgap\":0},\"margin\":{\"t\":60}},                        {\"responsive\": true}                    ).then(function(){\n",
       "                            \n",
       "var gd = document.getElementById('685cf692-ca20-4507-a118-2c7d335d0567');\n",
       "var x = new MutationObserver(function (mutations, observer) {{\n",
       "        var display = window.getComputedStyle(gd).display;\n",
       "        if (!display || display === 'none') {{\n",
       "            console.log([gd, 'removed!']);\n",
       "            Plotly.purge(gd);\n",
       "            observer.disconnect();\n",
       "        }}\n",
       "}});\n",
       "\n",
       "// Listen for the removal of the full notebook cells\n",
       "var notebookContainer = gd.closest('#notebook-container');\n",
       "if (notebookContainer) {{\n",
       "    x.observe(notebookContainer, {childList: true});\n",
       "}}\n",
       "\n",
       "// Listen for the clearing of the current output cell\n",
       "var outputEl = gd.closest('.output');\n",
       "if (outputEl) {{\n",
       "    x.observe(outputEl, {childList: true});\n",
       "}}\n",
       "\n",
       "                        })                };                            </script>        </div>\n",
       "</body>\n",
       "</html>"
      ]
     },
     "metadata": {},
     "output_type": "display_data"
    }
   ],
   "source": [
    "#using normalised mean centered ratings\n",
    "fig = px.scatter(tsne_df, x='x', y='y', text='title')#color='game_rating'\n",
    "fig.show()"
   ]
  },
  {
   "cell_type": "code",
   "execution_count": 79,
   "metadata": {
    "colab": {
     "base_uri": "https://localhost:8080/",
     "height": 35
    },
    "executionInfo": {
     "elapsed": 1059,
     "status": "ok",
     "timestamp": 1682508305976,
     "user": {
      "displayName": "Kenneth Lim",
      "userId": "13515568553746894809"
     },
     "user_tz": -480
    },
    "id": "oczObE5MTt1b",
    "outputId": "ebfd177e-81ca-4b5d-9918-e06699bb8a48"
   },
   "outputs": [
    {
     "data": {
      "application/vnd.google.colaboratory.intrinsic+json": {
       "type": "string"
      },
      "text/plain": [
       "'t-sne.html'"
      ]
     },
     "execution_count": 79,
     "metadata": {},
     "output_type": "execute_result"
    }
   ],
   "source": [
    "plot(fig, filename='t-sne.html', auto_open=False)"
   ]
  },
  {
   "cell_type": "markdown",
   "metadata": {
    "id": "etdBfvDrR9uA"
   },
   "source": [
    "## Conclusion\n",
    "\n",
    "We have successfully executed the first built a protoype content based and collaborative filtering model that is able to predict the inferred ratings well based on the user's playtime of a specific game. On top of that, we have also designed and deployed a simple content filtering model onto streamlit that is able to accurately recommend new game titles on steam platform based on their past games, as well as their preferences, through the use of an NLP based predictor. This information collected from the data about the different models can be used for further assessment in the next step of our business problem for pitching to relevant stakeholders in our idea to eventually create a robust recommender system for the company's games database, so as to ensure that potential clients can continue to tap on explore different game titles across various genres. \n",
    "\n",
    "On the whole, although the research and protoyping phase was a sucess, there were some challenges that we have faced when building these 2 different model types. In content filtering, we faced the issue of cold start where the model was unable to recommend game titles to new users with little to information regarding their gaming behaviour. However, this roadblock can be resolved through the means of collaborative filtering, where users who have reviewed little game titles are able to be successfully recommended common game titles played by most users with numerous reviews. From these results, it can be justified that the combination of a collaborative and content filtering model will be able to definitely pull off more precise recommendations by accurately predicting more similar game titles to new users. Handling a large dataset that involves training on selected models in determining the predictability of content filtering, collaborative filtering, as well as hybrid based recommenders requires many considerations as it also limits to amount of feature exploration that can be done as a result of limitation on computational resources, which is something that we have faced in this project"
   ]
  },
  {
   "cell_type": "markdown",
   "metadata": {
    "id": "K5YbUJziSNaJ"
   },
   "source": [
    "## Recommendations \n",
    "\n",
    "Although we have managed to successfully evaluated the different prototype recommender system models using the steam dataset, there were many challenges that we have faced along the way which has caused us to take certain detours. One such key roadblock was the lack of computational resources available, which leads us to scaling down our dataset so as to focus only on the key features that can impact the models' predictive ability. For future work, it can be proposed that subsequent model training and evaluation should consider these approaches:\n",
    "\n",
    "1. Train model using the original dataset consisting of approximately 10 million rows on data cloud-based platforms such as Google Cloud Platform(GCP), Amazon Web Services(AWS) or Microsoft Azure. These virtual platforms can provide million of memory in RAM that can scale up and accomodate towards training the model on huge datasets.\n",
    "\n",
    "2. Employ Implicit based prediction algorithms for the training of our collaborative-based models, as well as hybrid based models that can effectively handle the cold-start issue \n",
    "\n",
    "\n",
    "3. Incorporate the use of advanced NLP based models that function using Deep Learing techniques such as BERT(Bi-Directional Encoder Representations for Tranformers), GPT(Generative Pre-trained Transformer) when designing an NLP based recommender in order to further improve its accuracy and precision in recommending game titles as it factors sequential textual data into consideration"
   ]
  }
 ],
 "metadata": {
  "colab": {
   "machine_shape": "hm",
   "provenance": [
    {
     "file_id": "1OcbfY99HBxvYwYaZ_F-qXKTk6AhXxOj7",
     "timestamp": 1681961362186
    },
    {
     "file_id": "1OfSH9I7nJNKM2BJmVqL_hCgkRlrSXlId",
     "timestamp": 1681792005217
    },
    {
     "file_id": "155S_bb3viIoL0wAwkIyr1r8XQu4ARwA9",
     "timestamp": 1681441262843
    }
   ]
  },
  "gpuClass": "standard",
  "kernelspec": {
   "display_name": "Python 3 (ipykernel)",
   "language": "python",
   "name": "python3"
  },
  "language_info": {
   "codemirror_mode": {
    "name": "ipython",
    "version": 3
   },
   "file_extension": ".py",
   "mimetype": "text/x-python",
   "name": "python",
   "nbconvert_exporter": "python",
   "pygments_lexer": "ipython3",
   "version": "3.9.7"
  }
 },
 "nbformat": 4,
 "nbformat_minor": 1
}
