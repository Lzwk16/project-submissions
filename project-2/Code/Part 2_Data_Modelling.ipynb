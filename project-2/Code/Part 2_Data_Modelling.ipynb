{
 "cells": [
  {
   "cell_type": "markdown",
   "id": "68895bd1",
   "metadata": {},
   "source": [
    "## Import Libraries"
   ]
  },
  {
   "cell_type": "code",
   "execution_count": 1,
   "id": "cdb4ead0",
   "metadata": {},
   "outputs": [],
   "source": [
    "import pandas as pd\n",
    "import numpy as np\n",
    "import seaborn as sns\n",
    "import matplotlib.pyplot as plt\n",
    "from sklearn.linear_model import LinearRegression, LassoCV, RidgeCV\n",
    "from sklearn.preprocessing import PolynomialFeatures, StandardScaler\n",
    "from sklearn.model_selection import train_test_split, cross_val_score, GridSearchCV\n",
    "from sklearn.metrics import mean_squared_error, r2_score\n",
    "import warnings\n",
    "warnings.filterwarnings('ignore')\n",
    "pd.set_option(\"display.max_rows\", 60)"
   ]
  },
  {
   "cell_type": "code",
   "execution_count": 2,
   "id": "6b6e8aed",
   "metadata": {},
   "outputs": [
    {
     "data": {
      "text/plain": [
       "(149805, 9)"
      ]
     },
     "execution_count": 2,
     "metadata": {},
     "output_type": "execute_result"
    }
   ],
   "source": [
    "dummy = pd.read_csv('../datasets/HDB_benchmark.csv')\n",
    "dummy.shape"
   ]
  },
  {
   "cell_type": "code",
   "execution_count": 3,
   "id": "4b85507f",
   "metadata": {},
   "outputs": [
    {
     "data": {
      "text/plain": [
       "max_floor_lvl            int64\n",
       "3room_sold               int64\n",
       "floor_area_sqm         float64\n",
       "5room_sold               int64\n",
       "exec_sold                int64\n",
       "mid                      int64\n",
       "lease_commence_date      int64\n",
       "resale_price           float64\n",
       "town                    object\n",
       "dtype: object"
      ]
     },
     "execution_count": 3,
     "metadata": {},
     "output_type": "execute_result"
    }
   ],
   "source": [
    "dummy.dtypes"
   ]
  },
  {
   "cell_type": "code",
   "execution_count": 4,
   "id": "44bb7419",
   "metadata": {},
   "outputs": [
    {
     "data": {
      "text/plain": [
       "max_floor_lvl          0\n",
       "3room_sold             0\n",
       "floor_area_sqm         0\n",
       "5room_sold             0\n",
       "exec_sold              0\n",
       "mid                    0\n",
       "lease_commence_date    0\n",
       "resale_price           0\n",
       "town                   0\n",
       "dtype: int64"
      ]
     },
     "execution_count": 4,
     "metadata": {},
     "output_type": "execute_result"
    }
   ],
   "source": [
    "dummy.isnull().sum()"
   ]
  },
  {
   "cell_type": "code",
   "execution_count": 5,
   "id": "15cd1aad",
   "metadata": {},
   "outputs": [
    {
     "data": {
      "text/plain": [
       "(149805, 18)"
      ]
     },
     "execution_count": 5,
     "metadata": {},
     "output_type": "execute_result"
    }
   ],
   "source": [
    "dummy1 = pd.read_csv('../datasets/HDB_FE.csv')\n",
    "dummy1.shape"
   ]
  },
  {
   "cell_type": "code",
   "execution_count": 6,
   "id": "ac2761cb",
   "metadata": {},
   "outputs": [
    {
     "data": {
      "text/plain": [
       "remaining_lease              int64\n",
       "max_floor_lvl                int64\n",
       "3room_sold                   int64\n",
       "floor_area_sqm             float64\n",
       "storey_range                 int64\n",
       "5room_sold                   int64\n",
       "exec_sold                    int64\n",
       "Mature_Estate                int64\n",
       "public_tpt_dist            float64\n",
       "amenities_within_2km       float64\n",
       "resale_price               float64\n",
       "town                        object\n",
       "Mall_Nearest_Distance      float64\n",
       "Hawker_Nearest_Distance    float64\n",
       "commercial                   int64\n",
       "total_dwelling_units         int64\n",
       "2room_sold                   int64\n",
       "full_flat_type              object\n",
       "dtype: object"
      ]
     },
     "execution_count": 6,
     "metadata": {},
     "output_type": "execute_result"
    }
   ],
   "source": [
    "dummy1.dtypes"
   ]
  },
  {
   "cell_type": "code",
   "execution_count": 7,
   "id": "89e4c0f4",
   "metadata": {},
   "outputs": [
    {
     "data": {
      "text/plain": [
       "remaining_lease            0\n",
       "max_floor_lvl              0\n",
       "3room_sold                 0\n",
       "floor_area_sqm             0\n",
       "storey_range               0\n",
       "5room_sold                 0\n",
       "exec_sold                  0\n",
       "Mature_Estate              0\n",
       "public_tpt_dist            0\n",
       "amenities_within_2km       0\n",
       "resale_price               0\n",
       "town                       0\n",
       "Mall_Nearest_Distance      0\n",
       "Hawker_Nearest_Distance    0\n",
       "commercial                 0\n",
       "total_dwelling_units       0\n",
       "2room_sold                 0\n",
       "full_flat_type             0\n",
       "dtype: int64"
      ]
     },
     "execution_count": 7,
     "metadata": {},
     "output_type": "execute_result"
    }
   ],
   "source": [
    "dummy1.isnull().sum()"
   ]
  },
  {
   "cell_type": "markdown",
   "id": "99332830",
   "metadata": {},
   "source": [
    "# Model 1: Using default features (without feature engineering)"
   ]
  },
  {
   "cell_type": "code",
   "execution_count": 8,
   "id": "553445c5",
   "metadata": {},
   "outputs": [],
   "source": [
    "#one-hot encode selected categorial features\n",
    "ohe = pd.get_dummies(dummy[['town']], drop_first=True)\n",
    "df = pd.concat([dummy, ohe], axis=1)\n",
    "df.drop(columns=['town'], inplace=True)"
   ]
  },
  {
   "cell_type": "markdown",
   "id": "824b232b",
   "metadata": {},
   "source": [
    "## Data Modelling"
   ]
  },
  {
   "cell_type": "code",
   "execution_count": 9,
   "id": "110ba7be",
   "metadata": {},
   "outputs": [],
   "source": [
    "X = df.drop(columns=['resale_price'])\n",
    "y = df['resale_price']"
   ]
  },
  {
   "cell_type": "code",
   "execution_count": 10,
   "id": "a83705e0",
   "metadata": {},
   "outputs": [],
   "source": [
    "X_train, X_val, y_train, y_val = train_test_split(X, y, random_state=42)"
   ]
  },
  {
   "cell_type": "code",
   "execution_count": 11,
   "id": "6152f384",
   "metadata": {},
   "outputs": [],
   "source": [
    "#perform scaling\n",
    "ss = StandardScaler()\n",
    "X_train_ss = ss.fit_transform(X_train)\n",
    "X_val_ss = ss.fit_transform(X_val)"
   ]
  },
  {
   "cell_type": "markdown",
   "id": "e16eefe8",
   "metadata": {},
   "source": [
    "### *Model: Linear Regression*"
   ]
  },
  {
   "cell_type": "code",
   "execution_count": 12,
   "id": "60dd675e",
   "metadata": {},
   "outputs": [],
   "source": [
    "lr = LinearRegression()"
   ]
  },
  {
   "cell_type": "code",
   "execution_count": 13,
   "id": "c3973734",
   "metadata": {},
   "outputs": [
    {
     "data": {
      "text/plain": [
       "0.8226196559299706"
      ]
     },
     "execution_count": 13,
     "metadata": {},
     "output_type": "execute_result"
    }
   ],
   "source": [
    "#cross validation for r2 score\n",
    "lr_score = cross_val_score(lr, X_train, y_train, cv=5)\n",
    "lr_score.mean()"
   ]
  },
  {
   "cell_type": "code",
   "execution_count": 14,
   "id": "7310e3d1",
   "metadata": {},
   "outputs": [
    {
     "data": {
      "text/plain": [
       "-60334.0075346246"
      ]
     },
     "execution_count": 14,
     "metadata": {},
     "output_type": "execute_result"
    }
   ],
   "source": [
    "#cross validation for RMSE\n",
    "lr_rmse = cross_val_score(lr, X_train, y_train, cv=5, scoring='neg_root_mean_squared_error')\n",
    "lr_rmse.mean()"
   ]
  },
  {
   "cell_type": "code",
   "execution_count": 15,
   "id": "6ddbc865",
   "metadata": {},
   "outputs": [
    {
     "data": {
      "text/plain": [
       "LinearRegression()"
      ]
     },
     "execution_count": 15,
     "metadata": {},
     "output_type": "execute_result"
    }
   ],
   "source": [
    "lr.fit(X_train, y_train)"
   ]
  },
  {
   "cell_type": "code",
   "execution_count": 16,
   "id": "8b88e6a0",
   "metadata": {},
   "outputs": [
    {
     "data": {
      "text/plain": [
       "0.8227770591703996"
      ]
     },
     "execution_count": 16,
     "metadata": {},
     "output_type": "execute_result"
    }
   ],
   "source": [
    "#r2 score for X train and y train\n",
    "lr.score(X_train, y_train)"
   ]
  },
  {
   "cell_type": "code",
   "execution_count": 17,
   "id": "f9a07b6a",
   "metadata": {},
   "outputs": [
    {
     "data": {
      "text/plain": [
       "0.8197352417486848"
      ]
     },
     "execution_count": 17,
     "metadata": {},
     "output_type": "execute_result"
    }
   ],
   "source": [
    "#r2 score for X val and y val\n",
    "lr.score(X_val, y_val)"
   ]
  },
  {
   "cell_type": "code",
   "execution_count": 18,
   "id": "8342a71d",
   "metadata": {},
   "outputs": [
    {
     "data": {
      "text/plain": [
       "60735.66720227129"
      ]
     },
     "execution_count": 18,
     "metadata": {},
     "output_type": "execute_result"
    }
   ],
   "source": [
    "#RMSE of Linear regression predict on test set\n",
    "lr_pred = lr.predict(X_val)\n",
    "mean_squared_error(y_val, lr_pred, squared=False)"
   ]
  },
  {
   "cell_type": "code",
   "execution_count": 19,
   "id": "71e460b7",
   "metadata": {},
   "outputs": [
    {
     "data": {
      "text/plain": [
       "-6378434.796243029"
      ]
     },
     "execution_count": 19,
     "metadata": {},
     "output_type": "execute_result"
    }
   ],
   "source": [
    "lr.intercept_"
   ]
  },
  {
   "cell_type": "code",
   "execution_count": 20,
   "id": "5105566a",
   "metadata": {},
   "outputs": [
    {
     "data": {
      "text/plain": [
       "town_BUKIT TIMAH        180332.532166\n",
       "town_MARINE PARADE      118589.046522\n",
       "town_CENTRAL AREA       102699.075405\n",
       "town_QUEENSTOWN          81832.086717\n",
       "town_BISHAN              79607.441924\n",
       "town_BUKIT MERAH         77684.720208\n",
       "town_KALLANG/WHAMPOA     41191.446350\n",
       "town_CLEMENTI            33815.904723\n",
       "town_TOA PAYOH           27325.688189\n",
       "town_GEYLANG             24986.360576\n",
       "floor_area_sqm            3929.979285\n",
       "max_floor_lvl             3670.220061\n",
       "mid                       3400.914491\n",
       "lease_commence_date       3224.007040\n",
       "exec_sold                  420.538853\n",
       "5room_sold                 -60.071869\n",
       "3room_sold                 -77.261123\n",
       "town_SERANGOON           -1131.052496\n",
       "town_BEDOK              -15467.368182\n",
       "town_TAMPINES           -38353.321866\n",
       "town_JURONG EAST        -67509.174577\n",
       "town_HOUGANG            -68931.379271\n",
       "town_BUKIT BATOK        -78440.333301\n",
       "town_YISHUN             -91427.149790\n",
       "town_PASIR RIS         -100253.311383\n",
       "town_PUNGGOL           -110211.964538\n",
       "town_JURONG WEST       -118569.395006\n",
       "town_SENGKANG          -128897.762950\n",
       "town_BUKIT PANJANG     -134949.135385\n",
       "town_WOODLANDS         -144534.919069\n",
       "town_CHOA CHU KANG     -164135.493772\n",
       "town_SEMBAWANG         -172117.762673\n",
       "dtype: float64"
      ]
     },
     "execution_count": 20,
     "metadata": {},
     "output_type": "execute_result"
    }
   ],
   "source": [
    "pd.Series(lr.coef_, index=X.columns).sort_values(ascending=False)"
   ]
  },
  {
   "cell_type": "markdown",
   "id": "f5dc2dc7",
   "metadata": {},
   "source": [
    "### *Regularisation Model: Lasso Regression*"
   ]
  },
  {
   "cell_type": "code",
   "execution_count": 21,
   "id": "a04fa475",
   "metadata": {},
   "outputs": [],
   "source": [
    "#perform scaling for ridge and lasso regularization\n",
    "ss = StandardScaler()\n",
    "X_train_ss = ss.fit_transform(X_train)\n",
    "X_val_ss = ss.fit_transform(X_val)"
   ]
  },
  {
   "cell_type": "code",
   "execution_count": 22,
   "id": "7dd33179",
   "metadata": {},
   "outputs": [],
   "source": [
    "lasso = LassoCV(n_alphas=500)"
   ]
  },
  {
   "cell_type": "code",
   "execution_count": 23,
   "id": "49160c33",
   "metadata": {},
   "outputs": [
    {
     "data": {
      "text/plain": [
       "0.822556214582022"
      ]
     },
     "execution_count": 23,
     "metadata": {},
     "output_type": "execute_result"
    }
   ],
   "source": [
    "#cross validation for r2 score\n",
    "lasso_score = cross_val_score(lasso, X_train_ss, y_train, cv=10)\n",
    "lasso_score.mean()"
   ]
  },
  {
   "cell_type": "code",
   "execution_count": 24,
   "id": "2e9579cc",
   "metadata": {},
   "outputs": [
    {
     "data": {
      "text/plain": [
       "-60339.039551114976"
      ]
     },
     "execution_count": 24,
     "metadata": {},
     "output_type": "execute_result"
    }
   ],
   "source": [
    "#cross validation for RMSE\n",
    "lasso_rmse = cross_val_score(lasso, X_train_ss, y_train, cv=10, scoring='neg_root_mean_squared_error')\n",
    "lasso_rmse.mean()"
   ]
  },
  {
   "cell_type": "code",
   "execution_count": 25,
   "id": "ce6e7e46",
   "metadata": {},
   "outputs": [
    {
     "data": {
      "text/plain": [
       "LassoCV(n_alphas=500)"
      ]
     },
     "execution_count": 25,
     "metadata": {},
     "output_type": "execute_result"
    }
   ],
   "source": [
    "lasso.fit(X_train_ss, y_train)"
   ]
  },
  {
   "cell_type": "code",
   "execution_count": 26,
   "id": "97f48f58",
   "metadata": {},
   "outputs": [
    {
     "data": {
      "text/plain": [
       "0.8227251993893552"
      ]
     },
     "execution_count": 26,
     "metadata": {},
     "output_type": "execute_result"
    }
   ],
   "source": [
    "#r2 score for X train and y train\n",
    "lasso.score(X_train_ss, y_train)"
   ]
  },
  {
   "cell_type": "code",
   "execution_count": 27,
   "id": "d01c2fc7",
   "metadata": {},
   "outputs": [
    {
     "data": {
      "text/plain": [
       "0.8196113836696037"
      ]
     },
     "execution_count": 27,
     "metadata": {},
     "output_type": "execute_result"
    }
   ],
   "source": [
    "#r2 score for X val and y val\n",
    "lasso.score(X_val_ss, y_val)"
   ]
  },
  {
   "cell_type": "code",
   "execution_count": 28,
   "id": "24777849",
   "metadata": {},
   "outputs": [
    {
     "data": {
      "text/plain": [
       "60756.5290485137"
      ]
     },
     "execution_count": 28,
     "metadata": {},
     "output_type": "execute_result"
    }
   ],
   "source": [
    "#RMSE of Lasso Regluarization predict on test set\n",
    "lasso_pred = lasso.predict(X_val_ss)\n",
    "mean_squared_error(y_val, lasso_pred, squared=False)"
   ]
  },
  {
   "cell_type": "code",
   "execution_count": 29,
   "id": "2db351dc",
   "metadata": {},
   "outputs": [],
   "source": [
    "#Lasso parameters\n",
    "params = {\"n_alphas\":[200,300,400,500]}\n",
    "\n",
    "#instanstiate gridsearch\n",
    "model = GridSearchCV(lasso, params, cv=5)"
   ]
  },
  {
   "cell_type": "code",
   "execution_count": 30,
   "id": "ef65dfbb",
   "metadata": {},
   "outputs": [
    {
     "data": {
      "text/plain": [
       "{'n_alphas': 200}"
      ]
     },
     "execution_count": 30,
     "metadata": {},
     "output_type": "execute_result"
    }
   ],
   "source": [
    "#fit gridsearch \n",
    "model.fit(X_train_ss, y_train)\n",
    "\n",
    "#get best parameters\n",
    "model.best_params_"
   ]
  },
  {
   "cell_type": "code",
   "execution_count": 31,
   "id": "cd3251bc",
   "metadata": {},
   "outputs": [
    {
     "data": {
      "text/plain": [
       "0.8196113836696037"
      ]
     },
     "execution_count": 31,
     "metadata": {},
     "output_type": "execute_result"
    }
   ],
   "source": [
    "model.score(X_val_ss, y_val)"
   ]
  },
  {
   "cell_type": "code",
   "execution_count": 32,
   "id": "0440cce3",
   "metadata": {},
   "outputs": [
    {
     "data": {
      "text/plain": [
       "94.04918109526236"
      ]
     },
     "execution_count": 32,
     "metadata": {},
     "output_type": "execute_result"
    }
   ],
   "source": [
    "lasso.alpha_"
   ]
  },
  {
   "cell_type": "code",
   "execution_count": 33,
   "id": "00bc1ac1",
   "metadata": {},
   "outputs": [
    {
     "data": {
      "text/plain": [
       "floor_area_sqm          95748.011448\n",
       "lease_commence_date     38093.753942\n",
       "max_floor_lvl           23151.213598\n",
       "mid                     18533.535354\n",
       "town_BUKIT MERAH        15521.222813\n",
       "town_QUEENSTOWN         13687.612531\n",
       "town_BISHAN             11414.435800\n",
       "town_MARINE PARADE       9747.115626\n",
       "town_CENTRAL AREA        9444.192547\n",
       "town_BUKIT TIMAH         8982.436875\n",
       "exec_sold                8058.672735\n",
       "town_KALLANG/WHAMPOA     7294.968506\n",
       "town_CLEMENTI            5591.352146\n",
       "town_TOA PAYOH           5231.760609\n",
       "town_GEYLANG             4445.551761\n",
       "town_SERANGOON            308.766053\n",
       "5room_sold              -1841.587456\n",
       "town_BEDOK              -2776.364262\n",
       "3room_sold              -5174.161977\n",
       "town_TAMPINES           -8664.225448\n",
       "town_JURONG EAST        -9433.849872\n",
       "town_BUKIT BATOK       -14085.823108\n",
       "town_HOUGANG           -14123.557155\n",
       "town_PASIR RIS         -16691.374843\n",
       "town_YISHUN            -21746.953794\n",
       "town_PUNGGOL           -23252.740715\n",
       "town_BUKIT PANJANG     -24861.865831\n",
       "town_SEMBAWANG         -25876.570383\n",
       "town_JURONG WEST       -30314.549707\n",
       "town_CHOA CHU KANG     -31658.377204\n",
       "town_SENGKANG          -32206.272552\n",
       "town_WOODLANDS         -36899.956301\n",
       "dtype: float64"
      ]
     },
     "execution_count": 33,
     "metadata": {},
     "output_type": "execute_result"
    }
   ],
   "source": [
    "pd.Series(lasso.coef_, index=X.columns).sort_values(ascending=False)"
   ]
  },
  {
   "cell_type": "markdown",
   "id": "6ee98da6",
   "metadata": {},
   "source": [
    "### *Regularisation Model: Ridge Regression*"
   ]
  },
  {
   "cell_type": "code",
   "execution_count": 34,
   "id": "35718c12",
   "metadata": {},
   "outputs": [],
   "source": [
    "ridge = RidgeCV(alphas=np.logspace(0.1,10,200))"
   ]
  },
  {
   "cell_type": "code",
   "execution_count": 35,
   "id": "60bea395",
   "metadata": {},
   "outputs": [
    {
     "data": {
      "text/plain": [
       "0.8226074266329448"
      ]
     },
     "execution_count": 35,
     "metadata": {},
     "output_type": "execute_result"
    }
   ],
   "source": [
    "#cross validation for r2 score\n",
    "ridge_score = cross_val_score(ridge, X_train_ss, y_train, cv=10)\n",
    "ridge_score.mean()"
   ]
  },
  {
   "cell_type": "code",
   "execution_count": 36,
   "id": "f272e613",
   "metadata": {},
   "outputs": [
    {
     "data": {
      "text/plain": [
       "-60330.199651028066"
      ]
     },
     "execution_count": 36,
     "metadata": {},
     "output_type": "execute_result"
    }
   ],
   "source": [
    "#cross validation for RMSE\n",
    "ridge_rmse = cross_val_score(ridge, X_train_ss, y_train, cv=10, scoring='neg_root_mean_squared_error')\n",
    "ridge_rmse.mean()"
   ]
  },
  {
   "cell_type": "code",
   "execution_count": 37,
   "id": "30600201",
   "metadata": {},
   "outputs": [
    {
     "data": {
      "text/plain": [
       "RidgeCV(alphas=array([1.25892541e+00, 1.41172057e+00, 1.58306041e+00, 1.77519568e+00,\n",
       "       1.99065031e+00, 2.23225456e+00, 2.50318220e+00, 2.80699220e+00,\n",
       "       3.14767547e+00, 3.52970730e+00, 3.95810615e+00, 4.43849956e+00,\n",
       "       4.97719808e+00, 5.58127817e+00, 6.25867517e+00, 7.01828751e+00,\n",
       "       7.87009364e+00, 8.82528305e+00, 9.89640333e+00, 1.10975250e+01,\n",
       "       1.24444261e+01, 1.39548000e+0...\n",
       "       7.17428945e+08, 8.04502945e+08, 9.02145074e+08, 1.01163798e+09,\n",
       "       1.13441999e+09, 1.27210398e+09, 1.42649862e+09, 1.59963206e+09,\n",
       "       1.79377862e+09, 2.01148866e+09, 2.25562205e+09, 2.52938580e+09,\n",
       "       2.83637611e+09, 3.18062569e+09, 3.56665668e+09, 3.99954005e+09,\n",
       "       4.48496227e+09, 5.02929995e+09, 5.63970362e+09, 6.32419169e+09,\n",
       "       7.09175574e+09, 7.95247866e+09, 8.91766711e+09, 1.00000000e+10]))"
      ]
     },
     "execution_count": 37,
     "metadata": {},
     "output_type": "execute_result"
    }
   ],
   "source": [
    "ridge.fit(X_train_ss, y_train)"
   ]
  },
  {
   "cell_type": "code",
   "execution_count": 38,
   "id": "4952dcdb",
   "metadata": {},
   "outputs": [
    {
     "data": {
      "text/plain": [
       "0.8227770583440377"
      ]
     },
     "execution_count": 38,
     "metadata": {},
     "output_type": "execute_result"
    }
   ],
   "source": [
    "#r2 score for X train and y train\n",
    "ridge.score(X_train_ss, y_train)"
   ]
  },
  {
   "cell_type": "code",
   "execution_count": 39,
   "id": "001c333d",
   "metadata": {},
   "outputs": [
    {
     "data": {
      "text/plain": [
       "0.8196432557804857"
      ]
     },
     "execution_count": 39,
     "metadata": {},
     "output_type": "execute_result"
    }
   ],
   "source": [
    "#r2 score for X val and y val\n",
    "ridge.score(X_val_ss, y_val)"
   ]
  },
  {
   "cell_type": "code",
   "execution_count": 40,
   "id": "b4aee9fe",
   "metadata": {},
   "outputs": [
    {
     "data": {
      "text/plain": [
       "60751.16140278053"
      ]
     },
     "execution_count": 40,
     "metadata": {},
     "output_type": "execute_result"
    }
   ],
   "source": [
    "ridge_pred = ridge.predict(X_val_ss)\n",
    "\n",
    "#RMSE score for ridge regression\n",
    "mean_squared_error(y_val, ridge_pred, squared=False)"
   ]
  },
  {
   "cell_type": "code",
   "execution_count": 41,
   "id": "f04f068a",
   "metadata": {},
   "outputs": [
    {
     "data": {
      "text/plain": [
       "floor_area_sqm          96009.269166\n",
       "lease_commence_date     38839.056490\n",
       "max_floor_lvl           22726.357456\n",
       "mid                     18596.943943\n",
       "town_BUKIT MERAH        14992.665900\n",
       "town_QUEENSTOWN         13313.129482\n",
       "town_BISHAN             10977.984339\n",
       "town_MARINE PARADE       9631.874432\n",
       "town_CENTRAL AREA        9290.898922\n",
       "town_BUKIT TIMAH         8895.281613\n",
       "exec_sold                8078.338039\n",
       "town_KALLANG/WHAMPOA     6873.817669\n",
       "town_CLEMENTI            5188.310144\n",
       "town_TOA PAYOH           4808.700187\n",
       "town_GEYLANG             4009.798965\n",
       "town_SERANGOON           -158.371342\n",
       "5room_sold              -2007.380461\n",
       "town_BEDOK              -3658.328004\n",
       "3room_sold              -5312.656380\n",
       "town_TAMPINES           -9810.660089\n",
       "town_JURONG EAST       -10057.814831\n",
       "town_BUKIT BATOK       -14898.878477\n",
       "town_HOUGANG           -15103.189348\n",
       "town_PASIR RIS         -17573.721872\n",
       "town_YISHUN            -22852.111141\n",
       "town_PUNGGOL           -24421.138984\n",
       "town_BUKIT PANJANG     -25756.345894\n",
       "town_SEMBAWANG         -26682.430773\n",
       "town_JURONG WEST       -31488.571096\n",
       "town_CHOA CHU KANG     -32618.537472\n",
       "town_SENGKANG          -33492.372694\n",
       "town_WOODLANDS         -38152.135321\n",
       "dtype: float64"
      ]
     },
     "execution_count": 41,
     "metadata": {},
     "output_type": "execute_result"
    }
   ],
   "source": [
    "#Coefficient weights for selected features passed into ridge regression\n",
    "pd.Series(ridge.coef_, index=X.columns).sort_values(ascending=False)"
   ]
  },
  {
   "cell_type": "code",
   "execution_count": 42,
   "id": "5e60e228",
   "metadata": {},
   "outputs": [
    {
     "data": {
      "text/plain": [
       "1.2589254117941673"
      ]
     },
     "execution_count": 42,
     "metadata": {},
     "output_type": "execute_result"
    }
   ],
   "source": [
    "ridge.alpha_"
   ]
  },
  {
   "cell_type": "markdown",
   "id": "18726754",
   "metadata": {},
   "source": [
    "### Model 1 Evaluation: Default features\n",
    "\n",
    "| **Model** | **R2 Train Score** | **R2 Test Score** | **RMSE** | **Features** |\n",
    "| --- | ---| ---| ---| ---|\n",
    "| Linear | 0.823 | 0.819 | 60756 | 32 |\n",
    "| Ridge | 0.823| 0.819 | 60751 | 32\n",
    "| Lasso | 0.820 | 0.820 | 60756 | 32 |"
   ]
  },
  {
   "cell_type": "markdown",
   "id": "044de6b3",
   "metadata": {},
   "source": [
    "- From the above table, we can observe that there is negligible difference in terms of root mean sqaure error (RMSE) between all 3 models just by passing in default features. We will be using the Ridge model with RMSE of 60751 as bench mark against our 2nd model, as the amount of residual errors can still be further reduced"
   ]
  },
  {
   "cell_type": "markdown",
   "id": "8e150c77",
   "metadata": {},
   "source": [
    "## Model 2: Default and Engineered features"
   ]
  },
  {
   "cell_type": "code",
   "execution_count": 43,
   "id": "767520c3",
   "metadata": {},
   "outputs": [],
   "source": [
    "ohe = pd.get_dummies(dummy1[['town', 'full_flat_type']], drop_first=True)\n",
    "df = pd.concat([dummy1, ohe], axis=1)\n",
    "df.drop(columns=['town', 'full_flat_type'], inplace=True)"
   ]
  },
  {
   "cell_type": "markdown",
   "id": "bce24ac1",
   "metadata": {},
   "source": [
    "### Data Modelling"
   ]
  },
  {
   "cell_type": "code",
   "execution_count": 44,
   "id": "d3e87a76",
   "metadata": {},
   "outputs": [],
   "source": [
    "X = df.drop(columns=['resale_price'])\n",
    "y = df['resale_price']"
   ]
  },
  {
   "cell_type": "code",
   "execution_count": 45,
   "id": "77a240d3",
   "metadata": {},
   "outputs": [],
   "source": [
    "X_train, X_test, y_train, y_test = train_test_split(X, y, random_state=42)"
   ]
  },
  {
   "cell_type": "code",
   "execution_count": 46,
   "id": "74e8ed53",
   "metadata": {},
   "outputs": [],
   "source": [
    "#perform scaling for ridge and lasso regularization\n",
    "ss = StandardScaler()\n",
    "X_train_ss = ss.fit_transform(X_train)\n",
    "X_test_ss = ss.fit_transform(X_test)"
   ]
  },
  {
   "cell_type": "markdown",
   "id": "3c67ccac",
   "metadata": {},
   "source": [
    "### *Model: Linear Regression*"
   ]
  },
  {
   "cell_type": "code",
   "execution_count": 47,
   "id": "a2a9b574",
   "metadata": {},
   "outputs": [],
   "source": [
    "lr = LinearRegression()"
   ]
  },
  {
   "cell_type": "code",
   "execution_count": 48,
   "id": "c0b0c560",
   "metadata": {},
   "outputs": [
    {
     "data": {
      "text/plain": [
       "-5.651043048708932e+22"
      ]
     },
     "execution_count": 48,
     "metadata": {},
     "output_type": "execute_result"
    }
   ],
   "source": [
    "#cross validation for r2 score\n",
    "lr_score = cross_val_score(lr, X_train_ss, y_train, cv=5)\n",
    "lr_score.mean()"
   ]
  },
  {
   "cell_type": "code",
   "execution_count": 49,
   "id": "1024676a",
   "metadata": {},
   "outputs": [
    {
     "data": {
      "text/plain": [
       "-1.5274469229002186e+16"
      ]
     },
     "execution_count": 49,
     "metadata": {},
     "output_type": "execute_result"
    }
   ],
   "source": [
    "#cross validation for RMSE\n",
    "lr_rmse = cross_val_score(lr, X_train_ss, y_train, cv=5, scoring='neg_root_mean_squared_error')\n",
    "lr_rmse.mean()"
   ]
  },
  {
   "cell_type": "code",
   "execution_count": 50,
   "id": "73119e34",
   "metadata": {},
   "outputs": [
    {
     "data": {
      "text/plain": [
       "LinearRegression()"
      ]
     },
     "execution_count": 50,
     "metadata": {},
     "output_type": "execute_result"
    }
   ],
   "source": [
    "lr.fit(X_train_ss, y_train)"
   ]
  },
  {
   "cell_type": "code",
   "execution_count": 51,
   "id": "0ca79e57",
   "metadata": {},
   "outputs": [
    {
     "data": {
      "text/plain": [
       "0.8843420688220129"
      ]
     },
     "execution_count": 51,
     "metadata": {},
     "output_type": "execute_result"
    }
   ],
   "source": [
    "#r2 score for X train and y train\n",
    "lr.score(X_train_ss, y_train)"
   ]
  },
  {
   "cell_type": "code",
   "execution_count": 52,
   "id": "ffc75b82",
   "metadata": {},
   "outputs": [
    {
     "data": {
      "text/plain": [
       "-7.025033160343851e+16"
      ]
     },
     "execution_count": 52,
     "metadata": {},
     "output_type": "execute_result"
    }
   ],
   "source": [
    "#r2 score for X test and y test\n",
    "lr.score(X_test_ss, y_test)"
   ]
  },
  {
   "cell_type": "code",
   "execution_count": 53,
   "id": "7607646b",
   "metadata": {},
   "outputs": [
    {
     "data": {
      "text/plain": [
       "37915132739986.88"
      ]
     },
     "execution_count": 53,
     "metadata": {},
     "output_type": "execute_result"
    }
   ],
   "source": [
    "#RMSE of Linear regression predict on test set\n",
    "lr_pred = lr.predict(X_test_ss)\n",
    "mean_squared_error(y_test, lr_pred, squared=False)"
   ]
  },
  {
   "cell_type": "code",
   "execution_count": 54,
   "id": "4ed40f0a",
   "metadata": {},
   "outputs": [
    {
     "data": {
      "text/plain": [
       "448793.0834424545"
      ]
     },
     "execution_count": 54,
     "metadata": {},
     "output_type": "execute_result"
    }
   ],
   "source": [
    "lr.intercept_"
   ]
  },
  {
   "cell_type": "code",
   "execution_count": 55,
   "id": "5f08afd7",
   "metadata": {},
   "outputs": [
    {
     "data": {
      "text/plain": [
       "Mature_Estate              1.942000e+15\n",
       "town_JURONG WEST           1.038629e+15\n",
       "town_WOODLANDS             1.032330e+15\n",
       "town_SENGKANG              1.016202e+15\n",
       "town_YISHUN                9.775678e+14\n",
       "                               ...     \n",
       "Mall_Nearest_Distance     -5.408312e+03\n",
       "town_TAMPINES             -7.211875e+03\n",
       "town_PASIR RIS            -9.696781e+03\n",
       "Hawker_Nearest_Distance   -1.868659e+04\n",
       "public_tpt_dist           -2.339299e+04\n",
       "Length: 82, dtype: float64"
      ]
     },
     "execution_count": 55,
     "metadata": {},
     "output_type": "execute_result"
    }
   ],
   "source": [
    "pd.Series(lr.coef_, index=X.columns).sort_values(ascending=False)"
   ]
  },
  {
   "cell_type": "markdown",
   "id": "355de183",
   "metadata": {},
   "source": [
    "### *Regularisation Model: Lasso Regression*"
   ]
  },
  {
   "cell_type": "code",
   "execution_count": 56,
   "id": "17c56af0",
   "metadata": {},
   "outputs": [],
   "source": [
    "#perform scaling for ridge and lasso regularization\n",
    "ss = StandardScaler()\n",
    "X_train_ss = ss.fit_transform(X_train)\n",
    "X_test_ss = ss.fit_transform(X_test)"
   ]
  },
  {
   "cell_type": "code",
   "execution_count": 57,
   "id": "7cac8dc1",
   "metadata": {},
   "outputs": [],
   "source": [
    "lasso = LassoCV(n_alphas=200)"
   ]
  },
  {
   "cell_type": "code",
   "execution_count": 58,
   "id": "8470c6db",
   "metadata": {},
   "outputs": [
    {
     "data": {
      "text/plain": [
       "0.8840255630258019"
      ]
     },
     "execution_count": 58,
     "metadata": {},
     "output_type": "execute_result"
    }
   ],
   "source": [
    "#cross validation for r2 score\n",
    "lasso_score = cross_val_score(lasso, X_train_ss, y_train, cv=10)\n",
    "lasso_score.mean()"
   ]
  },
  {
   "cell_type": "code",
   "execution_count": 59,
   "id": "3b2e810f",
   "metadata": {},
   "outputs": [
    {
     "data": {
      "text/plain": [
       "-48780.77329777597"
      ]
     },
     "execution_count": 59,
     "metadata": {},
     "output_type": "execute_result"
    }
   ],
   "source": [
    "#cross validation for RMSE\n",
    "lasso_rmse = cross_val_score(lasso, X_train_ss, y_train, cv=10, scoring='neg_root_mean_squared_error')\n",
    "lasso_rmse.mean()"
   ]
  },
  {
   "cell_type": "code",
   "execution_count": 60,
   "id": "7fe879cf",
   "metadata": {},
   "outputs": [
    {
     "data": {
      "text/plain": [
       "LassoCV(n_alphas=200)"
      ]
     },
     "execution_count": 60,
     "metadata": {},
     "output_type": "execute_result"
    }
   ],
   "source": [
    "lasso.fit(X_train_ss, y_train)"
   ]
  },
  {
   "cell_type": "code",
   "execution_count": 61,
   "id": "20e29cbf",
   "metadata": {},
   "outputs": [
    {
     "data": {
      "text/plain": [
       "0.8842725101127882"
      ]
     },
     "execution_count": 61,
     "metadata": {},
     "output_type": "execute_result"
    }
   ],
   "source": [
    "#r2 score for X train and y train\n",
    "lasso.score(X_train_ss, y_train)"
   ]
  },
  {
   "cell_type": "code",
   "execution_count": 62,
   "id": "3b9f01f7",
   "metadata": {},
   "outputs": [
    {
     "data": {
      "text/plain": [
       "0.8816887316672453"
      ]
     },
     "execution_count": 62,
     "metadata": {},
     "output_type": "execute_result"
    }
   ],
   "source": [
    "#r2 score for X val and y val\n",
    "lasso.score(X_test_ss, y_test)"
   ]
  },
  {
   "cell_type": "code",
   "execution_count": 63,
   "id": "5f71f4f7",
   "metadata": {},
   "outputs": [
    {
     "data": {
      "text/plain": [
       "48737.202241862884"
      ]
     },
     "execution_count": 63,
     "metadata": {},
     "output_type": "execute_result"
    }
   ],
   "source": [
    "#RMSE of Lasso Regularization predict on test set\n",
    "lasso_pred = lasso.predict(X_train_ss)\n",
    "mean_squared_error(y_train, lasso_pred, squared=False)"
   ]
  },
  {
   "cell_type": "code",
   "execution_count": 64,
   "id": "1e3b4418",
   "metadata": {},
   "outputs": [
    {
     "data": {
      "text/plain": [
       "94.04918109526236"
      ]
     },
     "execution_count": 64,
     "metadata": {},
     "output_type": "execute_result"
    }
   ],
   "source": [
    "lasso.alpha_"
   ]
  },
  {
   "cell_type": "code",
   "execution_count": 65,
   "id": "fb4d6d1a",
   "metadata": {},
   "outputs": [
    {
     "data": {
      "text/plain": [
       "floor_area_sqm             89073.121327\n",
       "remaining_lease            49120.271427\n",
       "Mature_Estate              37722.832553\n",
       "max_floor_lvl              20192.324895\n",
       "storey_range               18396.429381\n",
       "                               ...     \n",
       "town_SEMBAWANG             -9559.972326\n",
       "town_PASIR RIS             -9672.783668\n",
       "town_WOODLANDS            -16750.729106\n",
       "Hawker_Nearest_Distance   -18255.611604\n",
       "public_tpt_dist           -23345.823193\n",
       "Length: 82, dtype: float64"
      ]
     },
     "execution_count": 65,
     "metadata": {},
     "output_type": "execute_result"
    }
   ],
   "source": [
    "pd.Series(lasso.coef_, index=X.columns).sort_values(ascending=False)"
   ]
  },
  {
   "cell_type": "markdown",
   "id": "0bc8c8a3",
   "metadata": {},
   "source": [
    "### *Regularisation Model: Ridge Regression*"
   ]
  },
  {
   "cell_type": "code",
   "execution_count": 66,
   "id": "892edb91",
   "metadata": {},
   "outputs": [],
   "source": [
    "ridge = RidgeCV(alphas=np.logspace(0.1,10,200))"
   ]
  },
  {
   "cell_type": "code",
   "execution_count": 67,
   "id": "bd104a81",
   "metadata": {},
   "outputs": [
    {
     "data": {
      "text/plain": [
       "0.8840806989298912"
      ]
     },
     "execution_count": 67,
     "metadata": {},
     "output_type": "execute_result"
    }
   ],
   "source": [
    "#cross validation for r2 score\n",
    "ridge_score = cross_val_score(ridge, X_train_ss, y_train, cv=10)\n",
    "ridge_score.mean()"
   ]
  },
  {
   "cell_type": "code",
   "execution_count": 68,
   "id": "bb6e5db3",
   "metadata": {},
   "outputs": [
    {
     "data": {
      "text/plain": [
       "-48769.0269070464"
      ]
     },
     "execution_count": 68,
     "metadata": {},
     "output_type": "execute_result"
    }
   ],
   "source": [
    "#cross validation for RMSE\n",
    "ridge_rmse = cross_val_score(ridge, X_train_ss, y_train, cv=10, scoring='neg_root_mean_squared_error')\n",
    "ridge_rmse.mean()"
   ]
  },
  {
   "cell_type": "code",
   "execution_count": 69,
   "id": "55c09a95",
   "metadata": {},
   "outputs": [
    {
     "data": {
      "text/plain": [
       "RidgeCV(alphas=array([1.25892541e+00, 1.41172057e+00, 1.58306041e+00, 1.77519568e+00,\n",
       "       1.99065031e+00, 2.23225456e+00, 2.50318220e+00, 2.80699220e+00,\n",
       "       3.14767547e+00, 3.52970730e+00, 3.95810615e+00, 4.43849956e+00,\n",
       "       4.97719808e+00, 5.58127817e+00, 6.25867517e+00, 7.01828751e+00,\n",
       "       7.87009364e+00, 8.82528305e+00, 9.89640333e+00, 1.10975250e+01,\n",
       "       1.24444261e+01, 1.39548000e+0...\n",
       "       7.17428945e+08, 8.04502945e+08, 9.02145074e+08, 1.01163798e+09,\n",
       "       1.13441999e+09, 1.27210398e+09, 1.42649862e+09, 1.59963206e+09,\n",
       "       1.79377862e+09, 2.01148866e+09, 2.25562205e+09, 2.52938580e+09,\n",
       "       2.83637611e+09, 3.18062569e+09, 3.56665668e+09, 3.99954005e+09,\n",
       "       4.48496227e+09, 5.02929995e+09, 5.63970362e+09, 6.32419169e+09,\n",
       "       7.09175574e+09, 7.95247866e+09, 8.91766711e+09, 1.00000000e+10]))"
      ]
     },
     "execution_count": 69,
     "metadata": {},
     "output_type": "execute_result"
    }
   ],
   "source": [
    "ridge.fit(X_train_ss, y_train)"
   ]
  },
  {
   "cell_type": "code",
   "execution_count": 70,
   "id": "be6f8519",
   "metadata": {},
   "outputs": [
    {
     "data": {
      "text/plain": [
       "0.8843421141963289"
      ]
     },
     "execution_count": 70,
     "metadata": {},
     "output_type": "execute_result"
    }
   ],
   "source": [
    "#r2 score for X train and y train\n",
    "ridge.score(X_train_ss, y_train)"
   ]
  },
  {
   "cell_type": "code",
   "execution_count": 71,
   "id": "cb3cd08c",
   "metadata": {},
   "outputs": [
    {
     "data": {
      "text/plain": [
       "0.8817160766152916"
      ]
     },
     "execution_count": 71,
     "metadata": {},
     "output_type": "execute_result"
    }
   ],
   "source": [
    "#r2 score for X val and y val\n",
    "ridge.score(X_test_ss, y_test)"
   ]
  },
  {
   "cell_type": "code",
   "execution_count": 72,
   "id": "6be30a6a",
   "metadata": {},
   "outputs": [
    {
     "data": {
      "text/plain": [
       "48722.54358760745"
      ]
     },
     "execution_count": 72,
     "metadata": {},
     "output_type": "execute_result"
    }
   ],
   "source": [
    "ridge_pred = ridge.predict(X_train_ss)\n",
    "\n",
    "#RMSE score for ridge regression\n",
    "mean_squared_error(y_train, ridge_pred, squared=False)"
   ]
  },
  {
   "cell_type": "code",
   "execution_count": 73,
   "id": "a8d5ba9c",
   "metadata": {},
   "outputs": [
    {
     "data": {
      "text/plain": [
       "floor_area_sqm             86868.788110\n",
       "remaining_lease            49035.180191\n",
       "Mature_Estate              28389.241310\n",
       "max_floor_lvl              19892.040290\n",
       "storey_range               18448.085542\n",
       "                               ...     \n",
       "town_CHOA CHU KANG         -9858.051717\n",
       "town_SEMBAWANG            -12486.739296\n",
       "Hawker_Nearest_Distance   -18686.597330\n",
       "town_WOODLANDS            -21669.699445\n",
       "public_tpt_dist           -23392.540340\n",
       "Length: 82, dtype: float64"
      ]
     },
     "execution_count": 73,
     "metadata": {},
     "output_type": "execute_result"
    }
   ],
   "source": [
    "#Coefficient weights for selected features passed into ridge regression\n",
    "pd.Series(ridge.coef_, index=X.columns).sort_values(ascending=False)"
   ]
  },
  {
   "cell_type": "code",
   "execution_count": 74,
   "id": "b9d989e1",
   "metadata": {},
   "outputs": [
    {
     "data": {
      "text/plain": [
       "1.7751956750997056"
      ]
     },
     "execution_count": 74,
     "metadata": {},
     "output_type": "execute_result"
    }
   ],
   "source": [
    "ridge.alpha_"
   ]
  },
  {
   "cell_type": "markdown",
   "id": "1034e60e",
   "metadata": {},
   "source": [
    "## Model 2 Evaluation: Default + Feature engineering\n",
    "\n",
    "\n",
    "**Before implementing new features**:\n",
    "\n",
    "| **Model** | **R2 Train Score** | **R2 Test Score** | **RMSE** | **Features** |\n",
    "| --- | ---| ---| ---| ---|\n",
    "| Linear | 0.823 | 0.819 | 60756 | 32 |\n",
    "| Ridge | 0.823| 0.819 | 60751 | 32\n",
    "| Lasso | 0.820 | 0.820 | 60756 | 32 |\n",
    "\n",
    "\n",
    "\n",
    "\n",
    "\n",
    "\n",
    "**After implementing new features**:\n",
    "\n",
    "\n",
    "| **Model** | **R2 Train Score** | **R2 Test Score** | **RMSE** | **Features** |\n",
    "| --- | ---| ---| ---| ---|\n",
    "| Linear | 0.884 | -7.03e+16 | 37915132739986 | 68 |\n",
    "| Ridge | 0.884| 0.882 | 48722 | 68\n",
    "| Lasso | 0.884 | 0.882 | 48737 | 68 |"
   ]
  },
  {
   "cell_type": "markdown",
   "id": "b865b597",
   "metadata": {},
   "source": [
    "- By comparing the RMSE scores from the above 2 tables, we can see that the linear regression model is overfitting upon doubling the number of features by approximately twice the original amount. Instead, the ridge and lasso regression did a good job in helping to shrink/zero out features that will not be useful to our linear regression model. We have successfully managed to reduce the RMSE by approximately **SGD12000** in value on our model"
   ]
  },
  {
   "cell_type": "code",
   "execution_count": 75,
   "id": "fbc45aba",
   "metadata": {},
   "outputs": [
    {
     "data": {
      "text/html": [
       "<div>\n",
       "<style scoped>\n",
       "    .dataframe tbody tr th:only-of-type {\n",
       "        vertical-align: middle;\n",
       "    }\n",
       "\n",
       "    .dataframe tbody tr th {\n",
       "        vertical-align: top;\n",
       "    }\n",
       "\n",
       "    .dataframe thead th {\n",
       "        text-align: right;\n",
       "    }\n",
       "</style>\n",
       "<table border=\"1\" class=\"dataframe\">\n",
       "  <thead>\n",
       "    <tr style=\"text-align: right;\">\n",
       "      <th></th>\n",
       "      <th>Col1</th>\n",
       "      <th>Col2</th>\n",
       "    </tr>\n",
       "  </thead>\n",
       "  <tbody>\n",
       "    <tr>\n",
       "      <th>3</th>\n",
       "      <td>89073.121327</td>\n",
       "      <td>floor_area_sqm</td>\n",
       "    </tr>\n",
       "    <tr>\n",
       "      <th>0</th>\n",
       "      <td>49120.271427</td>\n",
       "      <td>remaining_lease</td>\n",
       "    </tr>\n",
       "    <tr>\n",
       "      <th>7</th>\n",
       "      <td>37722.832553</td>\n",
       "      <td>Mature_Estate</td>\n",
       "    </tr>\n",
       "    <tr>\n",
       "      <th>1</th>\n",
       "      <td>20192.324895</td>\n",
       "      <td>max_floor_lvl</td>\n",
       "    </tr>\n",
       "    <tr>\n",
       "      <th>4</th>\n",
       "      <td>18396.429381</td>\n",
       "      <td>storey_range</td>\n",
       "    </tr>\n",
       "    <tr>\n",
       "      <th>29</th>\n",
       "      <td>15224.162957</td>\n",
       "      <td>town_MARINE PARADE</td>\n",
       "    </tr>\n",
       "    <tr>\n",
       "      <th>16</th>\n",
       "      <td>12987.301798</td>\n",
       "      <td>town_BISHAN</td>\n",
       "    </tr>\n",
       "    <tr>\n",
       "      <th>18</th>\n",
       "      <td>12429.712315</td>\n",
       "      <td>town_BUKIT MERAH</td>\n",
       "    </tr>\n",
       "    <tr>\n",
       "      <th>78</th>\n",
       "      <td>12155.767254</td>\n",
       "      <td>full_flat_type_EXECUTIVE Maisonette</td>\n",
       "    </tr>\n",
       "    <tr>\n",
       "      <th>32</th>\n",
       "      <td>11980.273831</td>\n",
       "      <td>town_QUEENSTOWN</td>\n",
       "    </tr>\n",
       "    <tr>\n",
       "      <th>67</th>\n",
       "      <td>10350.638568</td>\n",
       "      <td>full_flat_type_5 ROOM DBSS</td>\n",
       "    </tr>\n",
       "    <tr>\n",
       "      <th>53</th>\n",
       "      <td>9293.324044</td>\n",
       "      <td>full_flat_type_3 ROOM Terrace</td>\n",
       "    </tr>\n",
       "    <tr>\n",
       "      <th>31</th>\n",
       "      <td>8534.083152</td>\n",
       "      <td>town_PUNGGOL</td>\n",
       "    </tr>\n",
       "    <tr>\n",
       "      <th>20</th>\n",
       "      <td>8480.456333</td>\n",
       "      <td>town_BUKIT TIMAH</td>\n",
       "    </tr>\n",
       "    <tr>\n",
       "      <th>9</th>\n",
       "      <td>7261.780560</td>\n",
       "      <td>amenities_within_2km</td>\n",
       "    </tr>\n",
       "  </tbody>\n",
       "</table>\n",
       "</div>"
      ],
      "text/plain": [
       "            Col1                                 Col2\n",
       "3   89073.121327                       floor_area_sqm\n",
       "0   49120.271427                      remaining_lease\n",
       "7   37722.832553                        Mature_Estate\n",
       "1   20192.324895                        max_floor_lvl\n",
       "4   18396.429381                         storey_range\n",
       "29  15224.162957                   town_MARINE PARADE\n",
       "16  12987.301798                          town_BISHAN\n",
       "18  12429.712315                     town_BUKIT MERAH\n",
       "78  12155.767254  full_flat_type_EXECUTIVE Maisonette\n",
       "32  11980.273831                      town_QUEENSTOWN\n",
       "67  10350.638568           full_flat_type_5 ROOM DBSS\n",
       "53   9293.324044        full_flat_type_3 ROOM Terrace\n",
       "31   8534.083152                         town_PUNGGOL\n",
       "20   8480.456333                     town_BUKIT TIMAH\n",
       "9    7261.780560                 amenities_within_2km"
      ]
     },
     "execution_count": 75,
     "metadata": {},
     "output_type": "execute_result"
    }
   ],
   "source": [
    "#Rank top 10 positive coefficient features\n",
    "df0 = pd.DataFrame({'Col1': lasso.coef_, 'Col2': X.columns})\n",
    "df0.sort_values(by='Col1', ascending=False).head(15)"
   ]
  },
  {
   "cell_type": "code",
   "execution_count": 76,
   "id": "119b95b3",
   "metadata": {},
   "outputs": [
    {
     "data": {
      "text/html": [
       "<div>\n",
       "<style scoped>\n",
       "    .dataframe tbody tr th:only-of-type {\n",
       "        vertical-align: middle;\n",
       "    }\n",
       "\n",
       "    .dataframe tbody tr th {\n",
       "        vertical-align: top;\n",
       "    }\n",
       "\n",
       "    .dataframe thead th {\n",
       "        text-align: right;\n",
       "    }\n",
       "</style>\n",
       "<table border=\"1\" class=\"dataframe\">\n",
       "  <thead>\n",
       "    <tr style=\"text-align: right;\">\n",
       "      <th></th>\n",
       "      <th>Col1</th>\n",
       "      <th>Col2</th>\n",
       "    </tr>\n",
       "  </thead>\n",
       "  <tbody>\n",
       "    <tr>\n",
       "      <th>15</th>\n",
       "      <td>-3646.485228</td>\n",
       "      <td>town_BEDOK</td>\n",
       "    </tr>\n",
       "    <tr>\n",
       "      <th>14</th>\n",
       "      <td>-3782.376343</td>\n",
       "      <td>2room_sold</td>\n",
       "    </tr>\n",
       "    <tr>\n",
       "      <th>5</th>\n",
       "      <td>-3825.554912</td>\n",
       "      <td>5room_sold</td>\n",
       "    </tr>\n",
       "    <tr>\n",
       "      <th>13</th>\n",
       "      <td>-3957.220410</td>\n",
       "      <td>total_dwelling_units</td>\n",
       "    </tr>\n",
       "    <tr>\n",
       "      <th>27</th>\n",
       "      <td>-4381.771796</td>\n",
       "      <td>town_JURONG WEST</td>\n",
       "    </tr>\n",
       "    <tr>\n",
       "      <th>10</th>\n",
       "      <td>-5153.776410</td>\n",
       "      <td>Mall_Nearest_Distance</td>\n",
       "    </tr>\n",
       "    <tr>\n",
       "      <th>19</th>\n",
       "      <td>-5629.483500</td>\n",
       "      <td>town_BUKIT PANJANG</td>\n",
       "    </tr>\n",
       "    <tr>\n",
       "      <th>22</th>\n",
       "      <td>-6306.874572</td>\n",
       "      <td>town_CHOA CHU KANG</td>\n",
       "    </tr>\n",
       "    <tr>\n",
       "      <th>57</th>\n",
       "      <td>-6505.949556</td>\n",
       "      <td>full_flat_type_4 ROOM Model A</td>\n",
       "    </tr>\n",
       "    <tr>\n",
       "      <th>36</th>\n",
       "      <td>-7324.968742</td>\n",
       "      <td>town_TAMPINES</td>\n",
       "    </tr>\n",
       "    <tr>\n",
       "      <th>33</th>\n",
       "      <td>-9559.972326</td>\n",
       "      <td>town_SEMBAWANG</td>\n",
       "    </tr>\n",
       "    <tr>\n",
       "      <th>30</th>\n",
       "      <td>-9672.783668</td>\n",
       "      <td>town_PASIR RIS</td>\n",
       "    </tr>\n",
       "    <tr>\n",
       "      <th>38</th>\n",
       "      <td>-16750.729106</td>\n",
       "      <td>town_WOODLANDS</td>\n",
       "    </tr>\n",
       "    <tr>\n",
       "      <th>11</th>\n",
       "      <td>-18255.611604</td>\n",
       "      <td>Hawker_Nearest_Distance</td>\n",
       "    </tr>\n",
       "    <tr>\n",
       "      <th>8</th>\n",
       "      <td>-23345.823193</td>\n",
       "      <td>public_tpt_dist</td>\n",
       "    </tr>\n",
       "  </tbody>\n",
       "</table>\n",
       "</div>"
      ],
      "text/plain": [
       "            Col1                           Col2\n",
       "15  -3646.485228                     town_BEDOK\n",
       "14  -3782.376343                     2room_sold\n",
       "5   -3825.554912                     5room_sold\n",
       "13  -3957.220410           total_dwelling_units\n",
       "27  -4381.771796               town_JURONG WEST\n",
       "10  -5153.776410          Mall_Nearest_Distance\n",
       "19  -5629.483500             town_BUKIT PANJANG\n",
       "22  -6306.874572             town_CHOA CHU KANG\n",
       "57  -6505.949556  full_flat_type_4 ROOM Model A\n",
       "36  -7324.968742                  town_TAMPINES\n",
       "33  -9559.972326                 town_SEMBAWANG\n",
       "30  -9672.783668                 town_PASIR RIS\n",
       "38 -16750.729106                 town_WOODLANDS\n",
       "11 -18255.611604        Hawker_Nearest_Distance\n",
       "8  -23345.823193                public_tpt_dist"
      ]
     },
     "execution_count": 76,
     "metadata": {},
     "output_type": "execute_result"
    }
   ],
   "source": [
    "#Rank top 10 negative coefficient features\n",
    "df0.sort_values(by='Col1', ascending=False).tail(15)"
   ]
  },
  {
   "cell_type": "code",
   "execution_count": 77,
   "id": "a473ee77",
   "metadata": {},
   "outputs": [],
   "source": [
    "#combine both top10 positive and negative coefficient features\n",
    "df0 = pd.concat([df0.sort_values(by='Col1', ascending=False).head(15), \n",
    "                 df0.sort_values(by='Col1', ascending=False).tail(15)], axis=0)\n",
    "features = [i for i in df0['Col2']]"
   ]
  },
  {
   "cell_type": "code",
   "execution_count": 78,
   "id": "c27d10b3",
   "metadata": {},
   "outputs": [],
   "source": [
    "new_df = df[features]"
   ]
  },
  {
   "cell_type": "code",
   "execution_count": 80,
   "id": "4a436251",
   "metadata": {},
   "outputs": [
    {
     "data": {
      "image/png": "[encoded data removed]",
      "text/plain": [
       "<Figure size 1080x1080 with 2 Axes>"
      ]
     },
     "metadata": {
      "needs_background": "light"
     },
     "output_type": "display_data"
    }
   ],
   "source": [
    "matrix = np.triu(new_df.corr())\n",
    "\n",
    "plt.figure(figsize=(15, 15))\n",
    "sns.heatmap(new_df.corr(), annot=True, cmap='coolwarm', mask=matrix)\n",
    "plt.title('Heat Map of Final Selected Features',size=20, fontweight=\"bold\")\n",
    "plt.show()"
   ]
  },
  {
   "cell_type": "markdown",
   "id": "9c9b836e",
   "metadata": {},
   "source": [
    "- By setting our multicolinearity threshold to 0.7 higher, we observed that the selected features to be passed in for prediction have correlation values of less than 0.7. From this, we can sfaely conclude that these features can be used our predictions in the final Linear Regression model"
   ]
  },
  {
   "cell_type": "markdown",
   "id": "764ccec4",
   "metadata": {},
   "source": [
    "## Final Model (Linear Regression)"
   ]
  },
  {
   "cell_type": "code",
   "execution_count": 81,
   "id": "5d383a8a",
   "metadata": {},
   "outputs": [],
   "source": [
    "X1 = df[features]\n",
    "y1 = df['resale_price']"
   ]
  },
  {
   "cell_type": "code",
   "execution_count": 82,
   "id": "cba7bcf2",
   "metadata": {},
   "outputs": [],
   "source": [
    "X1_train, X1_test, y1_train, y1_test = train_test_split(X1, y1, random_state=42)"
   ]
  },
  {
   "cell_type": "code",
   "execution_count": 83,
   "id": "e581846d",
   "metadata": {},
   "outputs": [],
   "source": [
    "ss = StandardScaler()\n",
    "X1_train_ss = ss.fit_transform(X1_train)\n",
    "X1_test_ss = ss.fit_transform(X1_test)"
   ]
  },
  {
   "cell_type": "code",
   "execution_count": 84,
   "id": "aeb91ab4",
   "metadata": {},
   "outputs": [
    {
     "data": {
      "text/plain": [
       "LinearRegression()"
      ]
     },
     "execution_count": 84,
     "metadata": {},
     "output_type": "execute_result"
    }
   ],
   "source": [
    "lr.fit(X1_train_ss, y1_train)"
   ]
  },
  {
   "cell_type": "code",
   "execution_count": 85,
   "id": "66df2c46",
   "metadata": {},
   "outputs": [
    {
     "data": {
      "text/plain": [
       "0.8717257284282156"
      ]
     },
     "execution_count": 85,
     "metadata": {},
     "output_type": "execute_result"
    }
   ],
   "source": [
    "# R2 score of train x and train y\n",
    "lr.score(X1_train_ss, y1_train)"
   ]
  },
  {
   "cell_type": "code",
   "execution_count": 86,
   "id": "194260eb",
   "metadata": {},
   "outputs": [
    {
     "data": {
      "text/plain": [
       "0.8688029158812944"
      ]
     },
     "execution_count": 86,
     "metadata": {},
     "output_type": "execute_result"
    }
   ],
   "source": [
    "# R2 score of train x and train y\n",
    "lr.score(X1_test_ss, y1_test)"
   ]
  },
  {
   "cell_type": "code",
   "execution_count": 87,
   "id": "135e3fb2",
   "metadata": {},
   "outputs": [
    {
     "data": {
      "text/plain": [
       "51814.40112621594"
      ]
     },
     "execution_count": 87,
     "metadata": {},
     "output_type": "execute_result"
    }
   ],
   "source": [
    "#predict and score the RMSE\n",
    "lr_pred = lr.predict(X1_test_ss)\n",
    "mean_squared_error(y1_test, lr_pred, squared=False)"
   ]
  },
  {
   "cell_type": "code",
   "execution_count": 88,
   "id": "e0bf08bc",
   "metadata": {},
   "outputs": [
    {
     "data": {
      "text/plain": [
       "floor_area_sqm                         96373.784041\n",
       "remaining_lease                        45978.927121\n",
       "Mature_Estate                          40031.940183\n",
       "max_floor_lvl                          26808.980845\n",
       "storey_range                           18447.347585\n",
       "town_MARINE PARADE                     14013.295687\n",
       "town_BISHAN                            10197.545509\n",
       "full_flat_type_5 ROOM DBSS              9524.298831\n",
       "full_flat_type_3 ROOM Terrace           9267.150492\n",
       "town_BUKIT MERAH                        8492.693198\n",
       "full_flat_type_EXECUTIVE Maisonette     7997.952733\n",
       "town_QUEENSTOWN                         7910.656010\n",
       "town_BUKIT TIMAH                        7337.926489\n",
       "town_PUNGGOL                            7289.207473\n",
       "amenities_within_2km                    4968.143368\n",
       "2room_sold                             -3740.980812\n",
       "Mall_Nearest_Distance                  -4298.648814\n",
       "5room_sold                             -5715.228838\n",
       "total_dwelling_units                   -6694.764972\n",
       "full_flat_type_4 ROOM Model A          -7631.430297\n",
       "town_BEDOK                             -7847.717348\n",
       "town_JURONG WEST                       -8545.169608\n",
       "town_CHOA CHU KANG                     -8547.850371\n",
       "town_BUKIT PANJANG                     -9042.644314\n",
       "town_SEMBAWANG                        -11738.671098\n",
       "town_TAMPINES                         -12250.872366\n",
       "town_PASIR RIS                        -13243.135839\n",
       "town_WOODLANDS                        -20949.511281\n",
       "Hawker_Nearest_Distance               -21424.127299\n",
       "public_tpt_dist                       -24658.838828\n",
       "dtype: float64"
      ]
     },
     "execution_count": 88,
     "metadata": {},
     "output_type": "execute_result"
    }
   ],
   "source": [
    "pd.Series(lr.coef_, index=X1.columns).sort_values(ascending=False)"
   ]
  },
  {
   "cell_type": "markdown",
   "id": "5d3fda5f",
   "metadata": {},
   "source": [
    "## Final Model for Predictions\n",
    "\n",
    "\n",
    "| **Model** | **R2 Train Score** | **R2 Test Score** | **RMSE** | **Features** |\n",
    "| --- | ---| ---| ---| ---|\n",
    "| Linear (final) | 0.871 | 0.869 | 51814 | 30 |\n",
    "| Ridge (benchmark) | 0.823 | 0.819 | 60751 | 32 |"
   ]
  },
  {
   "cell_type": "markdown",
   "id": "f3e584c7",
   "metadata": {},
   "source": [
    "The final model that we will be passing in for predictions will consist of the top 30 features among the previously generated 68 features. We have successfully obtained a reduction of approx 9000 in RMSE by maintaining a relatively same amount of features that was passed into the benchmark model previously"
   ]
  },
  {
   "cell_type": "code",
   "execution_count": 89,
   "id": "0d1f18a2",
   "metadata": {},
   "outputs": [],
   "source": [
    "residual = lr_pred - y1_test"
   ]
  },
  {
   "cell_type": "code",
   "execution_count": 90,
   "id": "f16363de",
   "metadata": {},
   "outputs": [
    {
     "data": {
      "image/png": "[encoded data removed]",
      "text/plain": [
       "<Figure size 432x360 with 1 Axes>"
      ]
     },
     "metadata": {
      "needs_background": "light"
     },
     "output_type": "display_data"
    }
   ],
   "source": [
    "# figure size\n",
    "plt.figure(figsize=(6,5))\n",
    "\n",
    "# plot scatterplot\n",
    "plt.scatter(lr_pred, residual);\n",
    "\n",
    "plt.xlabel('Predicted Value')\n",
    "plt.ylabel('Residuals')\n",
    "plt.title('Scatter Plot of Predicted Values vs Residuals', fontweight='bold')\n",
    "plt.axhline(0, color='red', linestyle='--')\n",
    "plt.show()"
   ]
  },
  {
   "cell_type": "markdown",
   "id": "ea554331",
   "metadata": {},
   "source": [
    "From the above residual plot, we can safely conclude that the predicted data is homoscedastic with no huge variances in its distribution"
   ]
  },
  {
   "cell_type": "code",
   "execution_count": 91,
   "id": "6197550d",
   "metadata": {},
   "outputs": [
    {
     "data": {
      "image/png": "[encoded data removed]",
      "text/plain": [
       "<Figure size 432x288 with 1 Axes>"
      ]
     },
     "metadata": {
      "needs_background": "light"
     },
     "output_type": "display_data"
    }
   ],
   "source": [
    "plt.hist(residual, bins=30);\n",
    "\n",
    "plt.xlabel('Residuals')\n",
    "plt.ylabel('Count')\n",
    "plt.title('Histogram of Residual distribution', fontweight='bold')\n",
    "plt.show()"
   ]
  },
  {
   "cell_type": "markdown",
   "id": "58d87bb3",
   "metadata": {},
   "source": [
    "The above histogram plot justifies our hypothesis that the distribution is approximately normal, as our predictor variables are able to predict the resale price well"
   ]
  },
  {
   "cell_type": "code",
   "execution_count": 92,
   "id": "b2b4eee7",
   "metadata": {},
   "outputs": [
    {
     "data": {
      "image/png": "[encoded data removed]",
      "text/plain": [
       "<Figure size 1080x1080 with 1 Axes>"
      ]
     },
     "metadata": {
      "needs_background": "light"
     },
     "output_type": "display_data"
    }
   ],
   "source": [
    "plt.figure(figsize=(15, 15))\n",
    "sns.regplot(data=X_train_ss, y=y1_test, x=lr_pred, line_kws={'color': 'red'});\n",
    "plt.xlabel('Predicted price')\n",
    "plt.ylabel('Actual price')\n",
    "plt.title('Regression plot of Actual vs Predicted HDB resale price', fontweight='bold')\n",
    "plt.show()"
   ]
  },
  {
   "cell_type": "markdown",
   "id": "77ab581d",
   "metadata": {},
   "source": [
    "The relationship between the predicted price against the actual price shows a linear trend where the data points are generally falling along the linear line"
   ]
  },
  {
   "cell_type": "markdown",
   "id": "0b28a837",
   "metadata": {},
   "source": [
    "## Hypothesis Testing"
   ]
  },
  {
   "cell_type": "markdown",
   "id": "962eb37f",
   "metadata": {},
   "source": [
    "We conduct hypothesis testing using the t-test statistic to test if the selected features will have an impact on the model's output\n",
    "Our assumption for the null hypothesis is to assume that selected features are statistically similar where they do not have affect the model's output. In order to verify this, we have to check if the p value is greater than 0.05"
   ]
  },
  {
   "cell_type": "code",
   "execution_count": 93,
   "id": "4e81b2aa",
   "metadata": {},
   "outputs": [
    {
     "data": {
      "text/html": [
       "<table class=\"simpletable\">\n",
       "<caption>OLS Regression Results</caption>\n",
       "<tr>\n",
       "  <th>Dep. Variable:</th>      <td>resale_price</td>   <th>  R-squared:         </th>  <td>   0.871</td>  \n",
       "</tr>\n",
       "<tr>\n",
       "  <th>Model:</th>                   <td>OLS</td>       <th>  Adj. R-squared:    </th>  <td>   0.871</td>  \n",
       "</tr>\n",
       "<tr>\n",
       "  <th>Method:</th>             <td>Least Squares</td>  <th>  F-statistic:       </th>  <td>3.371e+04</td> \n",
       "</tr>\n",
       "<tr>\n",
       "  <th>Date:</th>             <td>Fri, 03 Mar 2023</td> <th>  Prob (F-statistic):</th>   <td>  0.00</td>   \n",
       "</tr>\n",
       "<tr>\n",
       "  <th>Time:</th>                 <td>09:48:57</td>     <th>  Log-Likelihood:    </th> <td>-1.8377e+06</td>\n",
       "</tr>\n",
       "<tr>\n",
       "  <th>No. Observations:</th>      <td>149805</td>      <th>  AIC:               </th>  <td>3.675e+06</td> \n",
       "</tr>\n",
       "<tr>\n",
       "  <th>Df Residuals:</th>          <td>149774</td>      <th>  BIC:               </th>  <td>3.676e+06</td> \n",
       "</tr>\n",
       "<tr>\n",
       "  <th>Df Model:</th>              <td>    30</td>      <th>                     </th>      <td> </td>     \n",
       "</tr>\n",
       "<tr>\n",
       "  <th>Covariance Type:</th>      <td>nonrobust</td>    <th>                     </th>      <td> </td>     \n",
       "</tr>\n",
       "</table>\n",
       "<table class=\"simpletable\">\n",
       "<tr>\n",
       "                   <td></td>                      <th>coef</th>     <th>std err</th>      <th>t</th>      <th>P>|t|</th>  <th>[0.025</th>    <th>0.975]</th>  \n",
       "</tr>\n",
       "<tr>\n",
       "  <th>const</th>                               <td>-2.407e+05</td> <td> 1559.747</td> <td> -154.346</td> <td> 0.000</td> <td>-2.44e+05</td> <td>-2.38e+05</td>\n",
       "</tr>\n",
       "<tr>\n",
       "  <th>floor_area_sqm</th>                      <td> 3948.1345</td> <td>    7.941</td> <td>  497.155</td> <td> 0.000</td> <td> 3932.569</td> <td> 3963.700</td>\n",
       "</tr>\n",
       "<tr>\n",
       "  <th>remaining_lease</th>                     <td> 3880.7933</td> <td>   18.265</td> <td>  212.466</td> <td> 0.000</td> <td> 3844.993</td> <td> 3916.593</td>\n",
       "</tr>\n",
       "<tr>\n",
       "  <th>Mature_Estate</th>                       <td> 7.991e+04</td> <td>  543.152</td> <td>  147.124</td> <td> 0.000</td> <td> 7.88e+04</td> <td>  8.1e+04</td>\n",
       "</tr>\n",
       "<tr>\n",
       "  <th>max_floor_lvl</th>                       <td> 4309.7354</td> <td>   37.636</td> <td>  114.511</td> <td> 0.000</td> <td> 4235.970</td> <td> 4383.501</td>\n",
       "</tr>\n",
       "<tr>\n",
       "  <th>storey_range</th>                        <td> 6155.4763</td> <td>   52.984</td> <td>  116.176</td> <td> 0.000</td> <td> 6051.629</td> <td> 6259.324</td>\n",
       "</tr>\n",
       "<tr>\n",
       "  <th>town_MARINE PARADE</th>                  <td> 1.732e+05</td> <td> 1757.440</td> <td>   98.561</td> <td> 0.000</td> <td>  1.7e+05</td> <td> 1.77e+05</td>\n",
       "</tr>\n",
       "<tr>\n",
       "  <th>town_BISHAN</th>                         <td> 7.355e+04</td> <td> 1030.323</td> <td>   71.387</td> <td> 0.000</td> <td> 7.15e+04</td> <td> 7.56e+04</td>\n",
       "</tr>\n",
       "<tr>\n",
       "  <th>town_BUKIT MERAH</th>                    <td> 4.389e+04</td> <td>  790.232</td> <td>   55.547</td> <td> 0.000</td> <td> 4.23e+04</td> <td> 4.54e+04</td>\n",
       "</tr>\n",
       "<tr>\n",
       "  <th>full_flat_type_EXECUTIVE Maisonette</th> <td> 4.722e+04</td> <td>  911.659</td> <td>   51.800</td> <td> 0.000</td> <td> 4.54e+04</td> <td>  4.9e+04</td>\n",
       "</tr>\n",
       "<tr>\n",
       "  <th>town_QUEENSTOWN</th>                     <td> 4.895e+04</td> <td>  901.595</td> <td>   54.293</td> <td> 0.000</td> <td> 4.72e+04</td> <td> 5.07e+04</td>\n",
       "</tr>\n",
       "<tr>\n",
       "  <th>full_flat_type_5 ROOM DBSS</th>          <td> 1.269e+05</td> <td> 1832.689</td> <td>   69.256</td> <td> 0.000</td> <td> 1.23e+05</td> <td> 1.31e+05</td>\n",
       "</tr>\n",
       "<tr>\n",
       "  <th>full_flat_type_3 ROOM Terrace</th>       <td> 3.866e+05</td> <td> 5586.673</td> <td>   69.194</td> <td> 0.000</td> <td> 3.76e+05</td> <td> 3.98e+05</td>\n",
       "</tr>\n",
       "<tr>\n",
       "  <th>town_PUNGGOL</th>                        <td> 3.368e+04</td> <td>  900.417</td> <td>   37.410</td> <td> 0.000</td> <td> 3.19e+04</td> <td> 3.54e+04</td>\n",
       "</tr>\n",
       "<tr>\n",
       "  <th>town_BUKIT TIMAH</th>                    <td>  1.51e+05</td> <td> 2731.734</td> <td>   55.271</td> <td> 0.000</td> <td> 1.46e+05</td> <td> 1.56e+05</td>\n",
       "</tr>\n",
       "<tr>\n",
       "  <th>amenities_within_2km</th>                <td>  882.2676</td> <td>   36.085</td> <td>   24.450</td> <td> 0.000</td> <td>  811.542</td> <td>  952.993</td>\n",
       "</tr>\n",
       "<tr>\n",
       "  <th>town_BEDOK</th>                          <td> -3.29e+04</td> <td>  646.491</td> <td>  -50.888</td> <td> 0.000</td> <td>-3.42e+04</td> <td>-3.16e+04</td>\n",
       "</tr>\n",
       "<tr>\n",
       "  <th>2room_sold</th>                          <td> -325.2404</td> <td>   11.942</td> <td>  -27.235</td> <td> 0.000</td> <td> -348.646</td> <td> -301.835</td>\n",
       "</tr>\n",
       "<tr>\n",
       "  <th>5room_sold</th>                          <td> -171.6195</td> <td>    5.071</td> <td>  -33.842</td> <td> 0.000</td> <td> -181.559</td> <td> -161.680</td>\n",
       "</tr>\n",
       "<tr>\n",
       "  <th>total_dwelling_units</th>                <td> -116.1801</td> <td>    3.050</td> <td>  -38.095</td> <td> 0.000</td> <td> -122.158</td> <td> -110.203</td>\n",
       "</tr>\n",
       "<tr>\n",
       "  <th>town_JURONG WEST</th>                    <td>-3.226e+04</td> <td>  557.053</td> <td>  -57.904</td> <td> 0.000</td> <td>-3.33e+04</td> <td>-3.12e+04</td>\n",
       "</tr>\n",
       "<tr>\n",
       "  <th>Mall_Nearest_Distance</th>               <td>  -11.3546</td> <td>    0.400</td> <td>  -28.370</td> <td> 0.000</td> <td>  -12.139</td> <td>  -10.570</td>\n",
       "</tr>\n",
       "<tr>\n",
       "  <th>town_BUKIT PANJANG</th>                  <td>-4.777e+04</td> <td>  750.127</td> <td>  -63.681</td> <td> 0.000</td> <td>-4.92e+04</td> <td>-4.63e+04</td>\n",
       "</tr>\n",
       "<tr>\n",
       "  <th>town_CHOA CHU KANG</th>                  <td>-4.289e+04</td> <td>  862.609</td> <td>  -49.716</td> <td> 0.000</td> <td>-4.46e+04</td> <td>-4.12e+04</td>\n",
       "</tr>\n",
       "<tr>\n",
       "  <th>full_flat_type_4 ROOM Model A</th>       <td>-1.781e+04</td> <td>  336.310</td> <td>  -52.958</td> <td> 0.000</td> <td>-1.85e+04</td> <td>-1.72e+04</td>\n",
       "</tr>\n",
       "<tr>\n",
       "  <th>town_TAMPINES</th>                       <td>-4.778e+04</td> <td>  663.569</td> <td>  -72.004</td> <td> 0.000</td> <td>-4.91e+04</td> <td>-4.65e+04</td>\n",
       "</tr>\n",
       "<tr>\n",
       "  <th>town_SEMBAWANG</th>                      <td>-7.511e+04</td> <td>  922.395</td> <td>  -81.425</td> <td> 0.000</td> <td>-7.69e+04</td> <td>-7.33e+04</td>\n",
       "</tr>\n",
       "<tr>\n",
       "  <th>town_PASIR RIS</th>                      <td>-7.549e+04</td> <td>  928.254</td> <td>  -81.324</td> <td> 0.000</td> <td>-7.73e+04</td> <td>-7.37e+04</td>\n",
       "</tr>\n",
       "<tr>\n",
       "  <th>town_WOODLANDS</th>                      <td>-7.947e+04</td> <td>  598.217</td> <td> -132.846</td> <td> 0.000</td> <td>-8.06e+04</td> <td>-7.83e+04</td>\n",
       "</tr>\n",
       "<tr>\n",
       "  <th>Hawker_Nearest_Distance</th>             <td>  -20.0907</td> <td>    0.254</td> <td>  -79.046</td> <td> 0.000</td> <td>  -20.589</td> <td>  -19.593</td>\n",
       "</tr>\n",
       "<tr>\n",
       "  <th>public_tpt_dist</th>                     <td> -113.4073</td> <td>    0.683</td> <td> -165.986</td> <td> 0.000</td> <td> -114.746</td> <td> -112.068</td>\n",
       "</tr>\n",
       "</table>\n",
       "<table class=\"simpletable\">\n",
       "<tr>\n",
       "  <th>Omnibus:</th>       <td>15424.568</td> <th>  Durbin-Watson:     </th> <td>   2.009</td> \n",
       "</tr>\n",
       "<tr>\n",
       "  <th>Prob(Omnibus):</th>  <td> 0.000</td>   <th>  Jarque-Bera (JB):  </th> <td>36848.924</td>\n",
       "</tr>\n",
       "<tr>\n",
       "  <th>Skew:</th>           <td> 0.619</td>   <th>  Prob(JB):          </th> <td>    0.00</td> \n",
       "</tr>\n",
       "<tr>\n",
       "  <th>Kurtosis:</th>       <td> 5.090</td>   <th>  Cond. No.          </th> <td>7.15e+04</td> \n",
       "</tr>\n",
       "</table><br/><br/>Notes:<br/>[1] Standard Errors assume that the covariance matrix of the errors is correctly specified.<br/>[2] The condition number is large, 7.15e+04. This might indicate that there are<br/>strong multicollinearity or other numerical problems."
      ],
      "text/plain": [
       "<class 'statsmodels.iolib.summary.Summary'>\n",
       "\"\"\"\n",
       "                            OLS Regression Results                            \n",
       "==============================================================================\n",
       "Dep. Variable:           resale_price   R-squared:                       0.871\n",
       "Model:                            OLS   Adj. R-squared:                  0.871\n",
       "Method:                 Least Squares   F-statistic:                 3.371e+04\n",
       "Date:                Fri, 03 Mar 2023   Prob (F-statistic):               0.00\n",
       "Time:                        09:48:57   Log-Likelihood:            -1.8377e+06\n",
       "No. Observations:              149805   AIC:                         3.675e+06\n",
       "Df Residuals:                  149774   BIC:                         3.676e+06\n",
       "Df Model:                          30                                         \n",
       "Covariance Type:            nonrobust                                         \n",
       "=======================================================================================================\n",
       "                                          coef    std err          t      P>|t|      [0.025      0.975]\n",
       "-------------------------------------------------------------------------------------------------------\n",
       "const                               -2.407e+05   1559.747   -154.346      0.000   -2.44e+05   -2.38e+05\n",
       "floor_area_sqm                       3948.1345      7.941    497.155      0.000    3932.569    3963.700\n",
       "remaining_lease                      3880.7933     18.265    212.466      0.000    3844.993    3916.593\n",
       "Mature_Estate                        7.991e+04    543.152    147.124      0.000    7.88e+04     8.1e+04\n",
       "max_floor_lvl                        4309.7354     37.636    114.511      0.000    4235.970    4383.501\n",
       "storey_range                         6155.4763     52.984    116.176      0.000    6051.629    6259.324\n",
       "town_MARINE PARADE                   1.732e+05   1757.440     98.561      0.000     1.7e+05    1.77e+05\n",
       "town_BISHAN                          7.355e+04   1030.323     71.387      0.000    7.15e+04    7.56e+04\n",
       "town_BUKIT MERAH                     4.389e+04    790.232     55.547      0.000    4.23e+04    4.54e+04\n",
       "full_flat_type_EXECUTIVE Maisonette  4.722e+04    911.659     51.800      0.000    4.54e+04     4.9e+04\n",
       "town_QUEENSTOWN                      4.895e+04    901.595     54.293      0.000    4.72e+04    5.07e+04\n",
       "full_flat_type_5 ROOM DBSS           1.269e+05   1832.689     69.256      0.000    1.23e+05    1.31e+05\n",
       "full_flat_type_3 ROOM Terrace        3.866e+05   5586.673     69.194      0.000    3.76e+05    3.98e+05\n",
       "town_PUNGGOL                         3.368e+04    900.417     37.410      0.000    3.19e+04    3.54e+04\n",
       "town_BUKIT TIMAH                      1.51e+05   2731.734     55.271      0.000    1.46e+05    1.56e+05\n",
       "amenities_within_2km                  882.2676     36.085     24.450      0.000     811.542     952.993\n",
       "town_BEDOK                           -3.29e+04    646.491    -50.888      0.000   -3.42e+04   -3.16e+04\n",
       "2room_sold                           -325.2404     11.942    -27.235      0.000    -348.646    -301.835\n",
       "5room_sold                           -171.6195      5.071    -33.842      0.000    -181.559    -161.680\n",
       "total_dwelling_units                 -116.1801      3.050    -38.095      0.000    -122.158    -110.203\n",
       "town_JURONG WEST                    -3.226e+04    557.053    -57.904      0.000   -3.33e+04   -3.12e+04\n",
       "Mall_Nearest_Distance                 -11.3546      0.400    -28.370      0.000     -12.139     -10.570\n",
       "town_BUKIT PANJANG                  -4.777e+04    750.127    -63.681      0.000   -4.92e+04   -4.63e+04\n",
       "town_CHOA CHU KANG                  -4.289e+04    862.609    -49.716      0.000   -4.46e+04   -4.12e+04\n",
       "full_flat_type_4 ROOM Model A       -1.781e+04    336.310    -52.958      0.000   -1.85e+04   -1.72e+04\n",
       "town_TAMPINES                       -4.778e+04    663.569    -72.004      0.000   -4.91e+04   -4.65e+04\n",
       "town_SEMBAWANG                      -7.511e+04    922.395    -81.425      0.000   -7.69e+04   -7.33e+04\n",
       "town_PASIR RIS                      -7.549e+04    928.254    -81.324      0.000   -7.73e+04   -7.37e+04\n",
       "town_WOODLANDS                      -7.947e+04    598.217   -132.846      0.000   -8.06e+04   -7.83e+04\n",
       "Hawker_Nearest_Distance               -20.0907      0.254    -79.046      0.000     -20.589     -19.593\n",
       "public_tpt_dist                      -113.4073      0.683   -165.986      0.000    -114.746    -112.068\n",
       "==============================================================================\n",
       "Omnibus:                    15424.568   Durbin-Watson:                   2.009\n",
       "Prob(Omnibus):                  0.000   Jarque-Bera (JB):            36848.924\n",
       "Skew:                           0.619   Prob(JB):                         0.00\n",
       "Kurtosis:                       5.090   Cond. No.                     7.15e+04\n",
       "==============================================================================\n",
       "\n",
       "Notes:\n",
       "[1] Standard Errors assume that the covariance matrix of the errors is correctly specified.\n",
       "[2] The condition number is large, 7.15e+04. This might indicate that there are\n",
       "strong multicollinearity or other numerical problems.\n",
       "\"\"\""
      ]
     },
     "execution_count": 93,
     "metadata": {},
     "output_type": "execute_result"
    }
   ],
   "source": [
    "import statsmodels.api as sm\n",
    "\n",
    "\n",
    "X_stat = sm.add_constant(X1, prepend=True)\n",
    "model = sm.OLS(y1, X_stat).fit()\n",
    "model.summary()"
   ]
  },
  {
   "cell_type": "markdown",
   "id": "96c5393a",
   "metadata": {},
   "source": [
    "From the results in the summary table, we can assume that all of the selected features are statistifically significant where they will affect the model's output, as their p-value is lower than 0.05. Hence we reject the null hypothesis"
   ]
  },
  {
   "cell_type": "markdown",
   "id": "89a766e9",
   "metadata": {},
   "source": [
    "## Coefficient ranking and Analysis"
   ]
  },
  {
   "cell_type": "code",
   "execution_count": 94,
   "id": "1ffc2d45",
   "metadata": {},
   "outputs": [
    {
     "data": {
      "image/png": "[encoded data removed]",
      "text/plain": [
       "<Figure size 1080x1080 with 1 Axes>"
      ]
     },
     "metadata": {
      "needs_background": "light"
     },
     "output_type": "display_data"
    }
   ],
   "source": [
    "# Create a dataframe of feature importance\n",
    "plt.figure(figsize=(15, 15))\n",
    "df2 = pd.DataFrame({'Col1': np.abs(lr.coef_), 'Col2': X1.columns})\n",
    "\n",
    "# Sort the dataframe by feature importance in descending order\n",
    "importance = df2.sort_values(by='Col1', ascending=False).head(10)\n",
    "\n",
    "sns.barplot(data=importance, x='Col1', y='Col2', orient='h', color='blue')\n",
    "plt.title('Coefficient Ranking of Top Features', fontweight='bold')\n",
    "plt.xlabel(\"Magnitude of Coefficient weights\")\n",
    "plt.ylabel(\"Selected Features\")\n",
    "plt.show()"
   ]
  },
  {
   "cell_type": "markdown",
   "id": "de1a0747",
   "metadata": {},
   "source": [
    "The above bar plot shows the significance of each feature used in the Linear Regression Modelling. The top variables contribute more weights into forecasting the resale price of HDB flats, hence they have stronger predictive power. According to the plot, we can see that the top 3 variables are **floor area**, **Mature Estate** and **Number of Remaining Lease years** of the HDB resale flats. This supports our claim that potential HDB buyers will look into these features when they are deciding to purchase a resale flat"
   ]
  },
  {
   "cell_type": "markdown",
   "id": "36b2ca4c",
   "metadata": {},
   "source": [
    "## *Predict test data*"
   ]
  },
  {
   "cell_type": "markdown",
   "id": "874ecb28",
   "metadata": {},
   "source": [
    "The test dataset will be cleaned and pre-processed in the same manner as shown in part 1 of the code notebook in order to have it organised in the designated format for prediction on unseen data at the Kaggle platform"
   ]
  },
  {
   "cell_type": "code",
   "execution_count": 96,
   "id": "094f7d7e",
   "metadata": {},
   "outputs": [
    {
     "data": {
      "text/plain": [
       "(16737, 77)"
      ]
     },
     "execution_count": 96,
     "metadata": {},
     "output_type": "execute_result"
    }
   ],
   "source": [
    "test = pd.read_csv('../datasets/test.csv')\n",
    "test.shape"
   ]
  },
  {
   "cell_type": "code",
   "execution_count": 97,
   "id": "5aa8f253",
   "metadata": {},
   "outputs": [
    {
     "data": {
      "text/plain": [
       "Hawker_Within_500m       10755\n",
       "Mall_Within_500m         10292\n",
       "Hawker_Within_1km         6729\n",
       "Hawker_Within_2km         3254\n",
       "Mall_Within_1km           2786\n",
       "Mall_Within_2km            213\n",
       "Mall_Nearest_Distance       84\n",
       "mrt_name                     0\n",
       "mrt_nearest_distance         0\n",
       "hawker_market_stalls         0\n",
       "dtype: int64"
      ]
     },
     "execution_count": 97,
     "metadata": {},
     "output_type": "execute_result"
    }
   ],
   "source": [
    "test.isnull().sum().sort_values(ascending=False).head(10)"
   ]
  },
  {
   "cell_type": "code",
   "execution_count": 98,
   "id": "6aa8d308",
   "metadata": {},
   "outputs": [],
   "source": [
    "#Impute missing values with mean in order to maintain shape of dataset for kaggle prediction\n",
    "mall_dist = test['Mall_Nearest_Distance'].mean()\n",
    "test['Mall_Nearest_Distance'] = dummy_test['Mall_Nearest_Distance'].fillna(mall_dist)"
   ]
  },
  {
   "cell_type": "code",
   "execution_count": 99,
   "id": "48f1d20e",
   "metadata": {},
   "outputs": [],
   "source": [
    "test.dropna(subset=['Mall_Nearest_Distance'], inplace=True)"
   ]
  },
  {
   "cell_type": "code",
   "execution_count": 100,
   "id": "4ec8c17c",
   "metadata": {},
   "outputs": [
    {
     "data": {
      "text/plain": [
       "(16737, 77)"
      ]
     },
     "execution_count": 100,
     "metadata": {},
     "output_type": "execute_result"
    }
   ],
   "source": [
    "test.shape"
   ]
  },
  {
   "cell_type": "code",
   "execution_count": 101,
   "id": "a9da9d4c",
   "metadata": {},
   "outputs": [],
   "source": [
    "#Impute zeroes to all hawker centers/malls radial threshold distance with missing values similar to train dataset\n",
    "test['Hawker_Within_500m'] = test['Hawker_Within_500m'].fillna(0.0)\n",
    "test['Hawker_Within_1km'] = test['Hawker_Within_1km'].fillna(0.0)\n",
    "test['Hawker_Within_2km'] = test['Hawker_Within_2km'].fillna(0.0)\n",
    "test['Mall_Within_1km'] = test['Mall_Within_1km'].fillna(0.0)\n",
    "test['Mall_Within_2km'] = test['Mall_Within_2km'].fillna(0.0)\n",
    "test['Mall_Within_500m'] = test['Mall_Within_500m'].fillna(0.0)"
   ]
  },
  {
   "cell_type": "markdown",
   "id": "2aa3e0e7",
   "metadata": {},
   "source": [
    "## Feature engineering"
   ]
  },
  {
   "cell_type": "code",
   "execution_count": 102,
   "id": "f1d4e99f",
   "metadata": {},
   "outputs": [],
   "source": [
    "# create a dictionary of unique index values similar to train dataset\n",
    "unique_val = sorted(test['storey_range'].unique())\n",
    "storey_dict = {val: k for k, val in enumerate(unique_val)}\n",
    "\n",
    "# map the column to the dictionary\n",
    "test['storey_range'] = test['storey_range'].map(storey_dict)"
   ]
  },
  {
   "cell_type": "code",
   "execution_count": 103,
   "id": "bf8d1af8",
   "metadata": {},
   "outputs": [],
   "source": [
    "#custom function to map the different towns based on whether they are mature estates or not\n",
    "def estate(row):\n",
    "    town_list = ['ANG MO KIO', 'BEDOK', 'BISHAN', 'BUKIT MERAH', 'BUKIT TIMAH', 'CENTRAL AREA', 'CLEMENTI', \n",
    "                 'GEYLANG', 'KALLANG/WHAMPOA', 'MARINE PARADE', 'PASIR RIS', 'QUEENSTOWN', 'SERANGOON', \n",
    "                 'TAMPINES', 'TOA PAYOH']\n",
    "    if row in town_list:\n",
    "        return 1\n",
    "    else:\n",
    "        return 0\n",
    "        \n",
    "test['Mature_Estate'] = test['town'].apply(estate)"
   ]
  },
  {
   "cell_type": "code",
   "execution_count": 104,
   "id": "4c0e233e",
   "metadata": {},
   "outputs": [],
   "source": [
    "#Create new features from existing variables to improve the modelling process\n",
    "#remaining_lease: Number of remaining lease years of the flat\n",
    "#amenities_within_2km: Combined malls and hawker centers within 2km radius\n",
    "#public_tpt_dis: Average distance to nearest public transport\n",
    "test['remaining_lease'] = test['lease_commence_date'] + 99 - test['Tranc_Year']\n",
    "test['amenities_within_2km'] = test['Mall_Within_2km'] + test['Hawker_Within_2km']\n",
    "test['public_tpt_dist'] = (test['mrt_nearest_distance'] + test['bus_stop_nearest_distance']) / 2"
   ]
  },
  {
   "cell_type": "code",
   "execution_count": 106,
   "id": "98053579",
   "metadata": {},
   "outputs": [],
   "source": [
    "#Pass in selected features for modelling, one-hot encode categorial ones and drop redundant columns\n",
    "test1 = test[['remaining_lease', 'max_floor_lvl', '3room_sold', 'floor_area_sqm', 'storey_range', '5room_sold', \n",
    "                          'exec_sold', 'Mature_Estate', 'public_tpt_dist', 'amenities_within_2km', \n",
    "                          'total_dwelling_units', 'Hawker_Nearest_Distance', 'full_flat_type', 'town', 'Mall_Nearest_Distance', '2room_sold']]\n",
    "ohe1 = pd.get_dummies(test1[['full_flat_type', 'town']], drop_first=True)\n",
    "df1 = pd.concat([test1, ohe1], axis=1)\n",
    "df1.drop(columns=['full_flat_type', 'town'], inplace=True)"
   ]
  },
  {
   "cell_type": "markdown",
   "id": "60b0aa4d",
   "metadata": {},
   "source": [
    "### Final Data cleaning for predictions"
   ]
  },
  {
   "cell_type": "code",
   "execution_count": 107,
   "id": "8757c39d",
   "metadata": {},
   "outputs": [
    {
     "data": {
      "text/plain": [
       "Index(['remaining_lease', 'max_floor_lvl', '3room_sold', 'floor_area_sqm',\n",
       "       'storey_range', '5room_sold', 'exec_sold', 'Mature_Estate',\n",
       "       'public_tpt_dist', 'amenities_within_2km', 'total_dwelling_units',\n",
       "       'Hawker_Nearest_Distance', 'Mall_Nearest_Distance', '2room_sold',\n",
       "       'full_flat_type_2 ROOM Improved', 'full_flat_type_2 ROOM Model A',\n",
       "       'full_flat_type_2 ROOM Premium Apartment',\n",
       "       'full_flat_type_2 ROOM Standard', 'full_flat_type_3 ROOM DBSS',\n",
       "       'full_flat_type_3 ROOM Improved', 'full_flat_type_3 ROOM Model A',\n",
       "       'full_flat_type_3 ROOM New Generation',\n",
       "       'full_flat_type_3 ROOM Premium Apartment',\n",
       "       'full_flat_type_3 ROOM Simplified', 'full_flat_type_3 ROOM Standard',\n",
       "       'full_flat_type_3 ROOM Terrace', 'full_flat_type_4 ROOM Adjoined flat',\n",
       "       'full_flat_type_4 ROOM DBSS', 'full_flat_type_4 ROOM Improved',\n",
       "       'full_flat_type_4 ROOM Model A', 'full_flat_type_4 ROOM Model A2',\n",
       "       'full_flat_type_4 ROOM New Generation',\n",
       "       'full_flat_type_4 ROOM Premium Apartment',\n",
       "       'full_flat_type_4 ROOM Premium Apartment Loft',\n",
       "       'full_flat_type_4 ROOM Simplified', 'full_flat_type_4 ROOM Standard',\n",
       "       'full_flat_type_4 ROOM Type S1', 'full_flat_type_5 ROOM Adjoined flat',\n",
       "       'full_flat_type_5 ROOM DBSS', 'full_flat_type_5 ROOM Improved',\n",
       "       'full_flat_type_5 ROOM Improved-Maisonette',\n",
       "       'full_flat_type_5 ROOM Model A',\n",
       "       'full_flat_type_5 ROOM Model A-Maisonette',\n",
       "       'full_flat_type_5 ROOM Premium Apartment',\n",
       "       'full_flat_type_5 ROOM Premium Apartment Loft',\n",
       "       'full_flat_type_5 ROOM Standard', 'full_flat_type_5 ROOM Type S2',\n",
       "       'full_flat_type_EXECUTIVE Adjoined flat',\n",
       "       'full_flat_type_EXECUTIVE Apartment',\n",
       "       'full_flat_type_EXECUTIVE Maisonette',\n",
       "       'full_flat_type_EXECUTIVE Premium Apartment',\n",
       "       'full_flat_type_EXECUTIVE Premium Maisonette',\n",
       "       'full_flat_type_MULTI-GENERATION Multi Generation', 'town_BEDOK',\n",
       "       'town_BISHAN', 'town_BUKIT BATOK', 'town_BUKIT MERAH',\n",
       "       'town_BUKIT PANJANG', 'town_BUKIT TIMAH', 'town_CENTRAL AREA',\n",
       "       'town_CHOA CHU KANG', 'town_CLEMENTI', 'town_GEYLANG', 'town_HOUGANG',\n",
       "       'town_JURONG EAST', 'town_JURONG WEST', 'town_KALLANG/WHAMPOA',\n",
       "       'town_MARINE PARADE', 'town_PASIR RIS', 'town_PUNGGOL',\n",
       "       'town_QUEENSTOWN', 'town_SEMBAWANG', 'town_SENGKANG', 'town_SERANGOON',\n",
       "       'town_TAMPINES', 'town_TOA PAYOH', 'town_WOODLANDS', 'town_YISHUN'],\n",
       "      dtype='object')"
      ]
     },
     "execution_count": 107,
     "metadata": {},
     "output_type": "execute_result"
    }
   ],
   "source": [
    "df1.columns"
   ]
  },
  {
   "cell_type": "code",
   "execution_count": 108,
   "id": "9b20c908",
   "metadata": {},
   "outputs": [
    {
     "data": {
      "text/plain": [
       "Index(['floor_area_sqm', 'remaining_lease', 'Mature_Estate', 'max_floor_lvl',\n",
       "       'storey_range', 'town_MARINE PARADE', 'town_BISHAN', 'town_BUKIT MERAH',\n",
       "       'full_flat_type_EXECUTIVE Maisonette', 'town_QUEENSTOWN',\n",
       "       'full_flat_type_5 ROOM DBSS', 'full_flat_type_3 ROOM Terrace',\n",
       "       'town_PUNGGOL', 'town_BUKIT TIMAH', 'amenities_within_2km',\n",
       "       'town_BEDOK', '2room_sold', '5room_sold', 'total_dwelling_units',\n",
       "       'town_JURONG WEST', 'Mall_Nearest_Distance', 'town_BUKIT PANJANG',\n",
       "       'town_CHOA CHU KANG', 'full_flat_type_4 ROOM Model A', 'town_TAMPINES',\n",
       "       'town_SEMBAWANG', 'town_PASIR RIS', 'town_WOODLANDS',\n",
       "       'Hawker_Nearest_Distance', 'public_tpt_dist'],\n",
       "      dtype='object')"
      ]
     },
     "execution_count": 108,
     "metadata": {},
     "output_type": "execute_result"
    }
   ],
   "source": [
    "#Pass in confirmed column features for prediction\n",
    "#final_df = df2\n",
    "final_df = df1[features]\n",
    "final_df.columns"
   ]
  },
  {
   "cell_type": "code",
   "execution_count": 109,
   "id": "114f8d65",
   "metadata": {},
   "outputs": [
    {
     "data": {
      "text/plain": [
       "floor_area_sqm                         float64\n",
       "remaining_lease                          int64\n",
       "Mature_Estate                            int64\n",
       "max_floor_lvl                            int64\n",
       "storey_range                             int64\n",
       "town_MARINE PARADE                       uint8\n",
       "town_BISHAN                              uint8\n",
       "town_BUKIT MERAH                         uint8\n",
       "full_flat_type_EXECUTIVE Maisonette      uint8\n",
       "town_QUEENSTOWN                          uint8\n",
       "full_flat_type_5 ROOM DBSS               uint8\n",
       "full_flat_type_3 ROOM Terrace            uint8\n",
       "town_PUNGGOL                             uint8\n",
       "town_BUKIT TIMAH                         uint8\n",
       "amenities_within_2km                   float64\n",
       "town_BEDOK                               uint8\n",
       "2room_sold                               int64\n",
       "5room_sold                               int64\n",
       "total_dwelling_units                     int64\n",
       "town_JURONG WEST                         uint8\n",
       "Mall_Nearest_Distance                  float64\n",
       "town_BUKIT PANJANG                       uint8\n",
       "town_CHOA CHU KANG                       uint8\n",
       "full_flat_type_4 ROOM Model A            uint8\n",
       "town_TAMPINES                            uint8\n",
       "town_SEMBAWANG                           uint8\n",
       "town_PASIR RIS                           uint8\n",
       "town_WOODLANDS                           uint8\n",
       "Hawker_Nearest_Distance                float64\n",
       "public_tpt_dist                        float64\n",
       "dtype: object"
      ]
     },
     "execution_count": 109,
     "metadata": {},
     "output_type": "execute_result"
    }
   ],
   "source": [
    "final_df.dtypes"
   ]
  },
  {
   "cell_type": "code",
   "execution_count": 110,
   "id": "4f4d3a8a",
   "metadata": {},
   "outputs": [
    {
     "data": {
      "text/plain": [
       "Index(['floor_area_sqm', 'remaining_lease', 'Mature_Estate', 'max_floor_lvl',\n",
       "       'storey_range', 'town_MARINE PARADE', 'town_BISHAN', 'town_BUKIT MERAH',\n",
       "       'full_flat_type_EXECUTIVE Maisonette', 'town_QUEENSTOWN',\n",
       "       'full_flat_type_5 ROOM DBSS', 'full_flat_type_3 ROOM Terrace',\n",
       "       'town_PUNGGOL', 'town_BUKIT TIMAH', 'amenities_within_2km',\n",
       "       'town_BEDOK', '2room_sold', '5room_sold', 'total_dwelling_units',\n",
       "       'town_JURONG WEST', 'Mall_Nearest_Distance', 'town_BUKIT PANJANG',\n",
       "       'town_CHOA CHU KANG', 'full_flat_type_4 ROOM Model A', 'town_TAMPINES',\n",
       "       'town_SEMBAWANG', 'town_PASIR RIS', 'town_WOODLANDS',\n",
       "       'Hawker_Nearest_Distance', 'public_tpt_dist'],\n",
       "      dtype='object')"
      ]
     },
     "execution_count": 110,
     "metadata": {},
     "output_type": "execute_result"
    }
   ],
   "source": [
    "X1.columns"
   ]
  },
  {
   "cell_type": "code",
   "execution_count": 111,
   "id": "a1892c19",
   "metadata": {},
   "outputs": [
    {
     "data": {
      "text/plain": [
       "(16737, 30)"
      ]
     },
     "execution_count": 111,
     "metadata": {},
     "output_type": "execute_result"
    }
   ],
   "source": [
    "#Scale confirmed column features for prediction\n",
    "scaled_pred = ss.transform(final_df)\n",
    "scaled_pred.shape"
   ]
  },
  {
   "cell_type": "code",
   "execution_count": 112,
   "id": "dd415988",
   "metadata": {},
   "outputs": [
    {
     "data": {
      "text/plain": [
       "(149805, 30)"
      ]
     },
     "execution_count": 112,
     "metadata": {},
     "output_type": "execute_result"
    }
   ],
   "source": [
    "X1.shape"
   ]
  },
  {
   "cell_type": "code",
   "execution_count": 113,
   "id": "1c845021",
   "metadata": {},
   "outputs": [
    {
     "data": {
      "text/plain": [
       "array([370006.77649275, 512373.92597072, 371330.6265288 , 258594.17463549,\n",
       "       458429.39761729])"
      ]
     },
     "execution_count": 113,
     "metadata": {},
     "output_type": "execute_result"
    }
   ],
   "source": [
    "#Predict resale prices based on final model\n",
    "dummy_price = lr.predict(scaled_pred)\n",
    "dummy_price[:5]"
   ]
  },
  {
   "cell_type": "code",
   "execution_count": 114,
   "id": "e42d54ec",
   "metadata": {},
   "outputs": [],
   "source": [
    "dummy_set = pd.DataFrame({'Id': dummy_test['id'], 'Predicted': dummy_price})\n",
    "dummy_set.to_csv('../datasets/final_pred_FE_30features.csv', index=False)"
   ]
  },
  {
   "cell_type": "markdown",
   "id": "5ffd4ab7",
   "metadata": {},
   "source": [
    "## Conclusion\n",
    "\n",
    "In summary, we have sucessfully managed to successfully construct a Linear Regression model that is capable of predicting the HDB resale prices in Singapore through the selection of key features that can potentially influence the the target output. Beginning with importing the necessary libraries and cleaning the data, we were able to conduct several key analysis at the exploratory data analysis stage where important features that can impact the HDB resale price were identified and analysed. Thereafter, new features were engineered relative to the existing ones that were found to have certain degree of linearity with regards to the target price variable. These features were eventually selected and compiled into a final dataset which was passed in for Linear Regression modelling, as well as optimising the key variables through Lasso and Ridge regularization to determine the final set of useful features for predicting the HDB resale price. By running through this model workflow, we have managed to achieve and **RMSE** of **51814** for our Linear Regression Model. With this chain of thought, we have als understood the important features that can contribute in determining the final price of a HDB resale flat, where our clients can tap upon on to devise a range of prices when advertising for their property. This will allow them to reap better sale profits and commisions in the property market, as well as assist buyers in determining the correct price range when purchasing a desired type of property in the market."
   ]
  },
  {
   "cell_type": "markdown",
   "id": "f0e2e928",
   "metadata": {},
   "source": [
    "## Recommendations\n",
    "\n",
    "The results from the newly built machine learning model by Linear Regression have successfully proven that our top key predictors are what clients tend to look out for when considering to purchase a resale flat, as they can significantly affect the final sale price of HDB resale flats in Singapore. In spite of this successful outcome on our first prototype model, we can definitely look into further analysis and research to improve the predictive power of the finalised model for deployment to production. Some of these examples include:\n",
    "\n",
    "1. Experimenting using other advanced regression techniques such Random Forest, Gradient Boosting regression techniques. Linear Regression is a machine learning model which is highly reliant on using features with strong correlation to predict the resale price accurately. Therefore, it will pale in comparison to these tree-based regression techniques that are more robust in handling features with weaker correlations. Hence, we should definitely research and incorporate them so as to further analyse if they will have any impact on the final resale price\n",
    "\n",
    "2. As there are many available sub-features in the various categorial groups, further in-depth analysis could be done by breaking down to the different attributes surrounding the flat types/flat models where seperate models can be constructed to predict the prices of each type for property and housing agents to tap on, as the resale prices of these different flats might be affected by the different features individually\n",
    "\n",
    "3. Lastly, we can explore other features that potential buyers could take into consideration also, such as the property's proximity to the Central Business District(CBD) area of Singapore, nature parks, as well as other recreational ammenities that could plausibly affect the overall HDB resale price in the market."
   ]
  },
  {
   "cell_type": "markdown",
   "id": "98fce17b",
   "metadata": {},
   "source": [
    "## Sources"
   ]
  },
  {
   "cell_type": "markdown",
   "id": "54a1dc20",
   "metadata": {},
   "source": [
    "1. https://myestate.sg/news/view/68\n",
    "2. https://www.homequarters.com.sg/2020/06/03/2013-the-fateful-year-that-caused-hdb-prices-to-plunge-10/\n",
    "3. https://towardsdatascience.com/a-practical-introduction-to-9-regression-algorithms-389057f86eb9"
   ]
  }
 ],
 "metadata": {
  "kernelspec": {
   "display_name": "Python 3 (ipykernel)",
   "language": "python",
   "name": "python3"
  },
  "language_info": {
   "codemirror_mode": {
    "name": "ipython",
    "version": 3
   },
   "file_extension": ".py",
   "mimetype": "text/x-python",
   "name": "python",
   "nbconvert_exporter": "python",
   "pygments_lexer": "ipython3",
   "version": "3.9.12"
  },
  "vscode": {
   "interpreter": {
    "hash": "6db0d273f6c4147badeeac3ceea88cb138ad29a05d685860e27490ce22656c68"
   }
  }
 },
 "nbformat": 4,
 "nbformat_minor": 5
}
